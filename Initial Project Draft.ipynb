{
 "cells": [
  {
   "cell_type": "markdown",
   "id": "d45a8fb5",
   "metadata": {},
   "source": [
    "# Packages"
   ]
  },
  {
   "cell_type": "code",
   "execution_count": 1,
   "id": "c6090350",
   "metadata": {},
   "outputs": [
    {
     "name": "stderr",
     "output_type": "stream",
     "text": [
      "[nltk_data] Downloading package stopwords to\n",
      "[nltk_data]     /Users/nicogouveia/nltk_data...\n",
      "[nltk_data]   Package stopwords is already up-to-date!\n",
      "[nltk_data] Downloading package wordnet to\n",
      "[nltk_data]     /Users/nicogouveia/nltk_data...\n",
      "[nltk_data]   Package wordnet is already up-to-date!\n"
     ]
    }
   ],
   "source": [
    "#General\n",
    "import matplotlib\n",
    "import math\n",
    "import pandas\n",
    "\n",
    "#Sourcing Tweets\n",
    "import tweepy \n",
    "import datetime\n",
    "\n",
    "import snscrape.modules.twitter as sntwitter\n",
    "import itertools\n",
    "\n",
    "#Preprocessing\n",
    "import nltk\n",
    "\n",
    "nltk.download(\"stopwords\")\n",
    "nltk.download('wordnet')\n",
    "from nltk.corpus import stopwords\n",
    "\n",
    "#Sentiment analysis\n",
    "from textblob import Word, TextBlob\n",
    "\n",
    "from transformers import pipeline\n",
    "\n",
    "#Plotting Sentiment\n",
    "import folium\n"
   ]
  },
  {
   "cell_type": "markdown",
   "id": "aba94466",
   "metadata": {},
   "source": [
    "#  Sourcing tweets \n"
   ]
  },
  {
   "cell_type": "code",
   "execution_count": 2,
   "id": "28de7d65",
   "metadata": {},
   "outputs": [],
   "source": [
    "#Get API keys & tokens from local computer\n",
    "\n",
    "#TODO add in images to jupyter notebook that show .txt file formatting with hidden tokens\n",
    "\n",
    "with open('Geo tweet sentiment keysntokens.txt') as file:\n",
    "    text = file.read()\n",
    "    split = text.rsplit(':')\n",
    "    \n",
    "    consumer_key = split[1]\n",
    "    consumer_secret = split[3]\n",
    "    access_token = split[5]\n",
    "    access_secret = split[7]\n",
    "    Bearertok = split[9]\n"
   ]
  },
  {
   "cell_type": "code",
   "execution_count": 3,
   "id": "824161b5",
   "metadata": {},
   "outputs": [
    {
     "name": "stdout",
     "output_type": "stream",
     "text": [
      "Zooming in to see the detail around the Snowbird ski area of UT.  I usually turn off my music before recording, but… https://t.co/X2qG6wSHWp\n",
      "3/3\n",
      "In the textureless version you can more clearly see were the trees were cleared for ski trails. https://t.co/Qzfd3E4NSR\n",
      "2/3 \n",
      "Even though the basemap in the textured LiDAR map is exactly the same, the green areas with trees looks like a… https://t.co/aQrtepnX16\n",
      "1/3 \n",
      "Several flavors of Telluride CO today.  3 versions of a 1955 USGS map and a 1904 one.  The 1955 is ground only… https://t.co/2J7xsgnkGD\n",
      "Anyone know if you can collapse symbology en masse in ArcGIS Pro?  In ArcMap, I just select everything and hit the… https://t.co/xTU8Kduj51\n",
      "RT @FalaciaDelDia: Buen día, mundo.\n",
      "\n",
      "Paso a notificarles que ya se encuentra adornando mi pared esta preciosidad de mapa geológico de Sudam…\n",
      "Geologic Map of Taiwan - Geologic Survey of Taiwan - 1953\n",
      "\n",
      "3D render\n",
      "\n",
      "#geology #geography #cartography #GIS #b3d… https://t.co/hwEOHa2zPD\n",
      "#Borneo #geology #GIS #geography #cartography #arcgispro #b3d\n",
      "I can't always take requests, but when I can, I'm happy to oblige.  I recently had someone ask me for Borneo and I… https://t.co/zkLUWnoH1S\n",
      "With this full quad you can more clearly see why Fort Valley is called a valley within a valley.\n",
      "Front Royal, Virginia, West Virginia - 30 x 60 Minute Topographic Series - USGS - 1986\n",
      "\n",
      "3D render\n",
      "\n",
      "#Virginia #usgs… https://t.co/S4hg7QGCbW\n",
      "Peta Geologi Indonesia is now available at Muir Way.\n",
      "\n",
      "https://t.co/kiyZL1coHs https://t.co/aYiUUR8og6\n",
      "I was actually just told that if you use software to produce something or if another person is capable of doing it… https://t.co/EVzp0qBU4x\n",
      "RT @MPaulhiacPison: Enfin encadrée. cadeau de Noël 2020 (par mon mari). Elle est belle non ? Thanks @geo_spatialist. \n",
      "\n",
      "pour ceux qui veulen…\n",
      "One more of Fort Valley, VA (the valley within a valley) using Sentinel 2 imagery from November 2021 with some fall… https://t.co/vUUXgWUIQ1\n",
      "Fort Valley area, Virginia.  Texture-less, with Sentinel-2 imagery from last November and with a 1986 USGS map. Ele… https://t.co/Dsx0m4B4uA\n",
      "Downside is that I now have a bunch of folders and files with the word \"gore\" in the names.\n",
      "Playing with globe gores in 3D.  The gores shapes and surface were made in @ArcGISPro then brought into Blender for… https://t.co/SxEuaDSES4\n",
      "Good news, everyone! Muir Way now has a partner in the UK. When you place your order through Muir Way and you’re lo… https://t.co/AucVmSIOes\n"
     ]
    }
   ],
   "source": [
    "#Generating API\n",
    "\n",
    "auth = tweepy.OAuth1UserHandler(\n",
    "   consumer_key, consumer_secret, access_token, access_secret)\n",
    "\n",
    "api = tweepy.API(auth,wait_on_rate_limit=True)\n",
    "\n",
    "#testing\n",
    "public_tweets = api.home_timeline()\n",
    "for tweet in public_tweets:\n",
    "    print(tweet.text)\n",
    "    "
   ]
  },
  {
   "cell_type": "code",
   "execution_count": 4,
   "id": "5315be40",
   "metadata": {},
   "outputs": [
    {
     "data": {
      "text/plain": [
       "[{'tweet_id': 1500308930970353667,\n",
       "  'name': 'Narendra Modi',\n",
       "  'screen_name': 'narendramodi',\n",
       "  'retweet_count': 3547,\n",
       "  'text': 'Leaving for Pune where I will be taking part in various programmes including the inauguration of the Metro Rail Project, laying the foundation stone for various development works and attending the Golden Jubilee celebrations of Symbiosis University. https://t.co/EzGbRJ36or',\n",
       "  'mined_at': datetime.datetime(2022, 3, 6, 16, 54, 47, 96918),\n",
       "  'created_at': datetime.datetime(2022, 3, 6, 3, 14, 58, tzinfo=datetime.timezone.utc),\n",
       "  'favourite_count': 23207,\n",
       "  'hashtags': [],\n",
       "  'status_count': 32177,\n",
       "  'location': None,\n",
       "  'source_device': 'Twitter for iPhone',\n",
       "  'retweet_text': 'None',\n",
       "  'quote_text': 'None',\n",
       "  'quote_screen_name': 'None'}]"
      ]
     },
     "execution_count": 4,
     "metadata": {},
     "output_type": "execute_result"
    }
   ],
   "source": [
    "\n",
    "# Garbage function to extract tweet - I can't figure out how to extract tweets by location!\n",
    "\n",
    "def get_tweets(query=\"transit\", num_tweets= 1):\n",
    "    \n",
    "    data =  []\n",
    "    i  =  1\n",
    "    \n",
    "    #Does geocode use these?\n",
    "    #latitude = 44.052071\n",
    "    #longitude = -123.086754\n",
    "    #radius = 10\n",
    "    \n",
    "    while i <= num_tweets:\n",
    "           \n",
    "                #Garbage Query\n",
    "                \n",
    "            tweet = api.search_tweets(              q=query,\n",
    "                                                    lang='en',\n",
    "                                                    result_type= 'mixed',\n",
    "                                                    tweet_mode=\"extended\",\n",
    "                #This is what I can't figure out -> geocode= '01241e9666cacdd2',\n",
    "                                                    count=1)\n",
    "            \n",
    "            for item in tweet:\n",
    "                \n",
    "                mined = {\n",
    "                    'tweet_id':        item.id,\n",
    "                    'name':            item.user.name,\n",
    "                    'screen_name':     item.user.screen_name,\n",
    "                    'retweet_count':   item.retweet_count,\n",
    "                    'text':            item.full_text,\n",
    "                    'mined_at':        datetime.datetime.now(),\n",
    "                    'created_at':      item.created_at,\n",
    "                    'favourite_count': item.favorite_count,\n",
    "                    'hashtags':        item.entities['hashtags'],\n",
    "                    'status_count':    item.user.statuses_count,\n",
    "                    'location':        item.place,\n",
    "                    'source_device':   item.source\n",
    "                }\n",
    "                \n",
    "                try:\n",
    "                    mined['retweet_text'] = item.retweeted_status.full_text\n",
    "                except:\n",
    "                    mined['retweet_text'] = 'None'\n",
    "                try:\n",
    "                    mined['quote_text'] = item.quoted_status.full_text\n",
    "                    mined['quote_screen_name'] = status.quoted_status.user.screen_name\n",
    "                except:\n",
    "                    mined['quote_text'] = 'None'\n",
    "                    mined['quote_screen_name'] = 'None'\n",
    "                data.append(mined)\n",
    "                \n",
    "            i+= 1\n",
    "            \n",
    "    return data \n",
    "\n",
    "tweet = get_tweets(query='University', num_tweets = 1)\n",
    "tweet\n",
    "\n",
    "# I can get tweets but can't source by location with Twitter API"
   ]
  },
  {
   "cell_type": "code",
   "execution_count": 5,
   "id": "0ae2bea7",
   "metadata": {},
   "outputs": [
    {
     "data": {
      "text/plain": [
       "'01241e9666cacdd2'"
      ]
     },
     "execution_count": 5,
     "metadata": {},
     "output_type": "execute_result"
    }
   ],
   "source": [
    "#Derive place id\n",
    "\n",
    "places = api.search_geo(query=\"Eugene\", granularity=\"city\")\n",
    "place_id = places[0].id\n",
    "place_id #id='01241e9666cacdd2'\n"
   ]
  },
  {
   "cell_type": "code",
   "execution_count": 6,
   "id": "f3411760",
   "metadata": {},
   "outputs": [
    {
     "data": {
      "text/plain": [
       "Place(_api=<tweepy.api.API object at 0x7fa0e442c6a0>, id='01241e9666cacdd2', name='Eugene', full_name='Eugene, OR', country='United States', country_code='US', url='https://api.twitter.com/1.1/geo/id/01241e9666cacdd2.json', place_type='city', attributes={}, bounding_box=BoundingBox(_api=<tweepy.api.API object at 0x7fa0e442c6a0>, type='Polygon', coordinates=[[[-123.208615, 43.988281], [-123.208615, 44.142961], [-123.0361879, 44.142961], [-123.0361879, 43.988281], [-123.208615, 43.988281]]]), centroid=[-123.12880361688741, 44.0655445], contained_within=[Place(_api=<tweepy.api.API object at 0x7fa0e442c6a0>, id='9fe40cd759509fee', name='EUGENE', full_name='EUGENE', country='United States', country_code='US', url='https://api.twitter.com/1.1/geo/id/9fe40cd759509fee.json', place_type='admin', attributes={}, bounding_box=BoundingBox(_api=<tweepy.api.API object at 0x7fa0e442c6a0>, type='Polygon', coordinates=[[[-124.479539, 42.666545], [-124.479539, 44.721293], [-121.767351, 44.721293], [-121.767351, 42.666545], [-124.479539, 42.666545]]]), centroid=[-123.08530926570756, 43.6938095])])"
      ]
     },
     "execution_count": 6,
     "metadata": {},
     "output_type": "execute_result"
    }
   ],
   "source": [
    "places[0]"
   ]
  },
  {
   "cell_type": "code",
   "execution_count": 7,
   "id": "8ce73faf",
   "metadata": {},
   "outputs": [],
   "source": [
    "# our search term, using syntax for Twitter's Advanced Search\n",
    "query_term = 'transit'\n",
    "location = \" place:01241e9666cacdd2\" #Eugene\n",
    "lang = \" lang:en\"\n",
    "search = query_term + location +lang\n",
    "K = 10\n",
    "\n",
    "# the scraped tweets, this is a generator\n",
    "scraped_tweets = sntwitter.TwitterSearchScraper(search).get_items()\n",
    "\n",
    "# slicing the generator to keep only the first K tweets\n",
    "sliced_scraped_tweets = itertools.islice(scraped_tweets, K)\n",
    "\n",
    "# convert to a DataFrame and keep only relevant columns\n",
    "df = pandas.DataFrame(sliced_scraped_tweets)[['date',\"user\",'content']]"
   ]
  },
  {
   "cell_type": "markdown",
   "id": "b276d1ad",
   "metadata": {},
   "source": [
    "We'll use the snscraper tool instead:"
   ]
  },
  {
   "cell_type": "code",
   "execution_count": 8,
   "id": "c37db51c",
   "metadata": {},
   "outputs": [
    {
     "data": {
      "text/html": [
       "<div>\n",
       "<style scoped>\n",
       "    .dataframe tbody tr th:only-of-type {\n",
       "        vertical-align: middle;\n",
       "    }\n",
       "\n",
       "    .dataframe tbody tr th {\n",
       "        vertical-align: top;\n",
       "    }\n",
       "\n",
       "    .dataframe thead th {\n",
       "        text-align: right;\n",
       "    }\n",
       "</style>\n",
       "<table border=\"1\" class=\"dataframe\">\n",
       "  <thead>\n",
       "    <tr style=\"text-align: right;\">\n",
       "      <th></th>\n",
       "      <th>date</th>\n",
       "      <th>user</th>\n",
       "      <th>content</th>\n",
       "    </tr>\n",
       "  </thead>\n",
       "  <tbody>\n",
       "    <tr>\n",
       "      <th>0</th>\n",
       "      <td>2022-01-10 20:43:48+00:00</td>\n",
       "      <td>{'username': 'subumbral', 'id': 256319644, 'di...</td>\n",
       "      <td>@RetiredDent I know it's airborne, but public ...</td>\n",
       "    </tr>\n",
       "    <tr>\n",
       "      <th>1</th>\n",
       "      <td>2021-10-23 02:52:36+00:00</td>\n",
       "      <td>{'username': 'cptarkennedy', 'id': 620283234, ...</td>\n",
       "      <td>AI and human transit will allow for green urba...</td>\n",
       "    </tr>\n",
       "    <tr>\n",
       "      <th>2</th>\n",
       "      <td>2021-10-04 03:50:23+00:00</td>\n",
       "      <td>{'username': 'subumbral', 'id': 256319644, 'di...</td>\n",
       "      <td>@spindlypete Sic transit</td>\n",
       "    </tr>\n",
       "    <tr>\n",
       "      <th>3</th>\n",
       "      <td>2021-08-12 22:14:30+00:00</td>\n",
       "      <td>{'username': 'groovybels', 'id': 2744006288, '...</td>\n",
       "      <td>Venus about to transit my 4H where my sun, moo...</td>\n",
       "    </tr>\n",
       "    <tr>\n",
       "      <th>4</th>\n",
       "      <td>2021-08-11 22:21:40+00:00</td>\n",
       "      <td>{'username': 'groovybels', 'id': 2744006288, '...</td>\n",
       "      <td>how fitting of a libra moon to buy jewelry and...</td>\n",
       "    </tr>\n",
       "    <tr>\n",
       "      <th>5</th>\n",
       "      <td>2021-08-05 00:18:26+00:00</td>\n",
       "      <td>{'username': 'groovybels', 'id': 2744006288, '...</td>\n",
       "      <td>Pluto transiting my 7H Neptune in cap today an...</td>\n",
       "    </tr>\n",
       "    <tr>\n",
       "      <th>6</th>\n",
       "      <td>2021-08-04 18:14:51+00:00</td>\n",
       "      <td>{'username': 'GoDucksJosh', 'id': 151119910, '...</td>\n",
       "      <td>Hey @FedEx @FedExHelp is this normal? How many...</td>\n",
       "    </tr>\n",
       "    <tr>\n",
       "      <th>7</th>\n",
       "      <td>2021-08-02 23:09:05+00:00</td>\n",
       "      <td>{'username': 'GoDucksJosh', 'id': 151119910, '...</td>\n",
       "      <td>@DTFinnegan I thought I was good and it avoide...</td>\n",
       "    </tr>\n",
       "    <tr>\n",
       "      <th>8</th>\n",
       "      <td>2021-07-14 02:22:42+00:00</td>\n",
       "      <td>{'username': 'subumbral', 'id': 256319644, 'di...</td>\n",
       "      <td>@KaylaChowShow On a day trip to another city b...</td>\n",
       "    </tr>\n",
       "    <tr>\n",
       "      <th>9</th>\n",
       "      <td>2021-06-26 19:39:31+00:00</td>\n",
       "      <td>{'username': 'JamesLLlamas', 'id': 3308309264,...</td>\n",
       "      <td>Transit Oriented Tubing! https://t.co/M4P23gfTMI</td>\n",
       "    </tr>\n",
       "  </tbody>\n",
       "</table>\n",
       "</div>"
      ],
      "text/plain": [
       "                       date  \\\n",
       "0 2022-01-10 20:43:48+00:00   \n",
       "1 2021-10-23 02:52:36+00:00   \n",
       "2 2021-10-04 03:50:23+00:00   \n",
       "3 2021-08-12 22:14:30+00:00   \n",
       "4 2021-08-11 22:21:40+00:00   \n",
       "5 2021-08-05 00:18:26+00:00   \n",
       "6 2021-08-04 18:14:51+00:00   \n",
       "7 2021-08-02 23:09:05+00:00   \n",
       "8 2021-07-14 02:22:42+00:00   \n",
       "9 2021-06-26 19:39:31+00:00   \n",
       "\n",
       "                                                user  \\\n",
       "0  {'username': 'subumbral', 'id': 256319644, 'di...   \n",
       "1  {'username': 'cptarkennedy', 'id': 620283234, ...   \n",
       "2  {'username': 'subumbral', 'id': 256319644, 'di...   \n",
       "3  {'username': 'groovybels', 'id': 2744006288, '...   \n",
       "4  {'username': 'groovybels', 'id': 2744006288, '...   \n",
       "5  {'username': 'groovybels', 'id': 2744006288, '...   \n",
       "6  {'username': 'GoDucksJosh', 'id': 151119910, '...   \n",
       "7  {'username': 'GoDucksJosh', 'id': 151119910, '...   \n",
       "8  {'username': 'subumbral', 'id': 256319644, 'di...   \n",
       "9  {'username': 'JamesLLlamas', 'id': 3308309264,...   \n",
       "\n",
       "                                             content  \n",
       "0  @RetiredDent I know it's airborne, but public ...  \n",
       "1  AI and human transit will allow for green urba...  \n",
       "2                           @spindlypete Sic transit  \n",
       "3  Venus about to transit my 4H where my sun, moo...  \n",
       "4  how fitting of a libra moon to buy jewelry and...  \n",
       "5  Pluto transiting my 7H Neptune in cap today an...  \n",
       "6  Hey @FedEx @FedExHelp is this normal? How many...  \n",
       "7  @DTFinnegan I thought I was good and it avoide...  \n",
       "8  @KaylaChowShow On a day trip to another city b...  \n",
       "9   Transit Oriented Tubing! https://t.co/M4P23gfTMI  "
      ]
     },
     "execution_count": 8,
     "metadata": {},
     "output_type": "execute_result"
    }
   ],
   "source": [
    "df"
   ]
  },
  {
   "cell_type": "markdown",
   "id": "c1269492",
   "metadata": {},
   "source": [
    "# Preprocessing"
   ]
  },
  {
   "cell_type": "code",
   "execution_count": 9,
   "id": "fedb0092",
   "metadata": {},
   "outputs": [],
   "source": [
    "custom_stopwords= ['RT'] #if needed, add more depending on search term\n",
    "\n",
    "def preprocess_tweet(tweet,custom_stopwords):\n",
    "    preprocessed_tweet = tweet\n",
    "    preprocessed_tweet.replace('[^\\w\\s]','')\n",
    "    preprocessed_tweet = ' '.join(word for word in preprocessed_tweet.split() if word not in stopwords.words('english'))\n",
    "    preprocessed_tweet = ' '.join(word for word in preprocessed_tweet.split() if word not in custom_stopwords)\n",
    "    preprocessed_tweet = ' '.join(Word(word).lemmatize() for word in preprocessed_tweet.split())\n",
    "    return(preprocessed_tweet)"
   ]
  },
  {
   "cell_type": "code",
   "execution_count": 10,
   "id": "8b06d633",
   "metadata": {},
   "outputs": [
    {
     "data": {
      "text/html": [
       "<div>\n",
       "<style scoped>\n",
       "    .dataframe tbody tr th:only-of-type {\n",
       "        vertical-align: middle;\n",
       "    }\n",
       "\n",
       "    .dataframe tbody tr th {\n",
       "        vertical-align: top;\n",
       "    }\n",
       "\n",
       "    .dataframe thead th {\n",
       "        text-align: right;\n",
       "    }\n",
       "</style>\n",
       "<table border=\"1\" class=\"dataframe\">\n",
       "  <thead>\n",
       "    <tr style=\"text-align: right;\">\n",
       "      <th></th>\n",
       "      <th>date</th>\n",
       "      <th>user</th>\n",
       "      <th>content</th>\n",
       "      <th>Processed Tweet</th>\n",
       "    </tr>\n",
       "  </thead>\n",
       "  <tbody>\n",
       "    <tr>\n",
       "      <th>0</th>\n",
       "      <td>2022-01-10 20:43:48+00:00</td>\n",
       "      <td>{'username': 'subumbral', 'id': 256319644, 'di...</td>\n",
       "      <td>@RetiredDent I know it's airborne, but public ...</td>\n",
       "      <td>@RetiredDent I know airborne, public transit p...</td>\n",
       "    </tr>\n",
       "    <tr>\n",
       "      <th>1</th>\n",
       "      <td>2021-10-23 02:52:36+00:00</td>\n",
       "      <td>{'username': 'cptarkennedy', 'id': 620283234, ...</td>\n",
       "      <td>AI and human transit will allow for green urba...</td>\n",
       "      <td>AI human transit allow green urbanization wild...</td>\n",
       "    </tr>\n",
       "    <tr>\n",
       "      <th>2</th>\n",
       "      <td>2021-10-04 03:50:23+00:00</td>\n",
       "      <td>{'username': 'subumbral', 'id': 256319644, 'di...</td>\n",
       "      <td>@spindlypete Sic transit</td>\n",
       "      <td>@spindlypete Sic transit</td>\n",
       "    </tr>\n",
       "    <tr>\n",
       "      <th>3</th>\n",
       "      <td>2021-08-12 22:14:30+00:00</td>\n",
       "      <td>{'username': 'groovybels', 'id': 2744006288, '...</td>\n",
       "      <td>Venus about to transit my 4H where my sun, moo...</td>\n",
       "      <td>Venus transit 4H sun, moon Mercury reside two ...</td>\n",
       "    </tr>\n",
       "    <tr>\n",
       "      <th>4</th>\n",
       "      <td>2021-08-11 22:21:40+00:00</td>\n",
       "      <td>{'username': 'groovybels', 'id': 2744006288, '...</td>\n",
       "      <td>how fitting of a libra moon to buy jewelry and...</td>\n",
       "      <td>fitting libra moon buy jewelry get nail done l...</td>\n",
       "    </tr>\n",
       "    <tr>\n",
       "      <th>5</th>\n",
       "      <td>2021-08-05 00:18:26+00:00</td>\n",
       "      <td>{'username': 'groovybels', 'id': 2744006288, '...</td>\n",
       "      <td>Pluto transiting my 7H Neptune in cap today an...</td>\n",
       "      <td>Pluto transiting 7H Neptune cap today boy tran...</td>\n",
       "    </tr>\n",
       "    <tr>\n",
       "      <th>6</th>\n",
       "      <td>2021-08-04 18:14:51+00:00</td>\n",
       "      <td>{'username': 'GoDucksJosh', 'id': 151119910, '...</td>\n",
       "      <td>Hey @FedEx @FedExHelp is this normal? How many...</td>\n",
       "      <td>Hey @FedEx @FedExHelp normal? How many day pac...</td>\n",
       "    </tr>\n",
       "    <tr>\n",
       "      <th>7</th>\n",
       "      <td>2021-08-02 23:09:05+00:00</td>\n",
       "      <td>{'username': 'GoDucksJosh', 'id': 151119910, '...</td>\n",
       "      <td>@DTFinnegan I thought I was good and it avoide...</td>\n",
       "      <td>@DTFinnegan I thought I good avoided hellhole ...</td>\n",
       "    </tr>\n",
       "    <tr>\n",
       "      <th>8</th>\n",
       "      <td>2021-07-14 02:22:42+00:00</td>\n",
       "      <td>{'username': 'subumbral', 'id': 256319644, 'di...</td>\n",
       "      <td>@KaylaChowShow On a day trip to another city b...</td>\n",
       "      <td>@KaylaChowShow On day trip another city mass t...</td>\n",
       "    </tr>\n",
       "    <tr>\n",
       "      <th>9</th>\n",
       "      <td>2021-06-26 19:39:31+00:00</td>\n",
       "      <td>{'username': 'JamesLLlamas', 'id': 3308309264,...</td>\n",
       "      <td>Transit Oriented Tubing! https://t.co/M4P23gfTMI</td>\n",
       "      <td>Transit Oriented Tubing! https://t.co/M4P23gfTMI</td>\n",
       "    </tr>\n",
       "  </tbody>\n",
       "</table>\n",
       "</div>"
      ],
      "text/plain": [
       "                       date  \\\n",
       "0 2022-01-10 20:43:48+00:00   \n",
       "1 2021-10-23 02:52:36+00:00   \n",
       "2 2021-10-04 03:50:23+00:00   \n",
       "3 2021-08-12 22:14:30+00:00   \n",
       "4 2021-08-11 22:21:40+00:00   \n",
       "5 2021-08-05 00:18:26+00:00   \n",
       "6 2021-08-04 18:14:51+00:00   \n",
       "7 2021-08-02 23:09:05+00:00   \n",
       "8 2021-07-14 02:22:42+00:00   \n",
       "9 2021-06-26 19:39:31+00:00   \n",
       "\n",
       "                                                user  \\\n",
       "0  {'username': 'subumbral', 'id': 256319644, 'di...   \n",
       "1  {'username': 'cptarkennedy', 'id': 620283234, ...   \n",
       "2  {'username': 'subumbral', 'id': 256319644, 'di...   \n",
       "3  {'username': 'groovybels', 'id': 2744006288, '...   \n",
       "4  {'username': 'groovybels', 'id': 2744006288, '...   \n",
       "5  {'username': 'groovybels', 'id': 2744006288, '...   \n",
       "6  {'username': 'GoDucksJosh', 'id': 151119910, '...   \n",
       "7  {'username': 'GoDucksJosh', 'id': 151119910, '...   \n",
       "8  {'username': 'subumbral', 'id': 256319644, 'di...   \n",
       "9  {'username': 'JamesLLlamas', 'id': 3308309264,...   \n",
       "\n",
       "                                             content  \\\n",
       "0  @RetiredDent I know it's airborne, but public ...   \n",
       "1  AI and human transit will allow for green urba...   \n",
       "2                           @spindlypete Sic transit   \n",
       "3  Venus about to transit my 4H where my sun, moo...   \n",
       "4  how fitting of a libra moon to buy jewelry and...   \n",
       "5  Pluto transiting my 7H Neptune in cap today an...   \n",
       "6  Hey @FedEx @FedExHelp is this normal? How many...   \n",
       "7  @DTFinnegan I thought I was good and it avoide...   \n",
       "8  @KaylaChowShow On a day trip to another city b...   \n",
       "9   Transit Oriented Tubing! https://t.co/M4P23gfTMI   \n",
       "\n",
       "                                     Processed Tweet  \n",
       "0  @RetiredDent I know airborne, public transit p...  \n",
       "1  AI human transit allow green urbanization wild...  \n",
       "2                           @spindlypete Sic transit  \n",
       "3  Venus transit 4H sun, moon Mercury reside two ...  \n",
       "4  fitting libra moon buy jewelry get nail done l...  \n",
       "5  Pluto transiting 7H Neptune cap today boy tran...  \n",
       "6  Hey @FedEx @FedExHelp normal? How many day pac...  \n",
       "7  @DTFinnegan I thought I good avoided hellhole ...  \n",
       "8  @KaylaChowShow On day trip another city mass t...  \n",
       "9   Transit Oriented Tubing! https://t.co/M4P23gfTMI  "
      ]
     },
     "execution_count": 10,
     "metadata": {},
     "output_type": "execute_result"
    }
   ],
   "source": [
    "df[\"Processed Tweet\"] = df [\"content\"].apply(lambda x: preprocess_tweet(x, custom_stopwords))\n",
    "df"
   ]
  },
  {
   "cell_type": "markdown",
   "id": "3046d8fc",
   "metadata": {},
   "source": [
    "# Sentiment Analysis (polarity & subjectivity)"
   ]
  },
  {
   "cell_type": "code",
   "execution_count": 50,
   "id": "8bebb21f",
   "metadata": {},
   "outputs": [
    {
     "name": "stderr",
     "output_type": "stream",
     "text": [
      "No model was supplied, defaulted to distilbert-base-uncased-finetuned-sst-2-english (https://huggingface.co/distilbert-base-uncased-finetuned-sst-2-english)\n"
     ]
    },
    {
     "data": {
      "text/plain": [
       "\"\\ndef func(number,condition):\\n    multiplier = {'NEGATIVE': -1, 'POSITIVE': 1}\\n    return number * multiplier[condition]\\n\\ndf['new_polarity'] = df.apply(lambda x: func(x['pipeline score'], x['pipeline_label']), axis=1)\\n\""
      ]
     },
     "execution_count": 50,
     "metadata": {},
     "output_type": "execute_result"
    }
   ],
   "source": [
    "\n",
    "# Uses pytorch, huggingface and a default model(?) to determine polarity and add it to df\n",
    "classifier = pipeline(\"sentiment-analysis\")\n",
    "\n",
    "df['pipeline label'] = df[\"Processed Tweet\"].apply(lambda x: classifier(x)[0]['label'])\n",
    "df['pipeline score'] = df[\"Processed Tweet\"].apply(lambda x: classifier(x)[0]['score'])\n",
    "\n",
    "'''\n",
    "def func(number,condition):\n",
    "    multiplier = {'NEGATIVE': -1, 'POSITIVE': 1}\n",
    "    return number * multiplier[condition]\n",
    "\n",
    "df['new_polarity'] = df.apply(lambda x: func(x['pipeline score'], x['pipeline_label']), axis=1)\n",
    "'''\n",
    "\n",
    "#TODO get correct avg for pipeline polarity"
   ]
  },
  {
   "cell_type": "code",
   "execution_count": 12,
   "id": "98546d11",
   "metadata": {},
   "outputs": [],
   "source": [
    "# Uses TextBlob to derive sentiment of each tweet and add it to the df\n",
    "\n",
    "df['Polarity'] = df[\"Processed Tweet\"].apply(lambda x: TextBlob(x).sentiment[0])\n",
    "df['Subjectivity'] = df[\"Processed Tweet\"].apply(lambda x: TextBlob(x).sentiment[1])"
   ]
  },
  {
   "cell_type": "markdown",
   "id": "3b5e3e3e",
   "metadata": {},
   "source": [
    "TODO: expand and improve this using machine learning! \n",
    "\n",
    "I don't really understand how TextBlob is deriving these values. They also do not seem that accurate, however:\n",
    "- Sentiment polarity ranges from -1 (bad opinion) to 1 (good opinion).\n",
    "- Sentiment subjectivty ranges from 0 (very objective) to 1 (very subjective)."
   ]
  },
  {
   "cell_type": "code",
   "execution_count": 52,
   "id": "09597484",
   "metadata": {},
   "outputs": [
    {
     "data": {
      "text/html": [
       "<div>\n",
       "<style scoped>\n",
       "    .dataframe tbody tr th:only-of-type {\n",
       "        vertical-align: middle;\n",
       "    }\n",
       "\n",
       "    .dataframe tbody tr th {\n",
       "        vertical-align: top;\n",
       "    }\n",
       "\n",
       "    .dataframe thead th {\n",
       "        text-align: right;\n",
       "    }\n",
       "</style>\n",
       "<table border=\"1\" class=\"dataframe\">\n",
       "  <thead>\n",
       "    <tr style=\"text-align: right;\">\n",
       "      <th></th>\n",
       "      <th>date</th>\n",
       "      <th>user</th>\n",
       "      <th>content</th>\n",
       "      <th>Processed Tweet</th>\n",
       "      <th>Polarity</th>\n",
       "      <th>Subjectivity</th>\n",
       "      <th>pipeline label</th>\n",
       "      <th>pipeline score</th>\n",
       "    </tr>\n",
       "  </thead>\n",
       "  <tbody>\n",
       "    <tr>\n",
       "      <th>0</th>\n",
       "      <td>2022-01-10 20:43:48+00:00</td>\n",
       "      <td>{'username': 'subumbral', 'id': 256319644, 'di...</td>\n",
       "      <td>@RetiredDent I know it's airborne, but public ...</td>\n",
       "      <td>@RetiredDent I know airborne, public transit p...</td>\n",
       "      <td>0.000000</td>\n",
       "      <td>0.033333</td>\n",
       "      <td>NEGATIVE</td>\n",
       "      <td>0.999802</td>\n",
       "    </tr>\n",
       "    <tr>\n",
       "      <th>1</th>\n",
       "      <td>2021-10-23 02:52:36+00:00</td>\n",
       "      <td>{'username': 'cptarkennedy', 'id': 620283234, ...</td>\n",
       "      <td>AI and human transit will allow for green urba...</td>\n",
       "      <td>AI human transit allow green urbanization wild...</td>\n",
       "      <td>0.036061</td>\n",
       "      <td>0.497879</td>\n",
       "      <td>POSITIVE</td>\n",
       "      <td>0.982988</td>\n",
       "    </tr>\n",
       "    <tr>\n",
       "      <th>2</th>\n",
       "      <td>2021-10-04 03:50:23+00:00</td>\n",
       "      <td>{'username': 'subumbral', 'id': 256319644, 'di...</td>\n",
       "      <td>@spindlypete Sic transit</td>\n",
       "      <td>@spindlypete Sic transit</td>\n",
       "      <td>0.000000</td>\n",
       "      <td>0.000000</td>\n",
       "      <td>NEGATIVE</td>\n",
       "      <td>0.977179</td>\n",
       "    </tr>\n",
       "    <tr>\n",
       "      <th>3</th>\n",
       "      <td>2021-08-12 22:14:30+00:00</td>\n",
       "      <td>{'username': 'groovybels', 'id': 2744006288, '...</td>\n",
       "      <td>Venus about to transit my 4H where my sun, moo...</td>\n",
       "      <td>Venus transit 4H sun, moon Mercury reside two ...</td>\n",
       "      <td>-0.300000</td>\n",
       "      <td>0.450000</td>\n",
       "      <td>NEGATIVE</td>\n",
       "      <td>0.998847</td>\n",
       "    </tr>\n",
       "    <tr>\n",
       "      <th>4</th>\n",
       "      <td>2021-08-11 22:21:40+00:00</td>\n",
       "      <td>{'username': 'groovybels', 'id': 2744006288, '...</td>\n",
       "      <td>how fitting of a libra moon to buy jewelry and...</td>\n",
       "      <td>fitting libra moon buy jewelry get nail done l...</td>\n",
       "      <td>0.500000</td>\n",
       "      <td>0.500000</td>\n",
       "      <td>POSITIVE</td>\n",
       "      <td>0.960011</td>\n",
       "    </tr>\n",
       "    <tr>\n",
       "      <th>5</th>\n",
       "      <td>2021-08-05 00:18:26+00:00</td>\n",
       "      <td>{'username': 'groovybels', 'id': 2744006288, '...</td>\n",
       "      <td>Pluto transiting my 7H Neptune in cap today an...</td>\n",
       "      <td>Pluto transiting 7H Neptune cap today boy tran...</td>\n",
       "      <td>0.000000</td>\n",
       "      <td>0.000000</td>\n",
       "      <td>POSITIVE</td>\n",
       "      <td>0.835144</td>\n",
       "    </tr>\n",
       "    <tr>\n",
       "      <th>6</th>\n",
       "      <td>2021-08-04 18:14:51+00:00</td>\n",
       "      <td>{'username': 'GoDucksJosh', 'id': 151119910, '...</td>\n",
       "      <td>Hey @FedEx @FedExHelp is this normal? How many...</td>\n",
       "      <td>Hey @FedEx @FedExHelp normal? How many day pac...</td>\n",
       "      <td>0.183333</td>\n",
       "      <td>0.516667</td>\n",
       "      <td>NEGATIVE</td>\n",
       "      <td>0.996744</td>\n",
       "    </tr>\n",
       "    <tr>\n",
       "      <th>7</th>\n",
       "      <td>2021-08-02 23:09:05+00:00</td>\n",
       "      <td>{'username': 'GoDucksJosh', 'id': 151119910, '...</td>\n",
       "      <td>@DTFinnegan I thought I was good and it avoide...</td>\n",
       "      <td>@DTFinnegan I thought I good avoided hellhole ...</td>\n",
       "      <td>0.700000</td>\n",
       "      <td>0.600000</td>\n",
       "      <td>NEGATIVE</td>\n",
       "      <td>0.957317</td>\n",
       "    </tr>\n",
       "    <tr>\n",
       "      <th>8</th>\n",
       "      <td>2021-07-14 02:22:42+00:00</td>\n",
       "      <td>{'username': 'subumbral', 'id': 256319644, 'di...</td>\n",
       "      <td>@KaylaChowShow On a day trip to another city b...</td>\n",
       "      <td>@KaylaChowShow On day trip another city mass t...</td>\n",
       "      <td>0.000000</td>\n",
       "      <td>0.000000</td>\n",
       "      <td>NEGATIVE</td>\n",
       "      <td>0.937028</td>\n",
       "    </tr>\n",
       "    <tr>\n",
       "      <th>9</th>\n",
       "      <td>2021-06-26 19:39:31+00:00</td>\n",
       "      <td>{'username': 'JamesLLlamas', 'id': 3308309264,...</td>\n",
       "      <td>Transit Oriented Tubing! https://t.co/M4P23gfTMI</td>\n",
       "      <td>Transit Oriented Tubing! https://t.co/M4P23gfTMI</td>\n",
       "      <td>0.000000</td>\n",
       "      <td>0.000000</td>\n",
       "      <td>NEGATIVE</td>\n",
       "      <td>0.990848</td>\n",
       "    </tr>\n",
       "  </tbody>\n",
       "</table>\n",
       "</div>"
      ],
      "text/plain": [
       "                       date  \\\n",
       "0 2022-01-10 20:43:48+00:00   \n",
       "1 2021-10-23 02:52:36+00:00   \n",
       "2 2021-10-04 03:50:23+00:00   \n",
       "3 2021-08-12 22:14:30+00:00   \n",
       "4 2021-08-11 22:21:40+00:00   \n",
       "5 2021-08-05 00:18:26+00:00   \n",
       "6 2021-08-04 18:14:51+00:00   \n",
       "7 2021-08-02 23:09:05+00:00   \n",
       "8 2021-07-14 02:22:42+00:00   \n",
       "9 2021-06-26 19:39:31+00:00   \n",
       "\n",
       "                                                user  \\\n",
       "0  {'username': 'subumbral', 'id': 256319644, 'di...   \n",
       "1  {'username': 'cptarkennedy', 'id': 620283234, ...   \n",
       "2  {'username': 'subumbral', 'id': 256319644, 'di...   \n",
       "3  {'username': 'groovybels', 'id': 2744006288, '...   \n",
       "4  {'username': 'groovybels', 'id': 2744006288, '...   \n",
       "5  {'username': 'groovybels', 'id': 2744006288, '...   \n",
       "6  {'username': 'GoDucksJosh', 'id': 151119910, '...   \n",
       "7  {'username': 'GoDucksJosh', 'id': 151119910, '...   \n",
       "8  {'username': 'subumbral', 'id': 256319644, 'di...   \n",
       "9  {'username': 'JamesLLlamas', 'id': 3308309264,...   \n",
       "\n",
       "                                             content  \\\n",
       "0  @RetiredDent I know it's airborne, but public ...   \n",
       "1  AI and human transit will allow for green urba...   \n",
       "2                           @spindlypete Sic transit   \n",
       "3  Venus about to transit my 4H where my sun, moo...   \n",
       "4  how fitting of a libra moon to buy jewelry and...   \n",
       "5  Pluto transiting my 7H Neptune in cap today an...   \n",
       "6  Hey @FedEx @FedExHelp is this normal? How many...   \n",
       "7  @DTFinnegan I thought I was good and it avoide...   \n",
       "8  @KaylaChowShow On a day trip to another city b...   \n",
       "9   Transit Oriented Tubing! https://t.co/M4P23gfTMI   \n",
       "\n",
       "                                     Processed Tweet  Polarity  Subjectivity  \\\n",
       "0  @RetiredDent I know airborne, public transit p...  0.000000      0.033333   \n",
       "1  AI human transit allow green urbanization wild...  0.036061      0.497879   \n",
       "2                           @spindlypete Sic transit  0.000000      0.000000   \n",
       "3  Venus transit 4H sun, moon Mercury reside two ... -0.300000      0.450000   \n",
       "4  fitting libra moon buy jewelry get nail done l...  0.500000      0.500000   \n",
       "5  Pluto transiting 7H Neptune cap today boy tran...  0.000000      0.000000   \n",
       "6  Hey @FedEx @FedExHelp normal? How many day pac...  0.183333      0.516667   \n",
       "7  @DTFinnegan I thought I good avoided hellhole ...  0.700000      0.600000   \n",
       "8  @KaylaChowShow On day trip another city mass t...  0.000000      0.000000   \n",
       "9   Transit Oriented Tubing! https://t.co/M4P23gfTMI  0.000000      0.000000   \n",
       "\n",
       "  pipeline label  pipeline score  \n",
       "0       NEGATIVE        0.999802  \n",
       "1       POSITIVE        0.982988  \n",
       "2       NEGATIVE        0.977179  \n",
       "3       NEGATIVE        0.998847  \n",
       "4       POSITIVE        0.960011  \n",
       "5       POSITIVE        0.835144  \n",
       "6       NEGATIVE        0.996744  \n",
       "7       NEGATIVE        0.957317  \n",
       "8       NEGATIVE        0.937028  \n",
       "9       NEGATIVE        0.990848  "
      ]
     },
     "execution_count": 52,
     "metadata": {},
     "output_type": "execute_result"
    }
   ],
   "source": [
    "df"
   ]
  },
  {
   "cell_type": "code",
   "execution_count": 14,
   "id": "c2ab3b62",
   "metadata": {},
   "outputs": [
    {
     "name": "stdout",
     "output_type": "stream",
     "text": [
      "Polarity        0.111939\n",
      "Subjectivity    0.259788\n",
      "dtype: float64\n"
     ]
    }
   ],
   "source": [
    "#Calculate avg sentiment for the entire df (city)\n",
    "avg_sentiment =df.mean(numeric_only = True)\n",
    "avg_polarity = avg_sentiment[0]\n",
    "avg_subjectivity = avg_sentiment[1]\n",
    "\n",
    "print(avg_sentiment)\n"
   ]
  },
  {
   "cell_type": "markdown",
   "id": "78905942",
   "metadata": {},
   "source": [
    "### Now we create a pipeline"
   ]
  },
  {
   "cell_type": "code",
   "execution_count": 15,
   "id": "eec200f4",
   "metadata": {},
   "outputs": [],
   "source": [
    "city_IDs = {}\n",
    "\n",
    "class city:\n",
    "    \n",
    "    #City creater method - gets place ID using Twitter API and name\n",
    "    def __init__(self, name): \n",
    "        self.name = name\n",
    "        \n",
    "        self.search = None\n",
    "    \n",
    "        self.polarity = None \n",
    "    \n",
    "        self.subjectivty = None \n",
    "        \n",
    "        if name in city_IDs:\n",
    "            self.place_id = city_IDs[name] \n",
    "        else:\n",
    "            city_IDs[name]= api.search_geo(query=name, granularity=\"city\")[0].id #requires api\n",
    "            self.place_id =city_IDs[name]\n",
    "            \n",
    "        self.coords = None \n",
    "        \n",
    "        self.df = None\n",
    "    \n",
    "    #Creates df with tweets\n",
    "    def derive_tweets(self, query_term, num_tweets=10, language='en'):\n",
    "        \n",
    "        self.search = query_term\n",
    "        \n",
    "        # our search term, using syntax for Twitter's Advanced Search\n",
    "        location = \" place:\"+ self.place_id \n",
    "        lang = \" lang:\" +language\n",
    "        search_phrase = query_term + location +lang\n",
    "       \n",
    "        # the scraped tweets, this is a generator\n",
    "        scraped_tweets = sntwitter.TwitterSearchScraper(search_phrase).get_items()\n",
    "\n",
    "        # slicing the generator to keep only the first num_tweets tweets\n",
    "        sliced_scraped_tweets = itertools.islice(scraped_tweets, num_tweets)\n",
    "\n",
    "        # convert to a DataFrame and keep only relevant columns\n",
    "        self.df = pandas.DataFrame(sliced_scraped_tweets)[['date','coordinates',\"user\",'content']]\n",
    "        \n",
    "        #all coords are the same\n",
    "        self.coords = self.df.coordinates[0]\n",
    "    \n",
    "    #Updates df with formatted tweets\n",
    "    def preprocess_tweets(self):\n",
    "        \n",
    "        self.df[\"Processed Tweet\"] = self.df[\"content\"].apply(lambda x: preprocess_tweet(x, custom_stopwords))\n",
    "\n",
    "    #Runs sentiment analysis on df and updates city object    \n",
    "    def derive_sentiment(self):\n",
    "        \n",
    "        #TODO use this other polarity later\n",
    "        #self.df['Polarity'] = self.df[\"Processed Tweet\"].apply(lambda x: TextBlob(x).sentiment[0])\n",
    "        #self.df['Subjectivity'] = self.df[\"Processed Tweet\"].apply(lambda x: TextBlob(x).sentiment[1])\n",
    "        \n",
    "        avg_sentiment =self.df.mean(numeric_only = True)\n",
    "        self.polarity = avg_sentiment[0]\n",
    "        self.subjectivity = avg_sentiment[1] #TODO use subjectivity later\n",
    "        \n",
    "        df['pipeline label'] = df[\"Processed Tweet\"].apply(lambda x: classifier(x)[0]['label'])\n",
    "        df['pipeline score'] = df[\"Processed Tweet\"].apply(lambda x: classifier(x)[0]['score'])\n",
    "    "
   ]
  },
  {
   "cell_type": "code",
   "execution_count": 16,
   "id": "71fed2d0",
   "metadata": {},
   "outputs": [],
   "source": [
    "#Derives opinion of query term for the city object\n",
    "\n",
    "#note - each city object can only have one search term associated with it\n",
    "def evaluate_city(city, query, num_tweets):\n",
    "    \n",
    "    city.derive_tweets(query, num_tweets)\n",
    "    city.preprocess_tweets()\n",
    "    city.derive_sentiment()"
   ]
  },
  {
   "cell_type": "markdown",
   "id": "f836fff5",
   "metadata": {},
   "source": [
    "### Here we create 3 city objects and feed them the search term \"ducks\" to evaluate"
   ]
  },
  {
   "cell_type": "code",
   "execution_count": 17,
   "id": "bfe3ab26",
   "metadata": {},
   "outputs": [],
   "source": [
    "sea = city(\"Seattle\")\n",
    "evaluate_city(sea, 'Oregon ducks', 10)\n",
    "\n",
    "eug = city(\"Eugene\")\n",
    "evaluate_city(eug, 'Oregon ducks', 10)\n",
    "\n",
    "corvo = city(\"Corvallis\")\n",
    "evaluate_city(corvo, 'Oregon ducks', 10)\n"
   ]
  },
  {
   "cell_type": "code",
   "execution_count": 18,
   "id": "5192a225",
   "metadata": {},
   "outputs": [
    {
     "name": "stdout",
     "output_type": "stream",
     "text": [
      "Seattle opinion of 'ducks': 0.008518518518518514\n",
      "Corvallis opinion of 'ducks': -0.044666666666666674\n",
      "Eugene opinion of 'ducks': 0.20697159090909087\n"
     ]
    }
   ],
   "source": [
    "print(\"Seattle opinion of 'ducks': \" + str(sea.polarity))\n",
    "print(\"Corvallis opinion of 'ducks': \" + str(corvo.polarity))\n",
    "print(\"Eugene opinion of 'ducks': \" + str(eug.polarity))"
   ]
  },
  {
   "cell_type": "markdown",
   "id": "cc4e7be4",
   "metadata": {},
   "source": [
    "## Visualization"
   ]
  },
  {
   "cell_type": "code",
   "execution_count": 54,
   "id": "e5c9d051",
   "metadata": {},
   "outputs": [],
   "source": [
    "#determine icon color and symbol via sentiment (polarity)\n",
    "\n",
    "def sent_gradient(polarity):\n",
    "    if (polarity < -.50) and (polarity > -1):\n",
    "        return \"darkred\"\n",
    "    if polarity < -.2:\n",
    "        return \"red\"\n",
    "    if polarity < -.0:\n",
    "        return \"lightred\"\n",
    "    if (polarity == 0):\n",
    "        return \"beige\"\n",
    "    if polarity < .2:\n",
    "        return \"lightgreen\"\n",
    "    if polarity < .50:\n",
    "        return \"green\"\n",
    "    if polarity < 1:\n",
    "        return \"darkgreen\"\n",
    "    else:\n",
    "        return None\n",
    "\n",
    "def sent_icon(polarity):\n",
    "    if (polarity < 0) and (polarity > -1):\n",
    "        return \"glyphicon-thumbs-down\"\n",
    "    if (polarity < 1) and (polarity > 0):\n",
    "        return \"glyphicon-thumbs-up\"\n",
    "    if (polarity == 0):\n",
    "        return \"glyphicon-resize-horizontal\"\n",
    "    else:\n",
    "        return None"
   ]
  },
  {
   "cell_type": "code",
   "execution_count": 55,
   "id": "980c9546",
   "metadata": {},
   "outputs": [],
   "source": [
    "\n",
    "#create test map\n",
    "watercolor = folium.Map(location=[ 45.5236,-122.6750],\n",
    "                        tiles=\"Stamen Watercolor\",\n",
    "                        zoom_start=5)\n",
    "\n",
    "#create marker from evaluated city and add marker to map\n",
    "def marker_maker(city, map_name):\n",
    "    \n",
    "    location = [ (city.coords['latitude']),(city.coords['longitude']) ]\n",
    "    polarity = city.polarity\n",
    "    detail = city.name + ' polarity for the term \"'+ city.search + '\" is: ' + str(polarity)\n",
    "\n",
    "    folium.Marker(location,\n",
    "                  popup= detail, \n",
    "                  #TODO add in more detailed popups\n",
    "                  tooltip=None, \n",
    "                  icon= folium.Icon(icon= sent_icon(polarity), color = sent_gradient(polarity)),\n",
    "                  #TODO add in more detailed icons using folium.plugins.BeautifyIcon\n",
    "                  draggable=False,).add_to(map_name)"
   ]
  },
  {
   "cell_type": "markdown",
   "id": "935d1c75",
   "metadata": {},
   "source": [
    "### Here we are plotting the markers for each city object, then displaying the map"
   ]
  },
  {
   "cell_type": "code",
   "execution_count": 56,
   "id": "3497225e",
   "metadata": {},
   "outputs": [
    {
     "data": {
      "text/html": [
       "<div style=\"width:100%;\"><div style=\"position:relative;width:100%;height:0;padding-bottom:60%;\"><span style=\"color:#565656\">Make this Notebook Trusted to load map: File -> Trust Notebook</span><iframe src=\"about:blank\" style=\"position:absolute;width:100%;height:100%;left:0;top:0;border:none !important;\" data-html=%3C%21DOCTYPE%20html%3E%0A%3Chead%3E%20%20%20%20%0A%20%20%20%20%3Cmeta%20http-equiv%3D%22content-type%22%20content%3D%22text/html%3B%20charset%3DUTF-8%22%20/%3E%0A%20%20%20%20%0A%20%20%20%20%20%20%20%20%3Cscript%3E%0A%20%20%20%20%20%20%20%20%20%20%20%20L_NO_TOUCH%20%3D%20false%3B%0A%20%20%20%20%20%20%20%20%20%20%20%20L_DISABLE_3D%20%3D%20false%3B%0A%20%20%20%20%20%20%20%20%3C/script%3E%0A%20%20%20%20%0A%20%20%20%20%3Cstyle%3Ehtml%2C%20body%20%7Bwidth%3A%20100%25%3Bheight%3A%20100%25%3Bmargin%3A%200%3Bpadding%3A%200%3B%7D%3C/style%3E%0A%20%20%20%20%3Cstyle%3E%23map%20%7Bposition%3Aabsolute%3Btop%3A0%3Bbottom%3A0%3Bright%3A0%3Bleft%3A0%3B%7D%3C/style%3E%0A%20%20%20%20%3Cscript%20src%3D%22https%3A//cdn.jsdelivr.net/npm/leaflet%401.6.0/dist/leaflet.js%22%3E%3C/script%3E%0A%20%20%20%20%3Cscript%20src%3D%22https%3A//code.jquery.com/jquery-1.12.4.min.js%22%3E%3C/script%3E%0A%20%20%20%20%3Cscript%20src%3D%22https%3A//maxcdn.bootstrapcdn.com/bootstrap/3.2.0/js/bootstrap.min.js%22%3E%3C/script%3E%0A%20%20%20%20%3Cscript%20src%3D%22https%3A//cdnjs.cloudflare.com/ajax/libs/Leaflet.awesome-markers/2.0.2/leaflet.awesome-markers.js%22%3E%3C/script%3E%0A%20%20%20%20%3Clink%20rel%3D%22stylesheet%22%20href%3D%22https%3A//cdn.jsdelivr.net/npm/leaflet%401.6.0/dist/leaflet.css%22/%3E%0A%20%20%20%20%3Clink%20rel%3D%22stylesheet%22%20href%3D%22https%3A//maxcdn.bootstrapcdn.com/bootstrap/3.2.0/css/bootstrap.min.css%22/%3E%0A%20%20%20%20%3Clink%20rel%3D%22stylesheet%22%20href%3D%22https%3A//maxcdn.bootstrapcdn.com/bootstrap/3.2.0/css/bootstrap-theme.min.css%22/%3E%0A%20%20%20%20%3Clink%20rel%3D%22stylesheet%22%20href%3D%22https%3A//maxcdn.bootstrapcdn.com/font-awesome/4.6.3/css/font-awesome.min.css%22/%3E%0A%20%20%20%20%3Clink%20rel%3D%22stylesheet%22%20href%3D%22https%3A//cdnjs.cloudflare.com/ajax/libs/Leaflet.awesome-markers/2.0.2/leaflet.awesome-markers.css%22/%3E%0A%20%20%20%20%3Clink%20rel%3D%22stylesheet%22%20href%3D%22https%3A//cdn.jsdelivr.net/gh/python-visualization/folium/folium/templates/leaflet.awesome.rotate.min.css%22/%3E%0A%20%20%20%20%0A%20%20%20%20%20%20%20%20%20%20%20%20%3Cmeta%20name%3D%22viewport%22%20content%3D%22width%3Ddevice-width%2C%0A%20%20%20%20%20%20%20%20%20%20%20%20%20%20%20%20initial-scale%3D1.0%2C%20maximum-scale%3D1.0%2C%20user-scalable%3Dno%22%20/%3E%0A%20%20%20%20%20%20%20%20%20%20%20%20%3Cstyle%3E%0A%20%20%20%20%20%20%20%20%20%20%20%20%20%20%20%20%23map_6228a0c265b24563ac9dea0030653532%20%7B%0A%20%20%20%20%20%20%20%20%20%20%20%20%20%20%20%20%20%20%20%20position%3A%20relative%3B%0A%20%20%20%20%20%20%20%20%20%20%20%20%20%20%20%20%20%20%20%20width%3A%20100.0%25%3B%0A%20%20%20%20%20%20%20%20%20%20%20%20%20%20%20%20%20%20%20%20height%3A%20100.0%25%3B%0A%20%20%20%20%20%20%20%20%20%20%20%20%20%20%20%20%20%20%20%20left%3A%200.0%25%3B%0A%20%20%20%20%20%20%20%20%20%20%20%20%20%20%20%20%20%20%20%20top%3A%200.0%25%3B%0A%20%20%20%20%20%20%20%20%20%20%20%20%20%20%20%20%7D%0A%20%20%20%20%20%20%20%20%20%20%20%20%3C/style%3E%0A%20%20%20%20%20%20%20%20%0A%3C/head%3E%0A%3Cbody%3E%20%20%20%20%0A%20%20%20%20%0A%20%20%20%20%20%20%20%20%20%20%20%20%3Cdiv%20class%3D%22folium-map%22%20id%3D%22map_6228a0c265b24563ac9dea0030653532%22%20%3E%3C/div%3E%0A%20%20%20%20%20%20%20%20%0A%3C/body%3E%0A%3Cscript%3E%20%20%20%20%0A%20%20%20%20%0A%20%20%20%20%20%20%20%20%20%20%20%20var%20map_6228a0c265b24563ac9dea0030653532%20%3D%20L.map%28%0A%20%20%20%20%20%20%20%20%20%20%20%20%20%20%20%20%22map_6228a0c265b24563ac9dea0030653532%22%2C%0A%20%20%20%20%20%20%20%20%20%20%20%20%20%20%20%20%7B%0A%20%20%20%20%20%20%20%20%20%20%20%20%20%20%20%20%20%20%20%20center%3A%20%5B45.5236%2C%20-122.675%5D%2C%0A%20%20%20%20%20%20%20%20%20%20%20%20%20%20%20%20%20%20%20%20crs%3A%20L.CRS.EPSG3857%2C%0A%20%20%20%20%20%20%20%20%20%20%20%20%20%20%20%20%20%20%20%20zoom%3A%205%2C%0A%20%20%20%20%20%20%20%20%20%20%20%20%20%20%20%20%20%20%20%20zoomControl%3A%20true%2C%0A%20%20%20%20%20%20%20%20%20%20%20%20%20%20%20%20%20%20%20%20preferCanvas%3A%20false%2C%0A%20%20%20%20%20%20%20%20%20%20%20%20%20%20%20%20%7D%0A%20%20%20%20%20%20%20%20%20%20%20%20%29%3B%0A%0A%20%20%20%20%20%20%20%20%20%20%20%20%0A%0A%20%20%20%20%20%20%20%20%0A%20%20%20%20%0A%20%20%20%20%20%20%20%20%20%20%20%20var%20tile_layer_1941917a8f8a4b48a312a3f50b0bb6e6%20%3D%20L.tileLayer%28%0A%20%20%20%20%20%20%20%20%20%20%20%20%20%20%20%20%22https%3A//stamen-tiles-%7Bs%7D.a.ssl.fastly.net/watercolor/%7Bz%7D/%7Bx%7D/%7By%7D.jpg%22%2C%0A%20%20%20%20%20%20%20%20%20%20%20%20%20%20%20%20%7B%22attribution%22%3A%20%22Map%20tiles%20by%20%5Cu003ca%20href%3D%5C%22http%3A//stamen.com%5C%22%5Cu003eStamen%20Design%5Cu003c/a%5Cu003e%2C%20under%20%5Cu003ca%20href%3D%5C%22http%3A//creativecommons.org/licenses/by/3.0%5C%22%5Cu003eCC%20BY%203.0%5Cu003c/a%5Cu003e.%20Data%20by%20%5Cu0026copy%3B%20%5Cu003ca%20href%3D%5C%22http%3A//openstreetmap.org%5C%22%5Cu003eOpenStreetMap%5Cu003c/a%5Cu003e%2C%20under%20%5Cu003ca%20href%3D%5C%22http%3A//creativecommons.org/licenses/by-sa/3.0%5C%22%5Cu003eCC%20BY%20SA%5Cu003c/a%5Cu003e.%22%2C%20%22detectRetina%22%3A%20false%2C%20%22maxNativeZoom%22%3A%2018%2C%20%22maxZoom%22%3A%2018%2C%20%22minZoom%22%3A%200%2C%20%22noWrap%22%3A%20false%2C%20%22opacity%22%3A%201%2C%20%22subdomains%22%3A%20%22abc%22%2C%20%22tms%22%3A%20false%7D%0A%20%20%20%20%20%20%20%20%20%20%20%20%29.addTo%28map_6228a0c265b24563ac9dea0030653532%29%3B%0A%20%20%20%20%20%20%20%20%0A%20%20%20%20%0A%20%20%20%20%20%20%20%20%20%20%20%20var%20marker_e26149f8387e42688370ef786a0413ad%20%3D%20L.marker%28%0A%20%20%20%20%20%20%20%20%20%20%20%20%20%20%20%20%5B43.988281%2C%20-123.208615%5D%2C%0A%20%20%20%20%20%20%20%20%20%20%20%20%20%20%20%20%7B%7D%0A%20%20%20%20%20%20%20%20%20%20%20%20%29.addTo%28map_6228a0c265b24563ac9dea0030653532%29%3B%0A%20%20%20%20%20%20%20%20%0A%20%20%20%20%0A%20%20%20%20%20%20%20%20%20%20%20%20var%20icon_5151cd7b90af4178baec71b77fb391e8%20%3D%20L.AwesomeMarkers.icon%28%0A%20%20%20%20%20%20%20%20%20%20%20%20%20%20%20%20%7B%22extraClasses%22%3A%20%22fa-rotate-0%22%2C%20%22icon%22%3A%20%22glyphicon-thumbs-up%22%2C%20%22iconColor%22%3A%20%22white%22%2C%20%22markerColor%22%3A%20%22green%22%2C%20%22prefix%22%3A%20%22glyphicon%22%7D%0A%20%20%20%20%20%20%20%20%20%20%20%20%29%3B%0A%20%20%20%20%20%20%20%20%20%20%20%20marker_e26149f8387e42688370ef786a0413ad.setIcon%28icon_5151cd7b90af4178baec71b77fb391e8%29%3B%0A%20%20%20%20%20%20%20%20%0A%20%20%20%20%0A%20%20%20%20%20%20%20%20var%20popup_e08f7dcb333e482588103d3baf55f64b%20%3D%20L.popup%28%7B%22maxWidth%22%3A%20%22100%25%22%7D%29%3B%0A%0A%20%20%20%20%20%20%20%20%0A%20%20%20%20%20%20%20%20%20%20%20%20var%20html_b3efb51596a249b98a193db18f7c073c%20%3D%20%24%28%60%3Cdiv%20id%3D%22html_b3efb51596a249b98a193db18f7c073c%22%20style%3D%22width%3A%20100.0%25%3B%20height%3A%20100.0%25%3B%22%3EEugene%20polarity%20for%20the%20term%20%22Oregon%20ducks%22%20is%3A%200.20697159090909087%3C/div%3E%60%29%5B0%5D%3B%0A%20%20%20%20%20%20%20%20%20%20%20%20popup_e08f7dcb333e482588103d3baf55f64b.setContent%28html_b3efb51596a249b98a193db18f7c073c%29%3B%0A%20%20%20%20%20%20%20%20%0A%0A%20%20%20%20%20%20%20%20marker_e26149f8387e42688370ef786a0413ad.bindPopup%28popup_e08f7dcb333e482588103d3baf55f64b%29%0A%20%20%20%20%20%20%20%20%3B%0A%0A%20%20%20%20%20%20%20%20%0A%20%20%20%20%0A%20%20%20%20%0A%20%20%20%20%20%20%20%20%20%20%20%20var%20marker_3256719b6414484bbef144e0e67161e2%20%3D%20L.marker%28%0A%20%20%20%20%20%20%20%20%20%20%20%20%20%20%20%20%5B44.527244%2C%20-123.343425%5D%2C%0A%20%20%20%20%20%20%20%20%20%20%20%20%20%20%20%20%7B%7D%0A%20%20%20%20%20%20%20%20%20%20%20%20%29.addTo%28map_6228a0c265b24563ac9dea0030653532%29%3B%0A%20%20%20%20%20%20%20%20%0A%20%20%20%20%0A%20%20%20%20%20%20%20%20%20%20%20%20var%20icon_3a429d69dce7480f94a1b7c399ab2a8b%20%3D%20L.AwesomeMarkers.icon%28%0A%20%20%20%20%20%20%20%20%20%20%20%20%20%20%20%20%7B%22extraClasses%22%3A%20%22fa-rotate-0%22%2C%20%22icon%22%3A%20%22glyphicon-thumbs-down%22%2C%20%22iconColor%22%3A%20%22white%22%2C%20%22markerColor%22%3A%20%22lightred%22%2C%20%22prefix%22%3A%20%22glyphicon%22%7D%0A%20%20%20%20%20%20%20%20%20%20%20%20%29%3B%0A%20%20%20%20%20%20%20%20%20%20%20%20marker_3256719b6414484bbef144e0e67161e2.setIcon%28icon_3a429d69dce7480f94a1b7c399ab2a8b%29%3B%0A%20%20%20%20%20%20%20%20%0A%20%20%20%20%0A%20%20%20%20%20%20%20%20var%20popup_7ff06769145b471d962d4ff20503e866%20%3D%20L.popup%28%7B%22maxWidth%22%3A%20%22100%25%22%7D%29%3B%0A%0A%20%20%20%20%20%20%20%20%0A%20%20%20%20%20%20%20%20%20%20%20%20var%20html_1a19f867734b4d9f8eb5c56fa72b14f7%20%3D%20%24%28%60%3Cdiv%20id%3D%22html_1a19f867734b4d9f8eb5c56fa72b14f7%22%20style%3D%22width%3A%20100.0%25%3B%20height%3A%20100.0%25%3B%22%3ECorvallis%20polarity%20for%20the%20term%20%22Oregon%20ducks%22%20is%3A%20-0.044666666666666674%3C/div%3E%60%29%5B0%5D%3B%0A%20%20%20%20%20%20%20%20%20%20%20%20popup_7ff06769145b471d962d4ff20503e866.setContent%28html_1a19f867734b4d9f8eb5c56fa72b14f7%29%3B%0A%20%20%20%20%20%20%20%20%0A%0A%20%20%20%20%20%20%20%20marker_3256719b6414484bbef144e0e67161e2.bindPopup%28popup_7ff06769145b471d962d4ff20503e866%29%0A%20%20%20%20%20%20%20%20%3B%0A%0A%20%20%20%20%20%20%20%20%0A%20%20%20%20%0A%20%20%20%20%0A%20%20%20%20%20%20%20%20%20%20%20%20var%20marker_15b743a5135f48098bf6a8816b35939e%20%3D%20L.marker%28%0A%20%20%20%20%20%20%20%20%20%20%20%20%20%20%20%20%5B47.4953154%2C%20-122.436232%5D%2C%0A%20%20%20%20%20%20%20%20%20%20%20%20%20%20%20%20%7B%7D%0A%20%20%20%20%20%20%20%20%20%20%20%20%29.addTo%28map_6228a0c265b24563ac9dea0030653532%29%3B%0A%20%20%20%20%20%20%20%20%0A%20%20%20%20%0A%20%20%20%20%20%20%20%20%20%20%20%20var%20icon_0bf8ec6dc5e245e2bae6e82e79e83bd2%20%3D%20L.AwesomeMarkers.icon%28%0A%20%20%20%20%20%20%20%20%20%20%20%20%20%20%20%20%7B%22extraClasses%22%3A%20%22fa-rotate-0%22%2C%20%22icon%22%3A%20%22glyphicon-thumbs-up%22%2C%20%22iconColor%22%3A%20%22white%22%2C%20%22markerColor%22%3A%20%22lightgreen%22%2C%20%22prefix%22%3A%20%22glyphicon%22%7D%0A%20%20%20%20%20%20%20%20%20%20%20%20%29%3B%0A%20%20%20%20%20%20%20%20%20%20%20%20marker_15b743a5135f48098bf6a8816b35939e.setIcon%28icon_0bf8ec6dc5e245e2bae6e82e79e83bd2%29%3B%0A%20%20%20%20%20%20%20%20%0A%20%20%20%20%0A%20%20%20%20%20%20%20%20var%20popup_ccd4048414794339b4271a99ac3e5b5e%20%3D%20L.popup%28%7B%22maxWidth%22%3A%20%22100%25%22%7D%29%3B%0A%0A%20%20%20%20%20%20%20%20%0A%20%20%20%20%20%20%20%20%20%20%20%20var%20html_34db0b09482f469aabe862554fbf1913%20%3D%20%24%28%60%3Cdiv%20id%3D%22html_34db0b09482f469aabe862554fbf1913%22%20style%3D%22width%3A%20100.0%25%3B%20height%3A%20100.0%25%3B%22%3ESeattle%20polarity%20for%20the%20term%20%22Oregon%20ducks%22%20is%3A%200.008518518518518514%3C/div%3E%60%29%5B0%5D%3B%0A%20%20%20%20%20%20%20%20%20%20%20%20popup_ccd4048414794339b4271a99ac3e5b5e.setContent%28html_34db0b09482f469aabe862554fbf1913%29%3B%0A%20%20%20%20%20%20%20%20%0A%0A%20%20%20%20%20%20%20%20marker_15b743a5135f48098bf6a8816b35939e.bindPopup%28popup_ccd4048414794339b4271a99ac3e5b5e%29%0A%20%20%20%20%20%20%20%20%3B%0A%0A%20%20%20%20%20%20%20%20%0A%20%20%20%20%0A%3C/script%3E onload=\"this.contentDocument.open();this.contentDocument.write(    decodeURIComponent(this.getAttribute('data-html')));this.contentDocument.close();\" allowfullscreen webkitallowfullscreen mozallowfullscreen></iframe></div></div>"
      ],
      "text/plain": [
       "<folium.folium.Map at 0x7fa0b32cb070>"
      ]
     },
     "execution_count": 56,
     "metadata": {},
     "output_type": "execute_result"
    }
   ],
   "source": [
    "marker_maker(eug, watercolor)\n",
    "marker_maker(corvo, watercolor)\n",
    "marker_maker(sea, watercolor)\n",
    "watercolor\n"
   ]
  },
  {
   "cell_type": "markdown",
   "id": "36acc0fa",
   "metadata": {},
   "source": [
    "# Putting it all together\n"
   ]
  },
  {
   "cell_type": "code",
   "execution_count": 65,
   "id": "a9057140",
   "metadata": {
    "scrolled": true
   },
   "outputs": [
    {
     "name": "stdout",
     "output_type": "stream",
     "text": [
      "Scraping Vancouver tweets\n",
      "Calculating Vancouver sentiment\n",
      "Prepping Vancouver marker \n",
      "\n",
      "Scraping Boise tweets\n",
      "Calculating Boise sentiment\n",
      "Prepping Boise marker \n",
      "\n",
      "Scraping Seattle tweets\n",
      "Calculating Seattle sentiment\n",
      "Prepping Seattle marker \n",
      "\n",
      "Scraping Portland tweets\n",
      "Calculating Portland sentiment\n",
      "Prepping Portland marker \n",
      "\n",
      "Scraping Corvallis tweets\n",
      "Calculating Corvallis sentiment\n"
     ]
    },
    {
     "name": "stderr",
     "output_type": "stream",
     "text": [
      "Error retrieving https://api.twitter.com/2/search/adaptive.json?include_profile_interstitial_type=1&include_blocking=1&include_blocked_by=1&include_followed_by=1&include_want_retweets=1&include_mute_edge=1&include_can_dm=1&include_can_media_tag=1&skip_status=1&cards_platform=Web-12&include_cards=1&include_ext_alt_text=true&include_quote_count=true&include_reply_count=1&tweet_mode=extended&include_entities=true&include_user_entities=true&include_ext_media_color=true&include_ext_media_availability=true&send_error_codes=true&simple_quoted_tweets=true&q=joe+rogan+place%3A4da74513442e5fc5+lang%3Aen&tweet_search_mode=live&count=100&query_source=spelling_expansion_revert_click&cursor=scroll%3AthGAVUV0VFVBaAgJGomMSn8AEWgMCq-eyk060pEnEVpPB1FYCJehgFUExBQ0U1ARUCFQAA&pc=1&spelling_corrections=1&ext=mediaStats%2ChighlightedLabel: ConnectionError(MaxRetryError(\"HTTPSConnectionPool(host='api.twitter.com', port=443): Max retries exceeded with url: /2/search/adaptive.json?include_profile_interstitial_type=1&include_blocking=1&include_blocked_by=1&include_followed_by=1&include_want_retweets=1&include_mute_edge=1&include_can_dm=1&include_can_media_tag=1&skip_status=1&cards_platform=Web-12&include_cards=1&include_ext_alt_text=true&include_quote_count=true&include_reply_count=1&tweet_mode=extended&include_entities=true&include_user_entities=true&include_ext_media_color=true&include_ext_media_availability=true&send_error_codes=true&simple_quoted_tweets=true&q=joe+rogan+place%3A4da74513442e5fc5+lang%3Aen&tweet_search_mode=live&count=100&query_source=spelling_expansion_revert_click&cursor=scroll%3AthGAVUV0VFVBaAgJGomMSn8AEWgMCq-eyk060pEnEVpPB1FYCJehgFUExBQ0U1ARUCFQAA&pc=1&spelling_corrections=1&ext=mediaStats%2ChighlightedLabel (Caused by NewConnectionError('<urllib3.connection.HTTPSConnection object at 0x7fa0a00f90a0>: Failed to establish a new connection: [Errno 8] nodename nor servname provided, or not known'))\"))\n",
      "4 requests to https://api.twitter.com/2/search/adaptive.json?include_profile_interstitial_type=1&include_blocking=1&include_blocked_by=1&include_followed_by=1&include_want_retweets=1&include_mute_edge=1&include_can_dm=1&include_can_media_tag=1&skip_status=1&cards_platform=Web-12&include_cards=1&include_ext_alt_text=true&include_quote_count=true&include_reply_count=1&tweet_mode=extended&include_entities=true&include_user_entities=true&include_ext_media_color=true&include_ext_media_availability=true&send_error_codes=true&simple_quoted_tweets=true&q=joe+rogan+place%3A4da74513442e5fc5+lang%3Aen&tweet_search_mode=live&count=100&query_source=spelling_expansion_revert_click&cursor=scroll%3AthGAVUV0VFVBaAgJGomMSn8AEWgMCq-eyk060pEnEVpPB1FYCJehgFUExBQ0U1ARUCFQAA&pc=1&spelling_corrections=1&ext=mediaStats%2ChighlightedLabel failed, giving up.\n"
     ]
    },
    {
     "name": "stdout",
     "output_type": "stream",
     "text": [
      "SNScraper error - skipping city \n",
      "\n",
      "Scraping Oakland tweets\n",
      "Calculating Oakland sentiment\n"
     ]
    },
    {
     "name": "stderr",
     "output_type": "stream",
     "text": [
      "Error retrieving https://api.twitter.com/2/search/adaptive.json?include_profile_interstitial_type=1&include_blocking=1&include_blocked_by=1&include_followed_by=1&include_want_retweets=1&include_mute_edge=1&include_can_dm=1&include_can_media_tag=1&skip_status=1&cards_platform=Web-12&include_cards=1&include_ext_alt_text=true&include_quote_count=true&include_reply_count=1&tweet_mode=extended&include_entities=true&include_user_entities=true&include_ext_media_color=true&include_ext_media_availability=true&send_error_codes=true&simple_quoted_tweets=true&q=joe+rogan+place%3Aab2f2fac83aa388d+lang%3Aen&tweet_search_mode=live&count=100&query_source=spelling_expansion_revert_click&pc=1&spelling_corrections=1&ext=mediaStats%2ChighlightedLabel: ConnectionError(MaxRetryError(\"HTTPSConnectionPool(host='api.twitter.com', port=443): Max retries exceeded with url: /2/search/adaptive.json?include_profile_interstitial_type=1&include_blocking=1&include_blocked_by=1&include_followed_by=1&include_want_retweets=1&include_mute_edge=1&include_can_dm=1&include_can_media_tag=1&skip_status=1&cards_platform=Web-12&include_cards=1&include_ext_alt_text=true&include_quote_count=true&include_reply_count=1&tweet_mode=extended&include_entities=true&include_user_entities=true&include_ext_media_color=true&include_ext_media_availability=true&send_error_codes=true&simple_quoted_tweets=true&q=joe+rogan+place%3Aab2f2fac83aa388d+lang%3Aen&tweet_search_mode=live&count=100&query_source=spelling_expansion_revert_click&pc=1&spelling_corrections=1&ext=mediaStats%2ChighlightedLabel (Caused by NewConnectionError('<urllib3.connection.HTTPSConnection object at 0x7fa0b32bd1c0>: Failed to establish a new connection: [Errno 8] nodename nor servname provided, or not known'))\"))\n",
      "4 requests to https://api.twitter.com/2/search/adaptive.json?include_profile_interstitial_type=1&include_blocking=1&include_blocked_by=1&include_followed_by=1&include_want_retweets=1&include_mute_edge=1&include_can_dm=1&include_can_media_tag=1&skip_status=1&cards_platform=Web-12&include_cards=1&include_ext_alt_text=true&include_quote_count=true&include_reply_count=1&tweet_mode=extended&include_entities=true&include_user_entities=true&include_ext_media_color=true&include_ext_media_availability=true&send_error_codes=true&simple_quoted_tweets=true&q=joe+rogan+place%3Aab2f2fac83aa388d+lang%3Aen&tweet_search_mode=live&count=100&query_source=spelling_expansion_revert_click&pc=1&spelling_corrections=1&ext=mediaStats%2ChighlightedLabel failed, giving up.\n"
     ]
    },
    {
     "name": "stdout",
     "output_type": "stream",
     "text": [
      "SNScraper error - skipping city \n",
      "\n",
      "Scraping Bend tweets\n",
      "SNScraper error - skipping city \n",
      "\n",
      "Scraping Astoria tweets\n",
      "SNScraper error - skipping city \n",
      "\n",
      "Scraping Springfield OR tweets\n",
      "SNScraper error - skipping city \n",
      "\n",
      "Scraping Los Angeles tweets\n",
      "Calculating Los Angeles sentiment\n"
     ]
    },
    {
     "name": "stderr",
     "output_type": "stream",
     "text": [
      "Error retrieving https://api.twitter.com/2/search/adaptive.json?include_profile_interstitial_type=1&include_blocking=1&include_blocked_by=1&include_followed_by=1&include_want_retweets=1&include_mute_edge=1&include_can_dm=1&include_can_media_tag=1&skip_status=1&cards_platform=Web-12&include_cards=1&include_ext_alt_text=true&include_quote_count=true&include_reply_count=1&tweet_mode=extended&include_entities=true&include_user_entities=true&include_ext_media_color=true&include_ext_media_availability=true&send_error_codes=true&simple_quoted_tweets=true&q=joe+rogan+place%3A3b77caf94bfc81fe+lang%3Aen&tweet_search_mode=live&count=100&query_source=spelling_expansion_revert_click&pc=1&spelling_corrections=1&ext=mediaStats%2ChighlightedLabel: ConnectionError(MaxRetryError(\"HTTPSConnectionPool(host='api.twitter.com', port=443): Max retries exceeded with url: /2/search/adaptive.json?include_profile_interstitial_type=1&include_blocking=1&include_blocked_by=1&include_followed_by=1&include_want_retweets=1&include_mute_edge=1&include_can_dm=1&include_can_media_tag=1&skip_status=1&cards_platform=Web-12&include_cards=1&include_ext_alt_text=true&include_quote_count=true&include_reply_count=1&tweet_mode=extended&include_entities=true&include_user_entities=true&include_ext_media_color=true&include_ext_media_availability=true&send_error_codes=true&simple_quoted_tweets=true&q=joe+rogan+place%3A3b77caf94bfc81fe+lang%3Aen&tweet_search_mode=live&count=100&query_source=spelling_expansion_revert_click&pc=1&spelling_corrections=1&ext=mediaStats%2ChighlightedLabel (Caused by NewConnectionError('<urllib3.connection.HTTPSConnection object at 0x7fa0a0015910>: Failed to establish a new connection: [Errno 8] nodename nor servname provided, or not known'))\"))\n",
      "4 requests to https://api.twitter.com/2/search/adaptive.json?include_profile_interstitial_type=1&include_blocking=1&include_blocked_by=1&include_followed_by=1&include_want_retweets=1&include_mute_edge=1&include_can_dm=1&include_can_media_tag=1&skip_status=1&cards_platform=Web-12&include_cards=1&include_ext_alt_text=true&include_quote_count=true&include_reply_count=1&tweet_mode=extended&include_entities=true&include_user_entities=true&include_ext_media_color=true&include_ext_media_availability=true&send_error_codes=true&simple_quoted_tweets=true&q=joe+rogan+place%3A3b77caf94bfc81fe+lang%3Aen&tweet_search_mode=live&count=100&query_source=spelling_expansion_revert_click&pc=1&spelling_corrections=1&ext=mediaStats%2ChighlightedLabel failed, giving up.\n"
     ]
    },
    {
     "name": "stdout",
     "output_type": "stream",
     "text": [
      "SNScraper error - skipping city \n",
      "\n",
      "Scraping Chicago tweets\n",
      "Calculating Chicago sentiment\n"
     ]
    },
    {
     "name": "stderr",
     "output_type": "stream",
     "text": [
      "Error retrieving https://api.twitter.com/2/search/adaptive.json?include_profile_interstitial_type=1&include_blocking=1&include_blocked_by=1&include_followed_by=1&include_want_retweets=1&include_mute_edge=1&include_can_dm=1&include_can_media_tag=1&skip_status=1&cards_platform=Web-12&include_cards=1&include_ext_alt_text=true&include_quote_count=true&include_reply_count=1&tweet_mode=extended&include_entities=true&include_user_entities=true&include_ext_media_color=true&include_ext_media_availability=true&send_error_codes=true&simple_quoted_tweets=true&q=joe+rogan+place%3A1d9a5370a355ab0c+lang%3Aen&tweet_search_mode=live&count=100&query_source=spelling_expansion_revert_click&pc=1&spelling_corrections=1&ext=mediaStats%2ChighlightedLabel: ConnectionError(MaxRetryError(\"HTTPSConnectionPool(host='api.twitter.com', port=443): Max retries exceeded with url: /2/search/adaptive.json?include_profile_interstitial_type=1&include_blocking=1&include_blocked_by=1&include_followed_by=1&include_want_retweets=1&include_mute_edge=1&include_can_dm=1&include_can_media_tag=1&skip_status=1&cards_platform=Web-12&include_cards=1&include_ext_alt_text=true&include_quote_count=true&include_reply_count=1&tweet_mode=extended&include_entities=true&include_user_entities=true&include_ext_media_color=true&include_ext_media_availability=true&send_error_codes=true&simple_quoted_tweets=true&q=joe+rogan+place%3A1d9a5370a355ab0c+lang%3Aen&tweet_search_mode=live&count=100&query_source=spelling_expansion_revert_click&pc=1&spelling_corrections=1&ext=mediaStats%2ChighlightedLabel (Caused by NewConnectionError('<urllib3.connection.HTTPSConnection object at 0x7fa0a00157c0>: Failed to establish a new connection: [Errno 8] nodename nor servname provided, or not known'))\"))\n",
      "4 requests to https://api.twitter.com/2/search/adaptive.json?include_profile_interstitial_type=1&include_blocking=1&include_blocked_by=1&include_followed_by=1&include_want_retweets=1&include_mute_edge=1&include_can_dm=1&include_can_media_tag=1&skip_status=1&cards_platform=Web-12&include_cards=1&include_ext_alt_text=true&include_quote_count=true&include_reply_count=1&tweet_mode=extended&include_entities=true&include_user_entities=true&include_ext_media_color=true&include_ext_media_availability=true&send_error_codes=true&simple_quoted_tweets=true&q=joe+rogan+place%3A1d9a5370a355ab0c+lang%3Aen&tweet_search_mode=live&count=100&query_source=spelling_expansion_revert_click&pc=1&spelling_corrections=1&ext=mediaStats%2ChighlightedLabel failed, giving up.\n"
     ]
    },
    {
     "name": "stdout",
     "output_type": "stream",
     "text": [
      "SNScraper error - skipping city \n",
      "\n",
      "Scraping New York tweets\n",
      "Calculating New York sentiment\n"
     ]
    },
    {
     "name": "stderr",
     "output_type": "stream",
     "text": [
      "Error retrieving https://api.twitter.com/2/search/adaptive.json?include_profile_interstitial_type=1&include_blocking=1&include_blocked_by=1&include_followed_by=1&include_want_retweets=1&include_mute_edge=1&include_can_dm=1&include_can_media_tag=1&skip_status=1&cards_platform=Web-12&include_cards=1&include_ext_alt_text=true&include_quote_count=true&include_reply_count=1&tweet_mode=extended&include_entities=true&include_user_entities=true&include_ext_media_color=true&include_ext_media_availability=true&send_error_codes=true&simple_quoted_tweets=true&q=joe+rogan+place%3A94965b2c45386f87+lang%3Aen&tweet_search_mode=live&count=100&query_source=spelling_expansion_revert_click&pc=1&spelling_corrections=1&ext=mediaStats%2ChighlightedLabel: ConnectionError(MaxRetryError(\"HTTPSConnectionPool(host='api.twitter.com', port=443): Max retries exceeded with url: /2/search/adaptive.json?include_profile_interstitial_type=1&include_blocking=1&include_blocked_by=1&include_followed_by=1&include_want_retweets=1&include_mute_edge=1&include_can_dm=1&include_can_media_tag=1&skip_status=1&cards_platform=Web-12&include_cards=1&include_ext_alt_text=true&include_quote_count=true&include_reply_count=1&tweet_mode=extended&include_entities=true&include_user_entities=true&include_ext_media_color=true&include_ext_media_availability=true&send_error_codes=true&simple_quoted_tweets=true&q=joe+rogan+place%3A94965b2c45386f87+lang%3Aen&tweet_search_mode=live&count=100&query_source=spelling_expansion_revert_click&pc=1&spelling_corrections=1&ext=mediaStats%2ChighlightedLabel (Caused by NewConnectionError('<urllib3.connection.HTTPSConnection object at 0x7fa0a0015cd0>: Failed to establish a new connection: [Errno 8] nodename nor servname provided, or not known'))\"))\n",
      "4 requests to https://api.twitter.com/2/search/adaptive.json?include_profile_interstitial_type=1&include_blocking=1&include_blocked_by=1&include_followed_by=1&include_want_retweets=1&include_mute_edge=1&include_can_dm=1&include_can_media_tag=1&skip_status=1&cards_platform=Web-12&include_cards=1&include_ext_alt_text=true&include_quote_count=true&include_reply_count=1&tweet_mode=extended&include_entities=true&include_user_entities=true&include_ext_media_color=true&include_ext_media_availability=true&send_error_codes=true&simple_quoted_tweets=true&q=joe+rogan+place%3A94965b2c45386f87+lang%3Aen&tweet_search_mode=live&count=100&query_source=spelling_expansion_revert_click&pc=1&spelling_corrections=1&ext=mediaStats%2ChighlightedLabel failed, giving up.\n"
     ]
    },
    {
     "name": "stdout",
     "output_type": "stream",
     "text": [
      "SNScraper error - skipping city \n",
      "\n",
      "Scraping Boston tweets\n",
      "Calculating Boston sentiment\n"
     ]
    },
    {
     "name": "stderr",
     "output_type": "stream",
     "text": [
      "Error retrieving https://api.twitter.com/2/search/adaptive.json?include_profile_interstitial_type=1&include_blocking=1&include_blocked_by=1&include_followed_by=1&include_want_retweets=1&include_mute_edge=1&include_can_dm=1&include_can_media_tag=1&skip_status=1&cards_platform=Web-12&include_cards=1&include_ext_alt_text=true&include_quote_count=true&include_reply_count=1&tweet_mode=extended&include_entities=true&include_user_entities=true&include_ext_media_color=true&include_ext_media_availability=true&send_error_codes=true&simple_quoted_tweets=true&q=joe+rogan+place%3A67b98f17fdcf20be+lang%3Aen&tweet_search_mode=live&count=100&query_source=spelling_expansion_revert_click&pc=1&spelling_corrections=1&ext=mediaStats%2ChighlightedLabel: ConnectionError(MaxRetryError(\"HTTPSConnectionPool(host='api.twitter.com', port=443): Max retries exceeded with url: /2/search/adaptive.json?include_profile_interstitial_type=1&include_blocking=1&include_blocked_by=1&include_followed_by=1&include_want_retweets=1&include_mute_edge=1&include_can_dm=1&include_can_media_tag=1&skip_status=1&cards_platform=Web-12&include_cards=1&include_ext_alt_text=true&include_quote_count=true&include_reply_count=1&tweet_mode=extended&include_entities=true&include_user_entities=true&include_ext_media_color=true&include_ext_media_availability=true&send_error_codes=true&simple_quoted_tweets=true&q=joe+rogan+place%3A67b98f17fdcf20be+lang%3Aen&tweet_search_mode=live&count=100&query_source=spelling_expansion_revert_click&pc=1&spelling_corrections=1&ext=mediaStats%2ChighlightedLabel (Caused by NewConnectionError('<urllib3.connection.HTTPSConnection object at 0x7fa0a0015820>: Failed to establish a new connection: [Errno 8] nodename nor servname provided, or not known'))\"))\n",
      "4 requests to https://api.twitter.com/2/search/adaptive.json?include_profile_interstitial_type=1&include_blocking=1&include_blocked_by=1&include_followed_by=1&include_want_retweets=1&include_mute_edge=1&include_can_dm=1&include_can_media_tag=1&skip_status=1&cards_platform=Web-12&include_cards=1&include_ext_alt_text=true&include_quote_count=true&include_reply_count=1&tweet_mode=extended&include_entities=true&include_user_entities=true&include_ext_media_color=true&include_ext_media_availability=true&send_error_codes=true&simple_quoted_tweets=true&q=joe+rogan+place%3A67b98f17fdcf20be+lang%3Aen&tweet_search_mode=live&count=100&query_source=spelling_expansion_revert_click&pc=1&spelling_corrections=1&ext=mediaStats%2ChighlightedLabel failed, giving up.\n"
     ]
    },
    {
     "name": "stdout",
     "output_type": "stream",
     "text": [
      "SNScraper error - skipping city \n",
      "\n",
      "Scraping Washington tweets\n",
      "Calculating Washington sentiment\n"
     ]
    },
    {
     "name": "stderr",
     "output_type": "stream",
     "text": [
      "Error retrieving https://api.twitter.com/2/search/adaptive.json?include_profile_interstitial_type=1&include_blocking=1&include_blocked_by=1&include_followed_by=1&include_want_retweets=1&include_mute_edge=1&include_can_dm=1&include_can_media_tag=1&skip_status=1&cards_platform=Web-12&include_cards=1&include_ext_alt_text=true&include_quote_count=true&include_reply_count=1&tweet_mode=extended&include_entities=true&include_user_entities=true&include_ext_media_color=true&include_ext_media_availability=true&send_error_codes=true&simple_quoted_tweets=true&q=joe+rogan+place%3A01fbe706f872cb32+lang%3Aen&tweet_search_mode=live&count=100&query_source=spelling_expansion_revert_click&pc=1&spelling_corrections=1&ext=mediaStats%2ChighlightedLabel: ConnectionError(MaxRetryError(\"HTTPSConnectionPool(host='api.twitter.com', port=443): Max retries exceeded with url: /2/search/adaptive.json?include_profile_interstitial_type=1&include_blocking=1&include_blocked_by=1&include_followed_by=1&include_want_retweets=1&include_mute_edge=1&include_can_dm=1&include_can_media_tag=1&skip_status=1&cards_platform=Web-12&include_cards=1&include_ext_alt_text=true&include_quote_count=true&include_reply_count=1&tweet_mode=extended&include_entities=true&include_user_entities=true&include_ext_media_color=true&include_ext_media_availability=true&send_error_codes=true&simple_quoted_tweets=true&q=joe+rogan+place%3A01fbe706f872cb32+lang%3Aen&tweet_search_mode=live&count=100&query_source=spelling_expansion_revert_click&pc=1&spelling_corrections=1&ext=mediaStats%2ChighlightedLabel (Caused by NewConnectionError('<urllib3.connection.HTTPSConnection object at 0x7fa0b32bd730>: Failed to establish a new connection: [Errno 8] nodename nor servname provided, or not known'))\"))\n",
      "4 requests to https://api.twitter.com/2/search/adaptive.json?include_profile_interstitial_type=1&include_blocking=1&include_blocked_by=1&include_followed_by=1&include_want_retweets=1&include_mute_edge=1&include_can_dm=1&include_can_media_tag=1&skip_status=1&cards_platform=Web-12&include_cards=1&include_ext_alt_text=true&include_quote_count=true&include_reply_count=1&tweet_mode=extended&include_entities=true&include_user_entities=true&include_ext_media_color=true&include_ext_media_availability=true&send_error_codes=true&simple_quoted_tweets=true&q=joe+rogan+place%3A01fbe706f872cb32+lang%3Aen&tweet_search_mode=live&count=100&query_source=spelling_expansion_revert_click&pc=1&spelling_corrections=1&ext=mediaStats%2ChighlightedLabel failed, giving up.\n"
     ]
    },
    {
     "name": "stdout",
     "output_type": "stream",
     "text": [
      "SNScraper error - skipping city \n",
      "\n",
      "Scraping Miami tweets\n",
      "Calculating Miami sentiment\n"
     ]
    },
    {
     "name": "stderr",
     "output_type": "stream",
     "text": [
      "Error retrieving https://api.twitter.com/2/search/adaptive.json?include_profile_interstitial_type=1&include_blocking=1&include_blocked_by=1&include_followed_by=1&include_want_retweets=1&include_mute_edge=1&include_can_dm=1&include_can_media_tag=1&skip_status=1&cards_platform=Web-12&include_cards=1&include_ext_alt_text=true&include_quote_count=true&include_reply_count=1&tweet_mode=extended&include_entities=true&include_user_entities=true&include_ext_media_color=true&include_ext_media_availability=true&send_error_codes=true&simple_quoted_tweets=true&q=joe+rogan+place%3A04cb31bae3b3af93+lang%3Aen&tweet_search_mode=live&count=100&query_source=spelling_expansion_revert_click&pc=1&spelling_corrections=1&ext=mediaStats%2ChighlightedLabel: ConnectionError(MaxRetryError(\"HTTPSConnectionPool(host='api.twitter.com', port=443): Max retries exceeded with url: /2/search/adaptive.json?include_profile_interstitial_type=1&include_blocking=1&include_blocked_by=1&include_followed_by=1&include_want_retweets=1&include_mute_edge=1&include_can_dm=1&include_can_media_tag=1&skip_status=1&cards_platform=Web-12&include_cards=1&include_ext_alt_text=true&include_quote_count=true&include_reply_count=1&tweet_mode=extended&include_entities=true&include_user_entities=true&include_ext_media_color=true&include_ext_media_availability=true&send_error_codes=true&simple_quoted_tweets=true&q=joe+rogan+place%3A04cb31bae3b3af93+lang%3Aen&tweet_search_mode=live&count=100&query_source=spelling_expansion_revert_click&pc=1&spelling_corrections=1&ext=mediaStats%2ChighlightedLabel (Caused by NewConnectionError('<urllib3.connection.HTTPSConnection object at 0x7fa0b32bd430>: Failed to establish a new connection: [Errno 8] nodename nor servname provided, or not known'))\"))\n",
      "4 requests to https://api.twitter.com/2/search/adaptive.json?include_profile_interstitial_type=1&include_blocking=1&include_blocked_by=1&include_followed_by=1&include_want_retweets=1&include_mute_edge=1&include_can_dm=1&include_can_media_tag=1&skip_status=1&cards_platform=Web-12&include_cards=1&include_ext_alt_text=true&include_quote_count=true&include_reply_count=1&tweet_mode=extended&include_entities=true&include_user_entities=true&include_ext_media_color=true&include_ext_media_availability=true&send_error_codes=true&simple_quoted_tweets=true&q=joe+rogan+place%3A04cb31bae3b3af93+lang%3Aen&tweet_search_mode=live&count=100&query_source=spelling_expansion_revert_click&pc=1&spelling_corrections=1&ext=mediaStats%2ChighlightedLabel failed, giving up.\n"
     ]
    },
    {
     "name": "stdout",
     "output_type": "stream",
     "text": [
      "SNScraper error - skipping city \n",
      "\n",
      "Scraping Denver tweets\n",
      "Calculating Denver sentiment\n"
     ]
    },
    {
     "name": "stderr",
     "output_type": "stream",
     "text": [
      "Error retrieving https://api.twitter.com/2/search/adaptive.json?include_profile_interstitial_type=1&include_blocking=1&include_blocked_by=1&include_followed_by=1&include_want_retweets=1&include_mute_edge=1&include_can_dm=1&include_can_media_tag=1&skip_status=1&cards_platform=Web-12&include_cards=1&include_ext_alt_text=true&include_quote_count=true&include_reply_count=1&tweet_mode=extended&include_entities=true&include_user_entities=true&include_ext_media_color=true&include_ext_media_availability=true&send_error_codes=true&simple_quoted_tweets=true&q=joe+rogan+place%3Ab49b3053b5c25bf5+lang%3Aen&tweet_search_mode=live&count=100&query_source=spelling_expansion_revert_click&pc=1&spelling_corrections=1&ext=mediaStats%2ChighlightedLabel: ConnectionError(MaxRetryError(\"HTTPSConnectionPool(host='api.twitter.com', port=443): Max retries exceeded with url: /2/search/adaptive.json?include_profile_interstitial_type=1&include_blocking=1&include_blocked_by=1&include_followed_by=1&include_want_retweets=1&include_mute_edge=1&include_can_dm=1&include_can_media_tag=1&skip_status=1&cards_platform=Web-12&include_cards=1&include_ext_alt_text=true&include_quote_count=true&include_reply_count=1&tweet_mode=extended&include_entities=true&include_user_entities=true&include_ext_media_color=true&include_ext_media_availability=true&send_error_codes=true&simple_quoted_tweets=true&q=joe+rogan+place%3Ab49b3053b5c25bf5+lang%3Aen&tweet_search_mode=live&count=100&query_source=spelling_expansion_revert_click&pc=1&spelling_corrections=1&ext=mediaStats%2ChighlightedLabel (Caused by NewConnectionError('<urllib3.connection.HTTPSConnection object at 0x7fa0b27695e0>: Failed to establish a new connection: [Errno 8] nodename nor servname provided, or not known'))\"))\n",
      "4 requests to https://api.twitter.com/2/search/adaptive.json?include_profile_interstitial_type=1&include_blocking=1&include_blocked_by=1&include_followed_by=1&include_want_retweets=1&include_mute_edge=1&include_can_dm=1&include_can_media_tag=1&skip_status=1&cards_platform=Web-12&include_cards=1&include_ext_alt_text=true&include_quote_count=true&include_reply_count=1&tweet_mode=extended&include_entities=true&include_user_entities=true&include_ext_media_color=true&include_ext_media_availability=true&send_error_codes=true&simple_quoted_tweets=true&q=joe+rogan+place%3Ab49b3053b5c25bf5+lang%3Aen&tweet_search_mode=live&count=100&query_source=spelling_expansion_revert_click&pc=1&spelling_corrections=1&ext=mediaStats%2ChighlightedLabel failed, giving up.\n"
     ]
    },
    {
     "name": "stdout",
     "output_type": "stream",
     "text": [
      "SNScraper error - skipping city \n",
      "\n"
     ]
    },
    {
     "data": {
      "text/html": [
       "<div style=\"width:100%;\"><div style=\"position:relative;width:100%;height:0;padding-bottom:60%;\"><span style=\"color:#565656\">Make this Notebook Trusted to load map: File -> Trust Notebook</span><iframe src=\"about:blank\" style=\"position:absolute;width:100%;height:100%;left:0;top:0;border:none !important;\" data-html=%3C%21DOCTYPE%20html%3E%0A%3Chead%3E%20%20%20%20%0A%20%20%20%20%3Cmeta%20http-equiv%3D%22content-type%22%20content%3D%22text/html%3B%20charset%3DUTF-8%22%20/%3E%0A%20%20%20%20%0A%20%20%20%20%20%20%20%20%3Cscript%3E%0A%20%20%20%20%20%20%20%20%20%20%20%20L_NO_TOUCH%20%3D%20false%3B%0A%20%20%20%20%20%20%20%20%20%20%20%20L_DISABLE_3D%20%3D%20false%3B%0A%20%20%20%20%20%20%20%20%3C/script%3E%0A%20%20%20%20%0A%20%20%20%20%3Cstyle%3Ehtml%2C%20body%20%7Bwidth%3A%20100%25%3Bheight%3A%20100%25%3Bmargin%3A%200%3Bpadding%3A%200%3B%7D%3C/style%3E%0A%20%20%20%20%3Cstyle%3E%23map%20%7Bposition%3Aabsolute%3Btop%3A0%3Bbottom%3A0%3Bright%3A0%3Bleft%3A0%3B%7D%3C/style%3E%0A%20%20%20%20%3Cscript%20src%3D%22https%3A//cdn.jsdelivr.net/npm/leaflet%401.6.0/dist/leaflet.js%22%3E%3C/script%3E%0A%20%20%20%20%3Cscript%20src%3D%22https%3A//code.jquery.com/jquery-1.12.4.min.js%22%3E%3C/script%3E%0A%20%20%20%20%3Cscript%20src%3D%22https%3A//maxcdn.bootstrapcdn.com/bootstrap/3.2.0/js/bootstrap.min.js%22%3E%3C/script%3E%0A%20%20%20%20%3Cscript%20src%3D%22https%3A//cdnjs.cloudflare.com/ajax/libs/Leaflet.awesome-markers/2.0.2/leaflet.awesome-markers.js%22%3E%3C/script%3E%0A%20%20%20%20%3Clink%20rel%3D%22stylesheet%22%20href%3D%22https%3A//cdn.jsdelivr.net/npm/leaflet%401.6.0/dist/leaflet.css%22/%3E%0A%20%20%20%20%3Clink%20rel%3D%22stylesheet%22%20href%3D%22https%3A//maxcdn.bootstrapcdn.com/bootstrap/3.2.0/css/bootstrap.min.css%22/%3E%0A%20%20%20%20%3Clink%20rel%3D%22stylesheet%22%20href%3D%22https%3A//maxcdn.bootstrapcdn.com/bootstrap/3.2.0/css/bootstrap-theme.min.css%22/%3E%0A%20%20%20%20%3Clink%20rel%3D%22stylesheet%22%20href%3D%22https%3A//maxcdn.bootstrapcdn.com/font-awesome/4.6.3/css/font-awesome.min.css%22/%3E%0A%20%20%20%20%3Clink%20rel%3D%22stylesheet%22%20href%3D%22https%3A//cdnjs.cloudflare.com/ajax/libs/Leaflet.awesome-markers/2.0.2/leaflet.awesome-markers.css%22/%3E%0A%20%20%20%20%3Clink%20rel%3D%22stylesheet%22%20href%3D%22https%3A//cdn.jsdelivr.net/gh/python-visualization/folium/folium/templates/leaflet.awesome.rotate.min.css%22/%3E%0A%20%20%20%20%0A%20%20%20%20%20%20%20%20%20%20%20%20%3Cmeta%20name%3D%22viewport%22%20content%3D%22width%3Ddevice-width%2C%0A%20%20%20%20%20%20%20%20%20%20%20%20%20%20%20%20initial-scale%3D1.0%2C%20maximum-scale%3D1.0%2C%20user-scalable%3Dno%22%20/%3E%0A%20%20%20%20%20%20%20%20%20%20%20%20%3Cstyle%3E%0A%20%20%20%20%20%20%20%20%20%20%20%20%20%20%20%20%23map_ae0ec15a99184ac0acd523eebfdb0483%20%7B%0A%20%20%20%20%20%20%20%20%20%20%20%20%20%20%20%20%20%20%20%20position%3A%20relative%3B%0A%20%20%20%20%20%20%20%20%20%20%20%20%20%20%20%20%20%20%20%20width%3A%20100.0%25%3B%0A%20%20%20%20%20%20%20%20%20%20%20%20%20%20%20%20%20%20%20%20height%3A%20100.0%25%3B%0A%20%20%20%20%20%20%20%20%20%20%20%20%20%20%20%20%20%20%20%20left%3A%200.0%25%3B%0A%20%20%20%20%20%20%20%20%20%20%20%20%20%20%20%20%20%20%20%20top%3A%200.0%25%3B%0A%20%20%20%20%20%20%20%20%20%20%20%20%20%20%20%20%7D%0A%20%20%20%20%20%20%20%20%20%20%20%20%3C/style%3E%0A%20%20%20%20%20%20%20%20%0A%3C/head%3E%0A%3Cbody%3E%20%20%20%20%0A%20%20%20%20%0A%20%20%20%20%20%20%20%20%20%20%20%20%3Cdiv%20class%3D%22folium-map%22%20id%3D%22map_ae0ec15a99184ac0acd523eebfdb0483%22%20%3E%3C/div%3E%0A%20%20%20%20%20%20%20%20%0A%3C/body%3E%0A%3Cscript%3E%20%20%20%20%0A%20%20%20%20%0A%20%20%20%20%20%20%20%20%20%20%20%20var%20map_ae0ec15a99184ac0acd523eebfdb0483%20%3D%20L.map%28%0A%20%20%20%20%20%20%20%20%20%20%20%20%20%20%20%20%22map_ae0ec15a99184ac0acd523eebfdb0483%22%2C%0A%20%20%20%20%20%20%20%20%20%20%20%20%20%20%20%20%7B%0A%20%20%20%20%20%20%20%20%20%20%20%20%20%20%20%20%20%20%20%20center%3A%20%5B45.5236%2C%20-122.675%5D%2C%0A%20%20%20%20%20%20%20%20%20%20%20%20%20%20%20%20%20%20%20%20crs%3A%20L.CRS.EPSG3857%2C%0A%20%20%20%20%20%20%20%20%20%20%20%20%20%20%20%20%20%20%20%20zoom%3A%206%2C%0A%20%20%20%20%20%20%20%20%20%20%20%20%20%20%20%20%20%20%20%20zoomControl%3A%20true%2C%0A%20%20%20%20%20%20%20%20%20%20%20%20%20%20%20%20%20%20%20%20preferCanvas%3A%20false%2C%0A%20%20%20%20%20%20%20%20%20%20%20%20%20%20%20%20%7D%0A%20%20%20%20%20%20%20%20%20%20%20%20%29%3B%0A%0A%20%20%20%20%20%20%20%20%20%20%20%20%0A%0A%20%20%20%20%20%20%20%20%0A%20%20%20%20%0A%20%20%20%20%20%20%20%20%20%20%20%20var%20tile_layer_a9499c672f524e8ca200b4731e00800b%20%3D%20L.tileLayer%28%0A%20%20%20%20%20%20%20%20%20%20%20%20%20%20%20%20%22https%3A//stamen-tiles-%7Bs%7D.a.ssl.fastly.net/toner/%7Bz%7D/%7Bx%7D/%7By%7D.png%22%2C%0A%20%20%20%20%20%20%20%20%20%20%20%20%20%20%20%20%7B%22attribution%22%3A%20%22Map%20tiles%20by%20%5Cu003ca%20href%3D%5C%22http%3A//stamen.com%5C%22%5Cu003eStamen%20Design%5Cu003c/a%5Cu003e%2C%20under%20%5Cu003ca%20href%3D%5C%22http%3A//creativecommons.org/licenses/by/3.0%5C%22%5Cu003eCC%20BY%203.0%5Cu003c/a%5Cu003e.%20Data%20by%20%5Cu0026copy%3B%20%5Cu003ca%20href%3D%5C%22http%3A//openstreetmap.org%5C%22%5Cu003eOpenStreetMap%5Cu003c/a%5Cu003e%2C%20under%20%5Cu003ca%20href%3D%5C%22http%3A//www.openstreetmap.org/copyright%5C%22%5Cu003eODbL%5Cu003c/a%5Cu003e.%22%2C%20%22detectRetina%22%3A%20false%2C%20%22maxNativeZoom%22%3A%2018%2C%20%22maxZoom%22%3A%2018%2C%20%22minZoom%22%3A%200%2C%20%22noWrap%22%3A%20false%2C%20%22opacity%22%3A%201%2C%20%22subdomains%22%3A%20%22abc%22%2C%20%22tms%22%3A%20false%7D%0A%20%20%20%20%20%20%20%20%20%20%20%20%29.addTo%28map_ae0ec15a99184ac0acd523eebfdb0483%29%3B%0A%20%20%20%20%20%20%20%20%0A%20%20%20%20%0A%20%20%20%20%20%20%20%20%20%20%20%20var%20marker_e75090c8f8f8409c915d72f2ac4e451a%20%3D%20L.marker%28%0A%20%20%20%20%20%20%20%20%20%20%20%20%20%20%20%20%5B49.19854%2C%20-123.224215%5D%2C%0A%20%20%20%20%20%20%20%20%20%20%20%20%20%20%20%20%7B%7D%0A%20%20%20%20%20%20%20%20%20%20%20%20%29.addTo%28map_ae0ec15a99184ac0acd523eebfdb0483%29%3B%0A%20%20%20%20%20%20%20%20%0A%20%20%20%20%0A%20%20%20%20%20%20%20%20%20%20%20%20var%20icon_508a7e8404f549d78c5b2c68d4e3f96b%20%3D%20L.AwesomeMarkers.icon%28%0A%20%20%20%20%20%20%20%20%20%20%20%20%20%20%20%20%7B%22extraClasses%22%3A%20%22fa-rotate-0%22%2C%20%22icon%22%3A%20%22glyphicon-thumbs-up%22%2C%20%22iconColor%22%3A%20%22white%22%2C%20%22markerColor%22%3A%20%22lightgreen%22%2C%20%22prefix%22%3A%20%22glyphicon%22%7D%0A%20%20%20%20%20%20%20%20%20%20%20%20%29%3B%0A%20%20%20%20%20%20%20%20%20%20%20%20marker_e75090c8f8f8409c915d72f2ac4e451a.setIcon%28icon_508a7e8404f549d78c5b2c68d4e3f96b%29%3B%0A%20%20%20%20%20%20%20%20%0A%20%20%20%20%0A%20%20%20%20%20%20%20%20var%20popup_5cefbedf3c4f47a3ba8d60670327e5d9%20%3D%20L.popup%28%7B%22maxWidth%22%3A%20%22100%25%22%7D%29%3B%0A%0A%20%20%20%20%20%20%20%20%0A%20%20%20%20%20%20%20%20%20%20%20%20var%20html_18d808cbeea04c379c9f6469894cb483%20%3D%20%24%28%60%3Cdiv%20id%3D%22html_18d808cbeea04c379c9f6469894cb483%22%20style%3D%22width%3A%20100.0%25%3B%20height%3A%20100.0%25%3B%22%3EVancouver%20polarity%20for%20the%20term%20%22joe%20rogan%22%20is%3A%200.06564989177489176%3C/div%3E%60%29%5B0%5D%3B%0A%20%20%20%20%20%20%20%20%20%20%20%20popup_5cefbedf3c4f47a3ba8d60670327e5d9.setContent%28html_18d808cbeea04c379c9f6469894cb483%29%3B%0A%20%20%20%20%20%20%20%20%0A%0A%20%20%20%20%20%20%20%20marker_e75090c8f8f8409c915d72f2ac4e451a.bindPopup%28popup_5cefbedf3c4f47a3ba8d60670327e5d9%29%0A%20%20%20%20%20%20%20%20%3B%0A%0A%20%20%20%20%20%20%20%20%0A%20%20%20%20%0A%20%20%20%20%0A%20%20%20%20%20%20%20%20%20%20%20%20var%20marker_1106c4de03bb400790e442571d823586%20%3D%20L.marker%28%0A%20%20%20%20%20%20%20%20%20%20%20%20%20%20%20%20%5B47.4953154%2C%20-122.436232%5D%2C%0A%20%20%20%20%20%20%20%20%20%20%20%20%20%20%20%20%7B%7D%0A%20%20%20%20%20%20%20%20%20%20%20%20%29.addTo%28map_ae0ec15a99184ac0acd523eebfdb0483%29%3B%0A%20%20%20%20%20%20%20%20%0A%20%20%20%20%0A%20%20%20%20%20%20%20%20%20%20%20%20var%20icon_9be6a61af62a4fcdbac012ad827d6621%20%3D%20L.AwesomeMarkers.icon%28%0A%20%20%20%20%20%20%20%20%20%20%20%20%20%20%20%20%7B%22extraClasses%22%3A%20%22fa-rotate-0%22%2C%20%22icon%22%3A%20%22glyphicon-thumbs-down%22%2C%20%22iconColor%22%3A%20%22white%22%2C%20%22markerColor%22%3A%20%22lightred%22%2C%20%22prefix%22%3A%20%22glyphicon%22%7D%0A%20%20%20%20%20%20%20%20%20%20%20%20%29%3B%0A%20%20%20%20%20%20%20%20%20%20%20%20marker_1106c4de03bb400790e442571d823586.setIcon%28icon_9be6a61af62a4fcdbac012ad827d6621%29%3B%0A%20%20%20%20%20%20%20%20%0A%20%20%20%20%0A%20%20%20%20%20%20%20%20var%20popup_7acf676191bf4b0ab1e77d4d8bfd315d%20%3D%20L.popup%28%7B%22maxWidth%22%3A%20%22100%25%22%7D%29%3B%0A%0A%20%20%20%20%20%20%20%20%0A%20%20%20%20%20%20%20%20%20%20%20%20var%20html_4bce3ed14d21449ea771923b89ef49ba%20%3D%20%24%28%60%3Cdiv%20id%3D%22html_4bce3ed14d21449ea771923b89ef49ba%22%20style%3D%22width%3A%20100.0%25%3B%20height%3A%20100.0%25%3B%22%3ESeattle%20polarity%20for%20the%20term%20%22joe%20rogan%22%20is%3A%20-0.027894300144300145%3C/div%3E%60%29%5B0%5D%3B%0A%20%20%20%20%20%20%20%20%20%20%20%20popup_7acf676191bf4b0ab1e77d4d8bfd315d.setContent%28html_4bce3ed14d21449ea771923b89ef49ba%29%3B%0A%20%20%20%20%20%20%20%20%0A%0A%20%20%20%20%20%20%20%20marker_1106c4de03bb400790e442571d823586.bindPopup%28popup_7acf676191bf4b0ab1e77d4d8bfd315d%29%0A%20%20%20%20%20%20%20%20%3B%0A%0A%20%20%20%20%20%20%20%20%0A%20%20%20%20%0A%20%20%20%20%0A%20%20%20%20%20%20%20%20%20%20%20%20var%20marker_5064ffcc6eb447bc901df2b2c6dd668a%20%3D%20L.marker%28%0A%20%20%20%20%20%20%20%20%20%20%20%20%20%20%20%20%5B45.421863%2C%20-122.7900653%5D%2C%0A%20%20%20%20%20%20%20%20%20%20%20%20%20%20%20%20%7B%7D%0A%20%20%20%20%20%20%20%20%20%20%20%20%29.addTo%28map_ae0ec15a99184ac0acd523eebfdb0483%29%3B%0A%20%20%20%20%20%20%20%20%0A%20%20%20%20%0A%20%20%20%20%20%20%20%20%20%20%20%20var%20icon_17cce5626f6d4c73aecec67da58ade5b%20%3D%20L.AwesomeMarkers.icon%28%0A%20%20%20%20%20%20%20%20%20%20%20%20%20%20%20%20%7B%22extraClasses%22%3A%20%22fa-rotate-0%22%2C%20%22icon%22%3A%20%22glyphicon-thumbs-down%22%2C%20%22iconColor%22%3A%20%22white%22%2C%20%22markerColor%22%3A%20%22lightred%22%2C%20%22prefix%22%3A%20%22glyphicon%22%7D%0A%20%20%20%20%20%20%20%20%20%20%20%20%29%3B%0A%20%20%20%20%20%20%20%20%20%20%20%20marker_5064ffcc6eb447bc901df2b2c6dd668a.setIcon%28icon_17cce5626f6d4c73aecec67da58ade5b%29%3B%0A%20%20%20%20%20%20%20%20%0A%20%20%20%20%0A%20%20%20%20%20%20%20%20var%20popup_b2e0cc0f17844a4a8468bf35387ef176%20%3D%20L.popup%28%7B%22maxWidth%22%3A%20%22100%25%22%7D%29%3B%0A%0A%20%20%20%20%20%20%20%20%0A%20%20%20%20%20%20%20%20%20%20%20%20var%20html_1baf3cb3560d4e578cc57ef4b0d52e80%20%3D%20%24%28%60%3Cdiv%20id%3D%22html_1baf3cb3560d4e578cc57ef4b0d52e80%22%20style%3D%22width%3A%20100.0%25%3B%20height%3A%20100.0%25%3B%22%3EPortland%20polarity%20for%20the%20term%20%22joe%20rogan%22%20is%3A%20-0.020728174603174603%3C/div%3E%60%29%5B0%5D%3B%0A%20%20%20%20%20%20%20%20%20%20%20%20popup_b2e0cc0f17844a4a8468bf35387ef176.setContent%28html_1baf3cb3560d4e578cc57ef4b0d52e80%29%3B%0A%20%20%20%20%20%20%20%20%0A%0A%20%20%20%20%20%20%20%20marker_5064ffcc6eb447bc901df2b2c6dd668a.bindPopup%28popup_b2e0cc0f17844a4a8468bf35387ef176%29%0A%20%20%20%20%20%20%20%20%3B%0A%0A%20%20%20%20%20%20%20%20%0A%20%20%20%20%0A%20%20%20%20%0A%20%20%20%20%20%20%20%20%20%20%20%20var%20marker_608a9e9e48ea43189432d3597b6f9aea%20%3D%20L.marker%28%0A%20%20%20%20%20%20%20%20%20%20%20%20%20%20%20%20%5B33.704538%2C%20-118.668404%5D%2C%0A%20%20%20%20%20%20%20%20%20%20%20%20%20%20%20%20%7B%7D%0A%20%20%20%20%20%20%20%20%20%20%20%20%29.addTo%28map_ae0ec15a99184ac0acd523eebfdb0483%29%3B%0A%20%20%20%20%20%20%20%20%0A%20%20%20%20%0A%20%20%20%20%20%20%20%20%20%20%20%20var%20icon_1ef4ec7d2fa74c5e84fc9c859ab76bca%20%3D%20L.AwesomeMarkers.icon%28%0A%20%20%20%20%20%20%20%20%20%20%20%20%20%20%20%20%7B%22extraClasses%22%3A%20%22fa-rotate-0%22%2C%20%22icon%22%3A%20%22glyphicon-thumbs-up%22%2C%20%22iconColor%22%3A%20%22white%22%2C%20%22markerColor%22%3A%20%22lightgreen%22%2C%20%22prefix%22%3A%20%22glyphicon%22%7D%0A%20%20%20%20%20%20%20%20%20%20%20%20%29%3B%0A%20%20%20%20%20%20%20%20%20%20%20%20marker_608a9e9e48ea43189432d3597b6f9aea.setIcon%28icon_1ef4ec7d2fa74c5e84fc9c859ab76bca%29%3B%0A%20%20%20%20%20%20%20%20%0A%20%20%20%20%0A%20%20%20%20%20%20%20%20var%20popup_17ca58ab72994112bbea2a1795eb3f10%20%3D%20L.popup%28%7B%22maxWidth%22%3A%20%22100%25%22%7D%29%3B%0A%0A%20%20%20%20%20%20%20%20%0A%20%20%20%20%20%20%20%20%20%20%20%20var%20html_6d7e349d0a5446a397a5a0499581324d%20%3D%20%24%28%60%3Cdiv%20id%3D%22html_6d7e349d0a5446a397a5a0499581324d%22%20style%3D%22width%3A%20100.0%25%3B%20height%3A%20100.0%25%3B%22%3ELos%20Angeles%20polarity%20for%20the%20term%20%22joe%20rogan%22%20is%3A%200.051899386724386716%3C/div%3E%60%29%5B0%5D%3B%0A%20%20%20%20%20%20%20%20%20%20%20%20popup_17ca58ab72994112bbea2a1795eb3f10.setContent%28html_6d7e349d0a5446a397a5a0499581324d%29%3B%0A%20%20%20%20%20%20%20%20%0A%0A%20%20%20%20%20%20%20%20marker_608a9e9e48ea43189432d3597b6f9aea.bindPopup%28popup_17ca58ab72994112bbea2a1795eb3f10%29%0A%20%20%20%20%20%20%20%20%3B%0A%0A%20%20%20%20%20%20%20%20%0A%20%20%20%20%0A%20%20%20%20%0A%20%20%20%20%20%20%20%20%20%20%20%20var%20marker_0d809e42f55a43d994a830be6172e0cd%20%3D%20L.marker%28%0A%20%20%20%20%20%20%20%20%20%20%20%20%20%20%20%20%5B41.644102%2C%20-87.940033%5D%2C%0A%20%20%20%20%20%20%20%20%20%20%20%20%20%20%20%20%7B%7D%0A%20%20%20%20%20%20%20%20%20%20%20%20%29.addTo%28map_ae0ec15a99184ac0acd523eebfdb0483%29%3B%0A%20%20%20%20%20%20%20%20%0A%20%20%20%20%0A%20%20%20%20%20%20%20%20%20%20%20%20var%20icon_b1c3992aa98743eea0a3fc4e529836f7%20%3D%20L.AwesomeMarkers.icon%28%0A%20%20%20%20%20%20%20%20%20%20%20%20%20%20%20%20%7B%22extraClasses%22%3A%20%22fa-rotate-0%22%2C%20%22icon%22%3A%20%22glyphicon-thumbs-up%22%2C%20%22iconColor%22%3A%20%22white%22%2C%20%22markerColor%22%3A%20%22lightgreen%22%2C%20%22prefix%22%3A%20%22glyphicon%22%7D%0A%20%20%20%20%20%20%20%20%20%20%20%20%29%3B%0A%20%20%20%20%20%20%20%20%20%20%20%20marker_0d809e42f55a43d994a830be6172e0cd.setIcon%28icon_b1c3992aa98743eea0a3fc4e529836f7%29%3B%0A%20%20%20%20%20%20%20%20%0A%20%20%20%20%0A%20%20%20%20%20%20%20%20var%20popup_d9fe3acb154348ed9721ed0683fcbe4c%20%3D%20L.popup%28%7B%22maxWidth%22%3A%20%22100%25%22%7D%29%3B%0A%0A%20%20%20%20%20%20%20%20%0A%20%20%20%20%20%20%20%20%20%20%20%20var%20html_c4787457f6eb499390184e4eeb43cc6f%20%3D%20%24%28%60%3Cdiv%20id%3D%22html_c4787457f6eb499390184e4eeb43cc6f%22%20style%3D%22width%3A%20100.0%25%3B%20height%3A%20100.0%25%3B%22%3EChicago%20polarity%20for%20the%20term%20%22joe%20rogan%22%20is%3A%200.060352827380952385%3C/div%3E%60%29%5B0%5D%3B%0A%20%20%20%20%20%20%20%20%20%20%20%20popup_d9fe3acb154348ed9721ed0683fcbe4c.setContent%28html_c4787457f6eb499390184e4eeb43cc6f%29%3B%0A%20%20%20%20%20%20%20%20%0A%0A%20%20%20%20%20%20%20%20marker_0d809e42f55a43d994a830be6172e0cd.bindPopup%28popup_d9fe3acb154348ed9721ed0683fcbe4c%29%0A%20%20%20%20%20%20%20%20%3B%0A%0A%20%20%20%20%20%20%20%20%0A%20%20%20%20%0A%20%20%20%20%0A%20%20%20%20%20%20%20%20%20%20%20%20var%20marker_0f1d3ab20135445282606085bbe994c3%20%3D%20L.marker%28%0A%20%20%20%20%20%20%20%20%20%20%20%20%20%20%20%20%5B40.570842%2C%20-74.041878%5D%2C%0A%20%20%20%20%20%20%20%20%20%20%20%20%20%20%20%20%7B%7D%0A%20%20%20%20%20%20%20%20%20%20%20%20%29.addTo%28map_ae0ec15a99184ac0acd523eebfdb0483%29%3B%0A%20%20%20%20%20%20%20%20%0A%20%20%20%20%0A%20%20%20%20%20%20%20%20%20%20%20%20var%20icon_08a8338207134642aa1ad1e16cd146bf%20%3D%20L.AwesomeMarkers.icon%28%0A%20%20%20%20%20%20%20%20%20%20%20%20%20%20%20%20%7B%22extraClasses%22%3A%20%22fa-rotate-0%22%2C%20%22icon%22%3A%20%22glyphicon-thumbs-up%22%2C%20%22iconColor%22%3A%20%22white%22%2C%20%22markerColor%22%3A%20%22lightgreen%22%2C%20%22prefix%22%3A%20%22glyphicon%22%7D%0A%20%20%20%20%20%20%20%20%20%20%20%20%29%3B%0A%20%20%20%20%20%20%20%20%20%20%20%20marker_0f1d3ab20135445282606085bbe994c3.setIcon%28icon_08a8338207134642aa1ad1e16cd146bf%29%3B%0A%20%20%20%20%20%20%20%20%0A%20%20%20%20%0A%20%20%20%20%20%20%20%20var%20popup_c7a46935ebba40beaec492cf0ea9d134%20%3D%20L.popup%28%7B%22maxWidth%22%3A%20%22100%25%22%7D%29%3B%0A%0A%20%20%20%20%20%20%20%20%0A%20%20%20%20%20%20%20%20%20%20%20%20var%20html_6cd16ce1f1e64307bf540ed1d552d961%20%3D%20%24%28%60%3Cdiv%20id%3D%22html_6cd16ce1f1e64307bf540ed1d552d961%22%20style%3D%22width%3A%20100.0%25%3B%20height%3A%20100.0%25%3B%22%3ENew%20York%20polarity%20for%20the%20term%20%22joe%20rogan%22%20is%3A%200.1059071625856782%3C/div%3E%60%29%5B0%5D%3B%0A%20%20%20%20%20%20%20%20%20%20%20%20popup_c7a46935ebba40beaec492cf0ea9d134.setContent%28html_6cd16ce1f1e64307bf540ed1d552d961%29%3B%0A%20%20%20%20%20%20%20%20%0A%0A%20%20%20%20%20%20%20%20marker_0f1d3ab20135445282606085bbe994c3.bindPopup%28popup_c7a46935ebba40beaec492cf0ea9d134%29%0A%20%20%20%20%20%20%20%20%3B%0A%0A%20%20%20%20%20%20%20%20%0A%20%20%20%20%0A%20%20%20%20%0A%20%20%20%20%20%20%20%20%20%20%20%20var%20marker_c9c7c04045664780964cdf5d65826172%20%3D%20L.marker%28%0A%20%20%20%20%20%20%20%20%20%20%20%20%20%20%20%20%5B42.227797%2C%20-71.191421%5D%2C%0A%20%20%20%20%20%20%20%20%20%20%20%20%20%20%20%20%7B%7D%0A%20%20%20%20%20%20%20%20%20%20%20%20%29.addTo%28map_ae0ec15a99184ac0acd523eebfdb0483%29%3B%0A%20%20%20%20%20%20%20%20%0A%20%20%20%20%0A%20%20%20%20%20%20%20%20%20%20%20%20var%20icon_383b785e31084a309cd25793e4e6680f%20%3D%20L.AwesomeMarkers.icon%28%0A%20%20%20%20%20%20%20%20%20%20%20%20%20%20%20%20%7B%22extraClasses%22%3A%20%22fa-rotate-0%22%2C%20%22icon%22%3A%20%22glyphicon-thumbs-up%22%2C%20%22iconColor%22%3A%20%22white%22%2C%20%22markerColor%22%3A%20%22lightgreen%22%2C%20%22prefix%22%3A%20%22glyphicon%22%7D%0A%20%20%20%20%20%20%20%20%20%20%20%20%29%3B%0A%20%20%20%20%20%20%20%20%20%20%20%20marker_c9c7c04045664780964cdf5d65826172.setIcon%28icon_383b785e31084a309cd25793e4e6680f%29%3B%0A%20%20%20%20%20%20%20%20%0A%20%20%20%20%0A%20%20%20%20%20%20%20%20var%20popup_338b2ebb599a4c829e4209e0b000cf01%20%3D%20L.popup%28%7B%22maxWidth%22%3A%20%22100%25%22%7D%29%3B%0A%0A%20%20%20%20%20%20%20%20%0A%20%20%20%20%20%20%20%20%20%20%20%20var%20html_2b583cd438c943b09368321b64acf450%20%3D%20%24%28%60%3Cdiv%20id%3D%22html_2b583cd438c943b09368321b64acf450%22%20style%3D%22width%3A%20100.0%25%3B%20height%3A%20100.0%25%3B%22%3EBoston%20polarity%20for%20the%20term%20%22joe%20rogan%22%20is%3A%200.030893704906204897%3C/div%3E%60%29%5B0%5D%3B%0A%20%20%20%20%20%20%20%20%20%20%20%20popup_338b2ebb599a4c829e4209e0b000cf01.setContent%28html_2b583cd438c943b09368321b64acf450%29%3B%0A%20%20%20%20%20%20%20%20%0A%0A%20%20%20%20%20%20%20%20marker_c9c7c04045664780964cdf5d65826172.bindPopup%28popup_338b2ebb599a4c829e4209e0b000cf01%29%0A%20%20%20%20%20%20%20%20%3B%0A%0A%20%20%20%20%20%20%20%20%0A%20%20%20%20%0A%20%20%20%20%0A%20%20%20%20%20%20%20%20%20%20%20%20var%20marker_a3bcf440f9ac4780a6bcb59448b37da8%20%3D%20L.marker%28%0A%20%20%20%20%20%20%20%20%20%20%20%20%20%20%20%20%5B38.801826%2C%20-77.119401%5D%2C%0A%20%20%20%20%20%20%20%20%20%20%20%20%20%20%20%20%7B%7D%0A%20%20%20%20%20%20%20%20%20%20%20%20%29.addTo%28map_ae0ec15a99184ac0acd523eebfdb0483%29%3B%0A%20%20%20%20%20%20%20%20%0A%20%20%20%20%0A%20%20%20%20%20%20%20%20%20%20%20%20var%20icon_4181f2d71a0b4e0fb998f3e973572ae8%20%3D%20L.AwesomeMarkers.icon%28%0A%20%20%20%20%20%20%20%20%20%20%20%20%20%20%20%20%7B%22extraClasses%22%3A%20%22fa-rotate-0%22%2C%20%22icon%22%3A%20%22glyphicon-thumbs-down%22%2C%20%22iconColor%22%3A%20%22white%22%2C%20%22markerColor%22%3A%20%22lightred%22%2C%20%22prefix%22%3A%20%22glyphicon%22%7D%0A%20%20%20%20%20%20%20%20%20%20%20%20%29%3B%0A%20%20%20%20%20%20%20%20%20%20%20%20marker_a3bcf440f9ac4780a6bcb59448b37da8.setIcon%28icon_4181f2d71a0b4e0fb998f3e973572ae8%29%3B%0A%20%20%20%20%20%20%20%20%0A%20%20%20%20%0A%20%20%20%20%20%20%20%20var%20popup_605da81f41d34ba389c2845b0646ffae%20%3D%20L.popup%28%7B%22maxWidth%22%3A%20%22100%25%22%7D%29%3B%0A%0A%20%20%20%20%20%20%20%20%0A%20%20%20%20%20%20%20%20%20%20%20%20var%20html_c426aa8c5f1e479997611e235645cbb4%20%3D%20%24%28%60%3Cdiv%20id%3D%22html_c426aa8c5f1e479997611e235645cbb4%22%20style%3D%22width%3A%20100.0%25%3B%20height%3A%20100.0%25%3B%22%3EWashington%20polarity%20for%20the%20term%20%22joe%20rogan%22%20is%3A%20-0.0473472582972583%3C/div%3E%60%29%5B0%5D%3B%0A%20%20%20%20%20%20%20%20%20%20%20%20popup_605da81f41d34ba389c2845b0646ffae.setContent%28html_c426aa8c5f1e479997611e235645cbb4%29%3B%0A%20%20%20%20%20%20%20%20%0A%0A%20%20%20%20%20%20%20%20marker_a3bcf440f9ac4780a6bcb59448b37da8.bindPopup%28popup_605da81f41d34ba389c2845b0646ffae%29%0A%20%20%20%20%20%20%20%20%3B%0A%0A%20%20%20%20%20%20%20%20%0A%20%20%20%20%0A%20%20%20%20%0A%20%20%20%20%20%20%20%20%20%20%20%20var%20marker_37517bd8a9fb49998a1189ecbadaa989%20%3D%20L.marker%28%0A%20%20%20%20%20%20%20%20%20%20%20%20%20%20%20%20%5B25.7751%2C%20-80.1936%5D%2C%0A%20%20%20%20%20%20%20%20%20%20%20%20%20%20%20%20%7B%7D%0A%20%20%20%20%20%20%20%20%20%20%20%20%29.addTo%28map_ae0ec15a99184ac0acd523eebfdb0483%29%3B%0A%20%20%20%20%20%20%20%20%0A%20%20%20%20%0A%20%20%20%20%20%20%20%20%20%20%20%20var%20icon_3a4dc947b6514b1e8c13f9fa9fcc2eb3%20%3D%20L.AwesomeMarkers.icon%28%0A%20%20%20%20%20%20%20%20%20%20%20%20%20%20%20%20%7B%22extraClasses%22%3A%20%22fa-rotate-0%22%2C%20%22icon%22%3A%20%22glyphicon-thumbs-up%22%2C%20%22iconColor%22%3A%20%22white%22%2C%20%22markerColor%22%3A%20%22lightgreen%22%2C%20%22prefix%22%3A%20%22glyphicon%22%7D%0A%20%20%20%20%20%20%20%20%20%20%20%20%29%3B%0A%20%20%20%20%20%20%20%20%20%20%20%20marker_37517bd8a9fb49998a1189ecbadaa989.setIcon%28icon_3a4dc947b6514b1e8c13f9fa9fcc2eb3%29%3B%0A%20%20%20%20%20%20%20%20%0A%20%20%20%20%0A%20%20%20%20%20%20%20%20var%20popup_195d9947f2ca4ecc8653fa5650039def%20%3D%20L.popup%28%7B%22maxWidth%22%3A%20%22100%25%22%7D%29%3B%0A%0A%20%20%20%20%20%20%20%20%0A%20%20%20%20%20%20%20%20%20%20%20%20var%20html_294e1850049d4e42b4efff071177e9e2%20%3D%20%24%28%60%3Cdiv%20id%3D%22html_294e1850049d4e42b4efff071177e9e2%22%20style%3D%22width%3A%20100.0%25%3B%20height%3A%20100.0%25%3B%22%3EMiami%20polarity%20for%20the%20term%20%22joe%20rogan%22%20is%3A%200.0857659632034632%3C/div%3E%60%29%5B0%5D%3B%0A%20%20%20%20%20%20%20%20%20%20%20%20popup_195d9947f2ca4ecc8653fa5650039def.setContent%28html_294e1850049d4e42b4efff071177e9e2%29%3B%0A%20%20%20%20%20%20%20%20%0A%0A%20%20%20%20%20%20%20%20marker_37517bd8a9fb49998a1189ecbadaa989.bindPopup%28popup_195d9947f2ca4ecc8653fa5650039def%29%0A%20%20%20%20%20%20%20%20%3B%0A%0A%20%20%20%20%20%20%20%20%0A%20%20%20%20%0A%20%20%20%20%0A%20%20%20%20%20%20%20%20%20%20%20%20var%20marker_994412d45f324ed595e728dc9b66f5d6%20%3D%20L.marker%28%0A%20%20%20%20%20%20%20%20%20%20%20%20%20%20%20%20%5B39.614151%2C%20-105.109815%5D%2C%0A%20%20%20%20%20%20%20%20%20%20%20%20%20%20%20%20%7B%7D%0A%20%20%20%20%20%20%20%20%20%20%20%20%29.addTo%28map_ae0ec15a99184ac0acd523eebfdb0483%29%3B%0A%20%20%20%20%20%20%20%20%0A%20%20%20%20%0A%20%20%20%20%20%20%20%20%20%20%20%20var%20icon_0a1afd60d46b456daad3064cd65de777%20%3D%20L.AwesomeMarkers.icon%28%0A%20%20%20%20%20%20%20%20%20%20%20%20%20%20%20%20%7B%22extraClasses%22%3A%20%22fa-rotate-0%22%2C%20%22icon%22%3A%20%22glyphicon-thumbs-down%22%2C%20%22iconColor%22%3A%20%22white%22%2C%20%22markerColor%22%3A%20%22lightred%22%2C%20%22prefix%22%3A%20%22glyphicon%22%7D%0A%20%20%20%20%20%20%20%20%20%20%20%20%29%3B%0A%20%20%20%20%20%20%20%20%20%20%20%20marker_994412d45f324ed595e728dc9b66f5d6.setIcon%28icon_0a1afd60d46b456daad3064cd65de777%29%3B%0A%20%20%20%20%20%20%20%20%0A%20%20%20%20%0A%20%20%20%20%20%20%20%20var%20popup_1b96d6c18f814f4fa17b71669120826a%20%3D%20L.popup%28%7B%22maxWidth%22%3A%20%22100%25%22%7D%29%3B%0A%0A%20%20%20%20%20%20%20%20%0A%20%20%20%20%20%20%20%20%20%20%20%20var%20html_052782186e3c401ea40b53869de2957f%20%3D%20%24%28%60%3Cdiv%20id%3D%22html_052782186e3c401ea40b53869de2957f%22%20style%3D%22width%3A%20100.0%25%3B%20height%3A%20100.0%25%3B%22%3EDenver%20polarity%20for%20the%20term%20%22joe%20rogan%22%20is%3A%20-0.017615283790283782%3C/div%3E%60%29%5B0%5D%3B%0A%20%20%20%20%20%20%20%20%20%20%20%20popup_1b96d6c18f814f4fa17b71669120826a.setContent%28html_052782186e3c401ea40b53869de2957f%29%3B%0A%20%20%20%20%20%20%20%20%0A%0A%20%20%20%20%20%20%20%20marker_994412d45f324ed595e728dc9b66f5d6.bindPopup%28popup_1b96d6c18f814f4fa17b71669120826a%29%0A%20%20%20%20%20%20%20%20%3B%0A%0A%20%20%20%20%20%20%20%20%0A%20%20%20%20%0A%20%20%20%20%0A%20%20%20%20%20%20%20%20%20%20%20%20var%20marker_333ab7260c854ee1af84f6f4f02df764%20%3D%20L.marker%28%0A%20%20%20%20%20%20%20%20%20%20%20%20%20%20%20%20%5B49.19854%2C%20-123.224215%5D%2C%0A%20%20%20%20%20%20%20%20%20%20%20%20%20%20%20%20%7B%7D%0A%20%20%20%20%20%20%20%20%20%20%20%20%29.addTo%28map_ae0ec15a99184ac0acd523eebfdb0483%29%3B%0A%20%20%20%20%20%20%20%20%0A%20%20%20%20%0A%20%20%20%20%20%20%20%20%20%20%20%20var%20icon_5d0d8a54a3da4fa4867d837c8544cf30%20%3D%20L.AwesomeMarkers.icon%28%0A%20%20%20%20%20%20%20%20%20%20%20%20%20%20%20%20%7B%22extraClasses%22%3A%20%22fa-rotate-0%22%2C%20%22icon%22%3A%20%22glyphicon-thumbs-up%22%2C%20%22iconColor%22%3A%20%22white%22%2C%20%22markerColor%22%3A%20%22lightgreen%22%2C%20%22prefix%22%3A%20%22glyphicon%22%7D%0A%20%20%20%20%20%20%20%20%20%20%20%20%29%3B%0A%20%20%20%20%20%20%20%20%20%20%20%20marker_333ab7260c854ee1af84f6f4f02df764.setIcon%28icon_5d0d8a54a3da4fa4867d837c8544cf30%29%3B%0A%20%20%20%20%20%20%20%20%0A%20%20%20%20%0A%20%20%20%20%20%20%20%20var%20popup_b925a53c4cbe4dcf8f43aa5a23beddb3%20%3D%20L.popup%28%7B%22maxWidth%22%3A%20%22100%25%22%7D%29%3B%0A%0A%20%20%20%20%20%20%20%20%0A%20%20%20%20%20%20%20%20%20%20%20%20var%20html_ac3262e82f424873858b76756c359d7c%20%3D%20%24%28%60%3Cdiv%20id%3D%22html_ac3262e82f424873858b76756c359d7c%22%20style%3D%22width%3A%20100.0%25%3B%20height%3A%20100.0%25%3B%22%3EVancouver%20polarity%20for%20the%20term%20%22joe%20rogan%22%20is%3A%200.06564989177489176%3C/div%3E%60%29%5B0%5D%3B%0A%20%20%20%20%20%20%20%20%20%20%20%20popup_b925a53c4cbe4dcf8f43aa5a23beddb3.setContent%28html_ac3262e82f424873858b76756c359d7c%29%3B%0A%20%20%20%20%20%20%20%20%0A%0A%20%20%20%20%20%20%20%20marker_333ab7260c854ee1af84f6f4f02df764.bindPopup%28popup_b925a53c4cbe4dcf8f43aa5a23beddb3%29%0A%20%20%20%20%20%20%20%20%3B%0A%0A%20%20%20%20%20%20%20%20%0A%20%20%20%20%0A%20%20%20%20%0A%20%20%20%20%20%20%20%20%20%20%20%20var%20marker_8c37c85acaf446658088e27c19102881%20%3D%20L.marker%28%0A%20%20%20%20%20%20%20%20%20%20%20%20%20%20%20%20%5B47.4953154%2C%20-122.436232%5D%2C%0A%20%20%20%20%20%20%20%20%20%20%20%20%20%20%20%20%7B%7D%0A%20%20%20%20%20%20%20%20%20%20%20%20%29.addTo%28map_ae0ec15a99184ac0acd523eebfdb0483%29%3B%0A%20%20%20%20%20%20%20%20%0A%20%20%20%20%0A%20%20%20%20%20%20%20%20%20%20%20%20var%20icon_1245c454ee824a00b429034047a26d3f%20%3D%20L.AwesomeMarkers.icon%28%0A%20%20%20%20%20%20%20%20%20%20%20%20%20%20%20%20%7B%22extraClasses%22%3A%20%22fa-rotate-0%22%2C%20%22icon%22%3A%20%22glyphicon-thumbs-down%22%2C%20%22iconColor%22%3A%20%22white%22%2C%20%22markerColor%22%3A%20%22lightred%22%2C%20%22prefix%22%3A%20%22glyphicon%22%7D%0A%20%20%20%20%20%20%20%20%20%20%20%20%29%3B%0A%20%20%20%20%20%20%20%20%20%20%20%20marker_8c37c85acaf446658088e27c19102881.setIcon%28icon_1245c454ee824a00b429034047a26d3f%29%3B%0A%20%20%20%20%20%20%20%20%0A%20%20%20%20%0A%20%20%20%20%20%20%20%20var%20popup_8414298f241a475789c5c7f63db9395c%20%3D%20L.popup%28%7B%22maxWidth%22%3A%20%22100%25%22%7D%29%3B%0A%0A%20%20%20%20%20%20%20%20%0A%20%20%20%20%20%20%20%20%20%20%20%20var%20html_155ac6ed8ff54bb48d0c2ad7aaf5eaf5%20%3D%20%24%28%60%3Cdiv%20id%3D%22html_155ac6ed8ff54bb48d0c2ad7aaf5eaf5%22%20style%3D%22width%3A%20100.0%25%3B%20height%3A%20100.0%25%3B%22%3ESeattle%20polarity%20for%20the%20term%20%22joe%20rogan%22%20is%3A%20-0.027894300144300145%3C/div%3E%60%29%5B0%5D%3B%0A%20%20%20%20%20%20%20%20%20%20%20%20popup_8414298f241a475789c5c7f63db9395c.setContent%28html_155ac6ed8ff54bb48d0c2ad7aaf5eaf5%29%3B%0A%20%20%20%20%20%20%20%20%0A%0A%20%20%20%20%20%20%20%20marker_8c37c85acaf446658088e27c19102881.bindPopup%28popup_8414298f241a475789c5c7f63db9395c%29%0A%20%20%20%20%20%20%20%20%3B%0A%0A%20%20%20%20%20%20%20%20%0A%20%20%20%20%0A%20%20%20%20%0A%20%20%20%20%20%20%20%20%20%20%20%20var%20marker_8d8afc0efd584ffcb42e1d52812c13e4%20%3D%20L.marker%28%0A%20%20%20%20%20%20%20%20%20%20%20%20%20%20%20%20%5B45.421863%2C%20-122.7900653%5D%2C%0A%20%20%20%20%20%20%20%20%20%20%20%20%20%20%20%20%7B%7D%0A%20%20%20%20%20%20%20%20%20%20%20%20%29.addTo%28map_ae0ec15a99184ac0acd523eebfdb0483%29%3B%0A%20%20%20%20%20%20%20%20%0A%20%20%20%20%0A%20%20%20%20%20%20%20%20%20%20%20%20var%20icon_b2c857e53e0b487abdad2f6cbe7f17f7%20%3D%20L.AwesomeMarkers.icon%28%0A%20%20%20%20%20%20%20%20%20%20%20%20%20%20%20%20%7B%22extraClasses%22%3A%20%22fa-rotate-0%22%2C%20%22icon%22%3A%20%22glyphicon-thumbs-down%22%2C%20%22iconColor%22%3A%20%22white%22%2C%20%22markerColor%22%3A%20%22lightred%22%2C%20%22prefix%22%3A%20%22glyphicon%22%7D%0A%20%20%20%20%20%20%20%20%20%20%20%20%29%3B%0A%20%20%20%20%20%20%20%20%20%20%20%20marker_8d8afc0efd584ffcb42e1d52812c13e4.setIcon%28icon_b2c857e53e0b487abdad2f6cbe7f17f7%29%3B%0A%20%20%20%20%20%20%20%20%0A%20%20%20%20%0A%20%20%20%20%20%20%20%20var%20popup_5d453edceb3d4cfcb2c2caa9a3789709%20%3D%20L.popup%28%7B%22maxWidth%22%3A%20%22100%25%22%7D%29%3B%0A%0A%20%20%20%20%20%20%20%20%0A%20%20%20%20%20%20%20%20%20%20%20%20var%20html_4b17f926f0d444f48c0c920d986a4703%20%3D%20%24%28%60%3Cdiv%20id%3D%22html_4b17f926f0d444f48c0c920d986a4703%22%20style%3D%22width%3A%20100.0%25%3B%20height%3A%20100.0%25%3B%22%3EPortland%20polarity%20for%20the%20term%20%22joe%20rogan%22%20is%3A%20-0.020728174603174603%3C/div%3E%60%29%5B0%5D%3B%0A%20%20%20%20%20%20%20%20%20%20%20%20popup_5d453edceb3d4cfcb2c2caa9a3789709.setContent%28html_4b17f926f0d444f48c0c920d986a4703%29%3B%0A%20%20%20%20%20%20%20%20%0A%0A%20%20%20%20%20%20%20%20marker_8d8afc0efd584ffcb42e1d52812c13e4.bindPopup%28popup_5d453edceb3d4cfcb2c2caa9a3789709%29%0A%20%20%20%20%20%20%20%20%3B%0A%0A%20%20%20%20%20%20%20%20%0A%20%20%20%20%0A%20%20%20%20%0A%20%20%20%20%20%20%20%20%20%20%20%20var%20marker_2c73fcf94d444b3ca8e4e9e6cc164c34%20%3D%20L.marker%28%0A%20%20%20%20%20%20%20%20%20%20%20%20%20%20%20%20%5B33.704538%2C%20-118.668404%5D%2C%0A%20%20%20%20%20%20%20%20%20%20%20%20%20%20%20%20%7B%7D%0A%20%20%20%20%20%20%20%20%20%20%20%20%29.addTo%28map_ae0ec15a99184ac0acd523eebfdb0483%29%3B%0A%20%20%20%20%20%20%20%20%0A%20%20%20%20%0A%20%20%20%20%20%20%20%20%20%20%20%20var%20icon_7ff18a13d7f5404185d5b1b380b4f7cc%20%3D%20L.AwesomeMarkers.icon%28%0A%20%20%20%20%20%20%20%20%20%20%20%20%20%20%20%20%7B%22extraClasses%22%3A%20%22fa-rotate-0%22%2C%20%22icon%22%3A%20%22glyphicon-thumbs-up%22%2C%20%22iconColor%22%3A%20%22white%22%2C%20%22markerColor%22%3A%20%22lightgreen%22%2C%20%22prefix%22%3A%20%22glyphicon%22%7D%0A%20%20%20%20%20%20%20%20%20%20%20%20%29%3B%0A%20%20%20%20%20%20%20%20%20%20%20%20marker_2c73fcf94d444b3ca8e4e9e6cc164c34.setIcon%28icon_7ff18a13d7f5404185d5b1b380b4f7cc%29%3B%0A%20%20%20%20%20%20%20%20%0A%20%20%20%20%0A%20%20%20%20%20%20%20%20var%20popup_18e9ae1921564e87aeb7a8854386446c%20%3D%20L.popup%28%7B%22maxWidth%22%3A%20%22100%25%22%7D%29%3B%0A%0A%20%20%20%20%20%20%20%20%0A%20%20%20%20%20%20%20%20%20%20%20%20var%20html_7e79cf9f81bb42399e3949d2d8096062%20%3D%20%24%28%60%3Cdiv%20id%3D%22html_7e79cf9f81bb42399e3949d2d8096062%22%20style%3D%22width%3A%20100.0%25%3B%20height%3A%20100.0%25%3B%22%3ELos%20Angeles%20polarity%20for%20the%20term%20%22joe%20rogan%22%20is%3A%200.051899386724386716%3C/div%3E%60%29%5B0%5D%3B%0A%20%20%20%20%20%20%20%20%20%20%20%20popup_18e9ae1921564e87aeb7a8854386446c.setContent%28html_7e79cf9f81bb42399e3949d2d8096062%29%3B%0A%20%20%20%20%20%20%20%20%0A%0A%20%20%20%20%20%20%20%20marker_2c73fcf94d444b3ca8e4e9e6cc164c34.bindPopup%28popup_18e9ae1921564e87aeb7a8854386446c%29%0A%20%20%20%20%20%20%20%20%3B%0A%0A%20%20%20%20%20%20%20%20%0A%20%20%20%20%0A%20%20%20%20%0A%20%20%20%20%20%20%20%20%20%20%20%20var%20marker_40a8de1f099e4847a207b0a0f7d98a69%20%3D%20L.marker%28%0A%20%20%20%20%20%20%20%20%20%20%20%20%20%20%20%20%5B41.644102%2C%20-87.940033%5D%2C%0A%20%20%20%20%20%20%20%20%20%20%20%20%20%20%20%20%7B%7D%0A%20%20%20%20%20%20%20%20%20%20%20%20%29.addTo%28map_ae0ec15a99184ac0acd523eebfdb0483%29%3B%0A%20%20%20%20%20%20%20%20%0A%20%20%20%20%0A%20%20%20%20%20%20%20%20%20%20%20%20var%20icon_fe0b82c249d34361b08903781725ed9d%20%3D%20L.AwesomeMarkers.icon%28%0A%20%20%20%20%20%20%20%20%20%20%20%20%20%20%20%20%7B%22extraClasses%22%3A%20%22fa-rotate-0%22%2C%20%22icon%22%3A%20%22glyphicon-thumbs-up%22%2C%20%22iconColor%22%3A%20%22white%22%2C%20%22markerColor%22%3A%20%22lightgreen%22%2C%20%22prefix%22%3A%20%22glyphicon%22%7D%0A%20%20%20%20%20%20%20%20%20%20%20%20%29%3B%0A%20%20%20%20%20%20%20%20%20%20%20%20marker_40a8de1f099e4847a207b0a0f7d98a69.setIcon%28icon_fe0b82c249d34361b08903781725ed9d%29%3B%0A%20%20%20%20%20%20%20%20%0A%20%20%20%20%0A%20%20%20%20%20%20%20%20var%20popup_eca0dc0a5d784afd90bc6104adaf23a0%20%3D%20L.popup%28%7B%22maxWidth%22%3A%20%22100%25%22%7D%29%3B%0A%0A%20%20%20%20%20%20%20%20%0A%20%20%20%20%20%20%20%20%20%20%20%20var%20html_6180487847444ab3aa32b95fbf87cbe8%20%3D%20%24%28%60%3Cdiv%20id%3D%22html_6180487847444ab3aa32b95fbf87cbe8%22%20style%3D%22width%3A%20100.0%25%3B%20height%3A%20100.0%25%3B%22%3EChicago%20polarity%20for%20the%20term%20%22joe%20rogan%22%20is%3A%200.060352827380952385%3C/div%3E%60%29%5B0%5D%3B%0A%20%20%20%20%20%20%20%20%20%20%20%20popup_eca0dc0a5d784afd90bc6104adaf23a0.setContent%28html_6180487847444ab3aa32b95fbf87cbe8%29%3B%0A%20%20%20%20%20%20%20%20%0A%0A%20%20%20%20%20%20%20%20marker_40a8de1f099e4847a207b0a0f7d98a69.bindPopup%28popup_eca0dc0a5d784afd90bc6104adaf23a0%29%0A%20%20%20%20%20%20%20%20%3B%0A%0A%20%20%20%20%20%20%20%20%0A%20%20%20%20%0A%20%20%20%20%0A%20%20%20%20%20%20%20%20%20%20%20%20var%20marker_9c920dd4769c440d9202e1eb0f642a2a%20%3D%20L.marker%28%0A%20%20%20%20%20%20%20%20%20%20%20%20%20%20%20%20%5B40.570842%2C%20-74.041878%5D%2C%0A%20%20%20%20%20%20%20%20%20%20%20%20%20%20%20%20%7B%7D%0A%20%20%20%20%20%20%20%20%20%20%20%20%29.addTo%28map_ae0ec15a99184ac0acd523eebfdb0483%29%3B%0A%20%20%20%20%20%20%20%20%0A%20%20%20%20%0A%20%20%20%20%20%20%20%20%20%20%20%20var%20icon_1420bc9de58d4bd2bc892a1e23807755%20%3D%20L.AwesomeMarkers.icon%28%0A%20%20%20%20%20%20%20%20%20%20%20%20%20%20%20%20%7B%22extraClasses%22%3A%20%22fa-rotate-0%22%2C%20%22icon%22%3A%20%22glyphicon-thumbs-up%22%2C%20%22iconColor%22%3A%20%22white%22%2C%20%22markerColor%22%3A%20%22lightgreen%22%2C%20%22prefix%22%3A%20%22glyphicon%22%7D%0A%20%20%20%20%20%20%20%20%20%20%20%20%29%3B%0A%20%20%20%20%20%20%20%20%20%20%20%20marker_9c920dd4769c440d9202e1eb0f642a2a.setIcon%28icon_1420bc9de58d4bd2bc892a1e23807755%29%3B%0A%20%20%20%20%20%20%20%20%0A%20%20%20%20%0A%20%20%20%20%20%20%20%20var%20popup_1f66e72a00ca454cadde1c8cc85dcbfd%20%3D%20L.popup%28%7B%22maxWidth%22%3A%20%22100%25%22%7D%29%3B%0A%0A%20%20%20%20%20%20%20%20%0A%20%20%20%20%20%20%20%20%20%20%20%20var%20html_5d1fcb9a7973407b8da4663728f977f7%20%3D%20%24%28%60%3Cdiv%20id%3D%22html_5d1fcb9a7973407b8da4663728f977f7%22%20style%3D%22width%3A%20100.0%25%3B%20height%3A%20100.0%25%3B%22%3ENew%20York%20polarity%20for%20the%20term%20%22joe%20rogan%22%20is%3A%200.1059071625856782%3C/div%3E%60%29%5B0%5D%3B%0A%20%20%20%20%20%20%20%20%20%20%20%20popup_1f66e72a00ca454cadde1c8cc85dcbfd.setContent%28html_5d1fcb9a7973407b8da4663728f977f7%29%3B%0A%20%20%20%20%20%20%20%20%0A%0A%20%20%20%20%20%20%20%20marker_9c920dd4769c440d9202e1eb0f642a2a.bindPopup%28popup_1f66e72a00ca454cadde1c8cc85dcbfd%29%0A%20%20%20%20%20%20%20%20%3B%0A%0A%20%20%20%20%20%20%20%20%0A%20%20%20%20%0A%20%20%20%20%0A%20%20%20%20%20%20%20%20%20%20%20%20var%20marker_e7d8a714223e42a7b95bc32240effee8%20%3D%20L.marker%28%0A%20%20%20%20%20%20%20%20%20%20%20%20%20%20%20%20%5B42.227797%2C%20-71.191421%5D%2C%0A%20%20%20%20%20%20%20%20%20%20%20%20%20%20%20%20%7B%7D%0A%20%20%20%20%20%20%20%20%20%20%20%20%29.addTo%28map_ae0ec15a99184ac0acd523eebfdb0483%29%3B%0A%20%20%20%20%20%20%20%20%0A%20%20%20%20%0A%20%20%20%20%20%20%20%20%20%20%20%20var%20icon_36e5f4ea41b943e8b6f6d4fa523eb81a%20%3D%20L.AwesomeMarkers.icon%28%0A%20%20%20%20%20%20%20%20%20%20%20%20%20%20%20%20%7B%22extraClasses%22%3A%20%22fa-rotate-0%22%2C%20%22icon%22%3A%20%22glyphicon-thumbs-up%22%2C%20%22iconColor%22%3A%20%22white%22%2C%20%22markerColor%22%3A%20%22lightgreen%22%2C%20%22prefix%22%3A%20%22glyphicon%22%7D%0A%20%20%20%20%20%20%20%20%20%20%20%20%29%3B%0A%20%20%20%20%20%20%20%20%20%20%20%20marker_e7d8a714223e42a7b95bc32240effee8.setIcon%28icon_36e5f4ea41b943e8b6f6d4fa523eb81a%29%3B%0A%20%20%20%20%20%20%20%20%0A%20%20%20%20%0A%20%20%20%20%20%20%20%20var%20popup_c6e8540e3cad41e6be9ade47071b030d%20%3D%20L.popup%28%7B%22maxWidth%22%3A%20%22100%25%22%7D%29%3B%0A%0A%20%20%20%20%20%20%20%20%0A%20%20%20%20%20%20%20%20%20%20%20%20var%20html_6c9c7a682a174de391f5f0a2b7c5b50d%20%3D%20%24%28%60%3Cdiv%20id%3D%22html_6c9c7a682a174de391f5f0a2b7c5b50d%22%20style%3D%22width%3A%20100.0%25%3B%20height%3A%20100.0%25%3B%22%3EBoston%20polarity%20for%20the%20term%20%22joe%20rogan%22%20is%3A%200.030893704906204897%3C/div%3E%60%29%5B0%5D%3B%0A%20%20%20%20%20%20%20%20%20%20%20%20popup_c6e8540e3cad41e6be9ade47071b030d.setContent%28html_6c9c7a682a174de391f5f0a2b7c5b50d%29%3B%0A%20%20%20%20%20%20%20%20%0A%0A%20%20%20%20%20%20%20%20marker_e7d8a714223e42a7b95bc32240effee8.bindPopup%28popup_c6e8540e3cad41e6be9ade47071b030d%29%0A%20%20%20%20%20%20%20%20%3B%0A%0A%20%20%20%20%20%20%20%20%0A%20%20%20%20%0A%20%20%20%20%0A%20%20%20%20%20%20%20%20%20%20%20%20var%20marker_9a33c7eaf4604e2d83b95785a16491c0%20%3D%20L.marker%28%0A%20%20%20%20%20%20%20%20%20%20%20%20%20%20%20%20%5B38.801826%2C%20-77.119401%5D%2C%0A%20%20%20%20%20%20%20%20%20%20%20%20%20%20%20%20%7B%7D%0A%20%20%20%20%20%20%20%20%20%20%20%20%29.addTo%28map_ae0ec15a99184ac0acd523eebfdb0483%29%3B%0A%20%20%20%20%20%20%20%20%0A%20%20%20%20%0A%20%20%20%20%20%20%20%20%20%20%20%20var%20icon_9440f500d6df481585a00ed78baf8aef%20%3D%20L.AwesomeMarkers.icon%28%0A%20%20%20%20%20%20%20%20%20%20%20%20%20%20%20%20%7B%22extraClasses%22%3A%20%22fa-rotate-0%22%2C%20%22icon%22%3A%20%22glyphicon-thumbs-down%22%2C%20%22iconColor%22%3A%20%22white%22%2C%20%22markerColor%22%3A%20%22lightred%22%2C%20%22prefix%22%3A%20%22glyphicon%22%7D%0A%20%20%20%20%20%20%20%20%20%20%20%20%29%3B%0A%20%20%20%20%20%20%20%20%20%20%20%20marker_9a33c7eaf4604e2d83b95785a16491c0.setIcon%28icon_9440f500d6df481585a00ed78baf8aef%29%3B%0A%20%20%20%20%20%20%20%20%0A%20%20%20%20%0A%20%20%20%20%20%20%20%20var%20popup_848f03d7c92a4b72a089f459f6ce3252%20%3D%20L.popup%28%7B%22maxWidth%22%3A%20%22100%25%22%7D%29%3B%0A%0A%20%20%20%20%20%20%20%20%0A%20%20%20%20%20%20%20%20%20%20%20%20var%20html_e11c76dd1e6a47e085b4cbb0e53ab9d0%20%3D%20%24%28%60%3Cdiv%20id%3D%22html_e11c76dd1e6a47e085b4cbb0e53ab9d0%22%20style%3D%22width%3A%20100.0%25%3B%20height%3A%20100.0%25%3B%22%3EWashington%20polarity%20for%20the%20term%20%22joe%20rogan%22%20is%3A%20-0.0473472582972583%3C/div%3E%60%29%5B0%5D%3B%0A%20%20%20%20%20%20%20%20%20%20%20%20popup_848f03d7c92a4b72a089f459f6ce3252.setContent%28html_e11c76dd1e6a47e085b4cbb0e53ab9d0%29%3B%0A%20%20%20%20%20%20%20%20%0A%0A%20%20%20%20%20%20%20%20marker_9a33c7eaf4604e2d83b95785a16491c0.bindPopup%28popup_848f03d7c92a4b72a089f459f6ce3252%29%0A%20%20%20%20%20%20%20%20%3B%0A%0A%20%20%20%20%20%20%20%20%0A%20%20%20%20%0A%20%20%20%20%0A%20%20%20%20%20%20%20%20%20%20%20%20var%20marker_85cdb29b1e254bb49f6f46da1e9275d8%20%3D%20L.marker%28%0A%20%20%20%20%20%20%20%20%20%20%20%20%20%20%20%20%5B25.7751%2C%20-80.1936%5D%2C%0A%20%20%20%20%20%20%20%20%20%20%20%20%20%20%20%20%7B%7D%0A%20%20%20%20%20%20%20%20%20%20%20%20%29.addTo%28map_ae0ec15a99184ac0acd523eebfdb0483%29%3B%0A%20%20%20%20%20%20%20%20%0A%20%20%20%20%0A%20%20%20%20%20%20%20%20%20%20%20%20var%20icon_1129e039ae084c5f9e9b1b933374a62a%20%3D%20L.AwesomeMarkers.icon%28%0A%20%20%20%20%20%20%20%20%20%20%20%20%20%20%20%20%7B%22extraClasses%22%3A%20%22fa-rotate-0%22%2C%20%22icon%22%3A%20%22glyphicon-thumbs-up%22%2C%20%22iconColor%22%3A%20%22white%22%2C%20%22markerColor%22%3A%20%22lightgreen%22%2C%20%22prefix%22%3A%20%22glyphicon%22%7D%0A%20%20%20%20%20%20%20%20%20%20%20%20%29%3B%0A%20%20%20%20%20%20%20%20%20%20%20%20marker_85cdb29b1e254bb49f6f46da1e9275d8.setIcon%28icon_1129e039ae084c5f9e9b1b933374a62a%29%3B%0A%20%20%20%20%20%20%20%20%0A%20%20%20%20%0A%20%20%20%20%20%20%20%20var%20popup_3f2666ec4db04f04836f8f065c05f93a%20%3D%20L.popup%28%7B%22maxWidth%22%3A%20%22100%25%22%7D%29%3B%0A%0A%20%20%20%20%20%20%20%20%0A%20%20%20%20%20%20%20%20%20%20%20%20var%20html_320ccccabeb1438fbc4d9448d937b0b5%20%3D%20%24%28%60%3Cdiv%20id%3D%22html_320ccccabeb1438fbc4d9448d937b0b5%22%20style%3D%22width%3A%20100.0%25%3B%20height%3A%20100.0%25%3B%22%3EMiami%20polarity%20for%20the%20term%20%22joe%20rogan%22%20is%3A%200.0857659632034632%3C/div%3E%60%29%5B0%5D%3B%0A%20%20%20%20%20%20%20%20%20%20%20%20popup_3f2666ec4db04f04836f8f065c05f93a.setContent%28html_320ccccabeb1438fbc4d9448d937b0b5%29%3B%0A%20%20%20%20%20%20%20%20%0A%0A%20%20%20%20%20%20%20%20marker_85cdb29b1e254bb49f6f46da1e9275d8.bindPopup%28popup_3f2666ec4db04f04836f8f065c05f93a%29%0A%20%20%20%20%20%20%20%20%3B%0A%0A%20%20%20%20%20%20%20%20%0A%20%20%20%20%0A%20%20%20%20%0A%20%20%20%20%20%20%20%20%20%20%20%20var%20marker_4a1d85355f6c491ba0a2f059efcbbdd8%20%3D%20L.marker%28%0A%20%20%20%20%20%20%20%20%20%20%20%20%20%20%20%20%5B39.614151%2C%20-105.109815%5D%2C%0A%20%20%20%20%20%20%20%20%20%20%20%20%20%20%20%20%7B%7D%0A%20%20%20%20%20%20%20%20%20%20%20%20%29.addTo%28map_ae0ec15a99184ac0acd523eebfdb0483%29%3B%0A%20%20%20%20%20%20%20%20%0A%20%20%20%20%0A%20%20%20%20%20%20%20%20%20%20%20%20var%20icon_f75fd15dbdb54a1a84dc21940db6ee19%20%3D%20L.AwesomeMarkers.icon%28%0A%20%20%20%20%20%20%20%20%20%20%20%20%20%20%20%20%7B%22extraClasses%22%3A%20%22fa-rotate-0%22%2C%20%22icon%22%3A%20%22glyphicon-thumbs-down%22%2C%20%22iconColor%22%3A%20%22white%22%2C%20%22markerColor%22%3A%20%22lightred%22%2C%20%22prefix%22%3A%20%22glyphicon%22%7D%0A%20%20%20%20%20%20%20%20%20%20%20%20%29%3B%0A%20%20%20%20%20%20%20%20%20%20%20%20marker_4a1d85355f6c491ba0a2f059efcbbdd8.setIcon%28icon_f75fd15dbdb54a1a84dc21940db6ee19%29%3B%0A%20%20%20%20%20%20%20%20%0A%20%20%20%20%0A%20%20%20%20%20%20%20%20var%20popup_077aae1a18d54bbb9ac7f85db8379f95%20%3D%20L.popup%28%7B%22maxWidth%22%3A%20%22100%25%22%7D%29%3B%0A%0A%20%20%20%20%20%20%20%20%0A%20%20%20%20%20%20%20%20%20%20%20%20var%20html_29565d1eda1f45a1a1c8f837b2f300ea%20%3D%20%24%28%60%3Cdiv%20id%3D%22html_29565d1eda1f45a1a1c8f837b2f300ea%22%20style%3D%22width%3A%20100.0%25%3B%20height%3A%20100.0%25%3B%22%3EDenver%20polarity%20for%20the%20term%20%22joe%20rogan%22%20is%3A%20-0.017615283790283782%3C/div%3E%60%29%5B0%5D%3B%0A%20%20%20%20%20%20%20%20%20%20%20%20popup_077aae1a18d54bbb9ac7f85db8379f95.setContent%28html_29565d1eda1f45a1a1c8f837b2f300ea%29%3B%0A%20%20%20%20%20%20%20%20%0A%0A%20%20%20%20%20%20%20%20marker_4a1d85355f6c491ba0a2f059efcbbdd8.bindPopup%28popup_077aae1a18d54bbb9ac7f85db8379f95%29%0A%20%20%20%20%20%20%20%20%3B%0A%0A%20%20%20%20%20%20%20%20%0A%20%20%20%20%0A%20%20%20%20%0A%20%20%20%20%20%20%20%20%20%20%20%20var%20marker_8aaf6e05ba9441bfb8982fd14ad14206%20%3D%20L.marker%28%0A%20%20%20%20%20%20%20%20%20%20%20%20%20%20%20%20%5B49.19854%2C%20-123.224215%5D%2C%0A%20%20%20%20%20%20%20%20%20%20%20%20%20%20%20%20%7B%7D%0A%20%20%20%20%20%20%20%20%20%20%20%20%29.addTo%28map_ae0ec15a99184ac0acd523eebfdb0483%29%3B%0A%20%20%20%20%20%20%20%20%0A%20%20%20%20%0A%20%20%20%20%20%20%20%20%20%20%20%20var%20icon_bd16d571c14149ba8a78518832204438%20%3D%20L.AwesomeMarkers.icon%28%0A%20%20%20%20%20%20%20%20%20%20%20%20%20%20%20%20%7B%22extraClasses%22%3A%20%22fa-rotate-0%22%2C%20%22icon%22%3A%20%22glyphicon-thumbs-up%22%2C%20%22iconColor%22%3A%20%22white%22%2C%20%22markerColor%22%3A%20%22lightgreen%22%2C%20%22prefix%22%3A%20%22glyphicon%22%7D%0A%20%20%20%20%20%20%20%20%20%20%20%20%29%3B%0A%20%20%20%20%20%20%20%20%20%20%20%20marker_8aaf6e05ba9441bfb8982fd14ad14206.setIcon%28icon_bd16d571c14149ba8a78518832204438%29%3B%0A%20%20%20%20%20%20%20%20%0A%20%20%20%20%0A%20%20%20%20%20%20%20%20var%20popup_693c356a0c954ce4a3209e62a4567c3e%20%3D%20L.popup%28%7B%22maxWidth%22%3A%20%22100%25%22%7D%29%3B%0A%0A%20%20%20%20%20%20%20%20%0A%20%20%20%20%20%20%20%20%20%20%20%20var%20html_05f705a6aa234acab2afb8c4ea6871c1%20%3D%20%24%28%60%3Cdiv%20id%3D%22html_05f705a6aa234acab2afb8c4ea6871c1%22%20style%3D%22width%3A%20100.0%25%3B%20height%3A%20100.0%25%3B%22%3EVancouver%20polarity%20for%20the%20term%20%22joe%20rogan%22%20is%3A%200.06564989177489176%3C/div%3E%60%29%5B0%5D%3B%0A%20%20%20%20%20%20%20%20%20%20%20%20popup_693c356a0c954ce4a3209e62a4567c3e.setContent%28html_05f705a6aa234acab2afb8c4ea6871c1%29%3B%0A%20%20%20%20%20%20%20%20%0A%0A%20%20%20%20%20%20%20%20marker_8aaf6e05ba9441bfb8982fd14ad14206.bindPopup%28popup_693c356a0c954ce4a3209e62a4567c3e%29%0A%20%20%20%20%20%20%20%20%3B%0A%0A%20%20%20%20%20%20%20%20%0A%20%20%20%20%0A%20%20%20%20%0A%20%20%20%20%20%20%20%20%20%20%20%20var%20marker_7da683bce3af48e5a9b4ff4f73c89207%20%3D%20L.marker%28%0A%20%20%20%20%20%20%20%20%20%20%20%20%20%20%20%20%5B47.4953154%2C%20-122.436232%5D%2C%0A%20%20%20%20%20%20%20%20%20%20%20%20%20%20%20%20%7B%7D%0A%20%20%20%20%20%20%20%20%20%20%20%20%29.addTo%28map_ae0ec15a99184ac0acd523eebfdb0483%29%3B%0A%20%20%20%20%20%20%20%20%0A%20%20%20%20%0A%20%20%20%20%20%20%20%20%20%20%20%20var%20icon_1335ac5630f54d43bd07f33d3e695fb9%20%3D%20L.AwesomeMarkers.icon%28%0A%20%20%20%20%20%20%20%20%20%20%20%20%20%20%20%20%7B%22extraClasses%22%3A%20%22fa-rotate-0%22%2C%20%22icon%22%3A%20%22glyphicon-thumbs-down%22%2C%20%22iconColor%22%3A%20%22white%22%2C%20%22markerColor%22%3A%20%22lightred%22%2C%20%22prefix%22%3A%20%22glyphicon%22%7D%0A%20%20%20%20%20%20%20%20%20%20%20%20%29%3B%0A%20%20%20%20%20%20%20%20%20%20%20%20marker_7da683bce3af48e5a9b4ff4f73c89207.setIcon%28icon_1335ac5630f54d43bd07f33d3e695fb9%29%3B%0A%20%20%20%20%20%20%20%20%0A%20%20%20%20%0A%20%20%20%20%20%20%20%20var%20popup_eaaf719c2aa647c98ca54092041eeea4%20%3D%20L.popup%28%7B%22maxWidth%22%3A%20%22100%25%22%7D%29%3B%0A%0A%20%20%20%20%20%20%20%20%0A%20%20%20%20%20%20%20%20%20%20%20%20var%20html_7021a9c8e3b341599c603f97f85514d7%20%3D%20%24%28%60%3Cdiv%20id%3D%22html_7021a9c8e3b341599c603f97f85514d7%22%20style%3D%22width%3A%20100.0%25%3B%20height%3A%20100.0%25%3B%22%3ESeattle%20polarity%20for%20the%20term%20%22joe%20rogan%22%20is%3A%20-0.027894300144300145%3C/div%3E%60%29%5B0%5D%3B%0A%20%20%20%20%20%20%20%20%20%20%20%20popup_eaaf719c2aa647c98ca54092041eeea4.setContent%28html_7021a9c8e3b341599c603f97f85514d7%29%3B%0A%20%20%20%20%20%20%20%20%0A%0A%20%20%20%20%20%20%20%20marker_7da683bce3af48e5a9b4ff4f73c89207.bindPopup%28popup_eaaf719c2aa647c98ca54092041eeea4%29%0A%20%20%20%20%20%20%20%20%3B%0A%0A%20%20%20%20%20%20%20%20%0A%20%20%20%20%0A%20%20%20%20%0A%20%20%20%20%20%20%20%20%20%20%20%20var%20marker_ba63f2dfd3d74ef6b603d21bf9242cda%20%3D%20L.marker%28%0A%20%20%20%20%20%20%20%20%20%20%20%20%20%20%20%20%5B45.421863%2C%20-122.7900653%5D%2C%0A%20%20%20%20%20%20%20%20%20%20%20%20%20%20%20%20%7B%7D%0A%20%20%20%20%20%20%20%20%20%20%20%20%29.addTo%28map_ae0ec15a99184ac0acd523eebfdb0483%29%3B%0A%20%20%20%20%20%20%20%20%0A%20%20%20%20%0A%20%20%20%20%20%20%20%20%20%20%20%20var%20icon_ebf2383ffc1b42f3b8b2bab78a54090e%20%3D%20L.AwesomeMarkers.icon%28%0A%20%20%20%20%20%20%20%20%20%20%20%20%20%20%20%20%7B%22extraClasses%22%3A%20%22fa-rotate-0%22%2C%20%22icon%22%3A%20%22glyphicon-thumbs-down%22%2C%20%22iconColor%22%3A%20%22white%22%2C%20%22markerColor%22%3A%20%22lightred%22%2C%20%22prefix%22%3A%20%22glyphicon%22%7D%0A%20%20%20%20%20%20%20%20%20%20%20%20%29%3B%0A%20%20%20%20%20%20%20%20%20%20%20%20marker_ba63f2dfd3d74ef6b603d21bf9242cda.setIcon%28icon_ebf2383ffc1b42f3b8b2bab78a54090e%29%3B%0A%20%20%20%20%20%20%20%20%0A%20%20%20%20%0A%20%20%20%20%20%20%20%20var%20popup_b522b28d956e4a17ba3d0c6118abadcf%20%3D%20L.popup%28%7B%22maxWidth%22%3A%20%22100%25%22%7D%29%3B%0A%0A%20%20%20%20%20%20%20%20%0A%20%20%20%20%20%20%20%20%20%20%20%20var%20html_16dc3c48d2f145f1bc08f17b001b5e15%20%3D%20%24%28%60%3Cdiv%20id%3D%22html_16dc3c48d2f145f1bc08f17b001b5e15%22%20style%3D%22width%3A%20100.0%25%3B%20height%3A%20100.0%25%3B%22%3EPortland%20polarity%20for%20the%20term%20%22joe%20rogan%22%20is%3A%20-0.020728174603174603%3C/div%3E%60%29%5B0%5D%3B%0A%20%20%20%20%20%20%20%20%20%20%20%20popup_b522b28d956e4a17ba3d0c6118abadcf.setContent%28html_16dc3c48d2f145f1bc08f17b001b5e15%29%3B%0A%20%20%20%20%20%20%20%20%0A%0A%20%20%20%20%20%20%20%20marker_ba63f2dfd3d74ef6b603d21bf9242cda.bindPopup%28popup_b522b28d956e4a17ba3d0c6118abadcf%29%0A%20%20%20%20%20%20%20%20%3B%0A%0A%20%20%20%20%20%20%20%20%0A%20%20%20%20%0A%20%20%20%20%0A%20%20%20%20%20%20%20%20%20%20%20%20var%20marker_8054b247e13944648326567455031aa3%20%3D%20L.marker%28%0A%20%20%20%20%20%20%20%20%20%20%20%20%20%20%20%20%5B33.704538%2C%20-118.668404%5D%2C%0A%20%20%20%20%20%20%20%20%20%20%20%20%20%20%20%20%7B%7D%0A%20%20%20%20%20%20%20%20%20%20%20%20%29.addTo%28map_ae0ec15a99184ac0acd523eebfdb0483%29%3B%0A%20%20%20%20%20%20%20%20%0A%20%20%20%20%0A%20%20%20%20%20%20%20%20%20%20%20%20var%20icon_3552d2bd834d41bb9fee574e073e0a45%20%3D%20L.AwesomeMarkers.icon%28%0A%20%20%20%20%20%20%20%20%20%20%20%20%20%20%20%20%7B%22extraClasses%22%3A%20%22fa-rotate-0%22%2C%20%22icon%22%3A%20%22glyphicon-thumbs-up%22%2C%20%22iconColor%22%3A%20%22white%22%2C%20%22markerColor%22%3A%20%22lightgreen%22%2C%20%22prefix%22%3A%20%22glyphicon%22%7D%0A%20%20%20%20%20%20%20%20%20%20%20%20%29%3B%0A%20%20%20%20%20%20%20%20%20%20%20%20marker_8054b247e13944648326567455031aa3.setIcon%28icon_3552d2bd834d41bb9fee574e073e0a45%29%3B%0A%20%20%20%20%20%20%20%20%0A%20%20%20%20%0A%20%20%20%20%20%20%20%20var%20popup_0e8221251b2e4d108e7faa97e2a321d2%20%3D%20L.popup%28%7B%22maxWidth%22%3A%20%22100%25%22%7D%29%3B%0A%0A%20%20%20%20%20%20%20%20%0A%20%20%20%20%20%20%20%20%20%20%20%20var%20html_4838bd7d198146dbbc91a066ef43fefa%20%3D%20%24%28%60%3Cdiv%20id%3D%22html_4838bd7d198146dbbc91a066ef43fefa%22%20style%3D%22width%3A%20100.0%25%3B%20height%3A%20100.0%25%3B%22%3ELos%20Angeles%20polarity%20for%20the%20term%20%22joe%20rogan%22%20is%3A%200.051899386724386716%3C/div%3E%60%29%5B0%5D%3B%0A%20%20%20%20%20%20%20%20%20%20%20%20popup_0e8221251b2e4d108e7faa97e2a321d2.setContent%28html_4838bd7d198146dbbc91a066ef43fefa%29%3B%0A%20%20%20%20%20%20%20%20%0A%0A%20%20%20%20%20%20%20%20marker_8054b247e13944648326567455031aa3.bindPopup%28popup_0e8221251b2e4d108e7faa97e2a321d2%29%0A%20%20%20%20%20%20%20%20%3B%0A%0A%20%20%20%20%20%20%20%20%0A%20%20%20%20%0A%20%20%20%20%0A%20%20%20%20%20%20%20%20%20%20%20%20var%20marker_64125822b8e04238bdf71a164e41d96c%20%3D%20L.marker%28%0A%20%20%20%20%20%20%20%20%20%20%20%20%20%20%20%20%5B41.644102%2C%20-87.940033%5D%2C%0A%20%20%20%20%20%20%20%20%20%20%20%20%20%20%20%20%7B%7D%0A%20%20%20%20%20%20%20%20%20%20%20%20%29.addTo%28map_ae0ec15a99184ac0acd523eebfdb0483%29%3B%0A%20%20%20%20%20%20%20%20%0A%20%20%20%20%0A%20%20%20%20%20%20%20%20%20%20%20%20var%20icon_611432f298fe4c7e8fcb3a52adfd34d4%20%3D%20L.AwesomeMarkers.icon%28%0A%20%20%20%20%20%20%20%20%20%20%20%20%20%20%20%20%7B%22extraClasses%22%3A%20%22fa-rotate-0%22%2C%20%22icon%22%3A%20%22glyphicon-thumbs-up%22%2C%20%22iconColor%22%3A%20%22white%22%2C%20%22markerColor%22%3A%20%22lightgreen%22%2C%20%22prefix%22%3A%20%22glyphicon%22%7D%0A%20%20%20%20%20%20%20%20%20%20%20%20%29%3B%0A%20%20%20%20%20%20%20%20%20%20%20%20marker_64125822b8e04238bdf71a164e41d96c.setIcon%28icon_611432f298fe4c7e8fcb3a52adfd34d4%29%3B%0A%20%20%20%20%20%20%20%20%0A%20%20%20%20%0A%20%20%20%20%20%20%20%20var%20popup_ad39aa3d77ce4b39a01d2befbfa649e5%20%3D%20L.popup%28%7B%22maxWidth%22%3A%20%22100%25%22%7D%29%3B%0A%0A%20%20%20%20%20%20%20%20%0A%20%20%20%20%20%20%20%20%20%20%20%20var%20html_9e71bc4087a141a5bd5779abf7af188d%20%3D%20%24%28%60%3Cdiv%20id%3D%22html_9e71bc4087a141a5bd5779abf7af188d%22%20style%3D%22width%3A%20100.0%25%3B%20height%3A%20100.0%25%3B%22%3EChicago%20polarity%20for%20the%20term%20%22joe%20rogan%22%20is%3A%200.060352827380952385%3C/div%3E%60%29%5B0%5D%3B%0A%20%20%20%20%20%20%20%20%20%20%20%20popup_ad39aa3d77ce4b39a01d2befbfa649e5.setContent%28html_9e71bc4087a141a5bd5779abf7af188d%29%3B%0A%20%20%20%20%20%20%20%20%0A%0A%20%20%20%20%20%20%20%20marker_64125822b8e04238bdf71a164e41d96c.bindPopup%28popup_ad39aa3d77ce4b39a01d2befbfa649e5%29%0A%20%20%20%20%20%20%20%20%3B%0A%0A%20%20%20%20%20%20%20%20%0A%20%20%20%20%0A%20%20%20%20%0A%20%20%20%20%20%20%20%20%20%20%20%20var%20marker_51942ec9237949299bbd2854e759efe6%20%3D%20L.marker%28%0A%20%20%20%20%20%20%20%20%20%20%20%20%20%20%20%20%5B40.570842%2C%20-74.041878%5D%2C%0A%20%20%20%20%20%20%20%20%20%20%20%20%20%20%20%20%7B%7D%0A%20%20%20%20%20%20%20%20%20%20%20%20%29.addTo%28map_ae0ec15a99184ac0acd523eebfdb0483%29%3B%0A%20%20%20%20%20%20%20%20%0A%20%20%20%20%0A%20%20%20%20%20%20%20%20%20%20%20%20var%20icon_a7396e7cb8c64faa9a949d369a44718c%20%3D%20L.AwesomeMarkers.icon%28%0A%20%20%20%20%20%20%20%20%20%20%20%20%20%20%20%20%7B%22extraClasses%22%3A%20%22fa-rotate-0%22%2C%20%22icon%22%3A%20%22glyphicon-thumbs-up%22%2C%20%22iconColor%22%3A%20%22white%22%2C%20%22markerColor%22%3A%20%22lightgreen%22%2C%20%22prefix%22%3A%20%22glyphicon%22%7D%0A%20%20%20%20%20%20%20%20%20%20%20%20%29%3B%0A%20%20%20%20%20%20%20%20%20%20%20%20marker_51942ec9237949299bbd2854e759efe6.setIcon%28icon_a7396e7cb8c64faa9a949d369a44718c%29%3B%0A%20%20%20%20%20%20%20%20%0A%20%20%20%20%0A%20%20%20%20%20%20%20%20var%20popup_ed50c113796441d7ad7c52294cbd5bfb%20%3D%20L.popup%28%7B%22maxWidth%22%3A%20%22100%25%22%7D%29%3B%0A%0A%20%20%20%20%20%20%20%20%0A%20%20%20%20%20%20%20%20%20%20%20%20var%20html_3deaf255d99c46b1a94ac23b0e39e1fc%20%3D%20%24%28%60%3Cdiv%20id%3D%22html_3deaf255d99c46b1a94ac23b0e39e1fc%22%20style%3D%22width%3A%20100.0%25%3B%20height%3A%20100.0%25%3B%22%3ENew%20York%20polarity%20for%20the%20term%20%22joe%20rogan%22%20is%3A%200.1059071625856782%3C/div%3E%60%29%5B0%5D%3B%0A%20%20%20%20%20%20%20%20%20%20%20%20popup_ed50c113796441d7ad7c52294cbd5bfb.setContent%28html_3deaf255d99c46b1a94ac23b0e39e1fc%29%3B%0A%20%20%20%20%20%20%20%20%0A%0A%20%20%20%20%20%20%20%20marker_51942ec9237949299bbd2854e759efe6.bindPopup%28popup_ed50c113796441d7ad7c52294cbd5bfb%29%0A%20%20%20%20%20%20%20%20%3B%0A%0A%20%20%20%20%20%20%20%20%0A%20%20%20%20%0A%20%20%20%20%0A%20%20%20%20%20%20%20%20%20%20%20%20var%20marker_055f509a92e249cfb4aac79ac0c57785%20%3D%20L.marker%28%0A%20%20%20%20%20%20%20%20%20%20%20%20%20%20%20%20%5B42.227797%2C%20-71.191421%5D%2C%0A%20%20%20%20%20%20%20%20%20%20%20%20%20%20%20%20%7B%7D%0A%20%20%20%20%20%20%20%20%20%20%20%20%29.addTo%28map_ae0ec15a99184ac0acd523eebfdb0483%29%3B%0A%20%20%20%20%20%20%20%20%0A%20%20%20%20%0A%20%20%20%20%20%20%20%20%20%20%20%20var%20icon_bc58bf3b44a8438ca3f0adbb8429cd31%20%3D%20L.AwesomeMarkers.icon%28%0A%20%20%20%20%20%20%20%20%20%20%20%20%20%20%20%20%7B%22extraClasses%22%3A%20%22fa-rotate-0%22%2C%20%22icon%22%3A%20%22glyphicon-thumbs-up%22%2C%20%22iconColor%22%3A%20%22white%22%2C%20%22markerColor%22%3A%20%22lightgreen%22%2C%20%22prefix%22%3A%20%22glyphicon%22%7D%0A%20%20%20%20%20%20%20%20%20%20%20%20%29%3B%0A%20%20%20%20%20%20%20%20%20%20%20%20marker_055f509a92e249cfb4aac79ac0c57785.setIcon%28icon_bc58bf3b44a8438ca3f0adbb8429cd31%29%3B%0A%20%20%20%20%20%20%20%20%0A%20%20%20%20%0A%20%20%20%20%20%20%20%20var%20popup_270ea17c60ff428897e685670afc102a%20%3D%20L.popup%28%7B%22maxWidth%22%3A%20%22100%25%22%7D%29%3B%0A%0A%20%20%20%20%20%20%20%20%0A%20%20%20%20%20%20%20%20%20%20%20%20var%20html_1fe9f2878b6f4bb993c94ca354bce078%20%3D%20%24%28%60%3Cdiv%20id%3D%22html_1fe9f2878b6f4bb993c94ca354bce078%22%20style%3D%22width%3A%20100.0%25%3B%20height%3A%20100.0%25%3B%22%3EBoston%20polarity%20for%20the%20term%20%22joe%20rogan%22%20is%3A%200.030893704906204897%3C/div%3E%60%29%5B0%5D%3B%0A%20%20%20%20%20%20%20%20%20%20%20%20popup_270ea17c60ff428897e685670afc102a.setContent%28html_1fe9f2878b6f4bb993c94ca354bce078%29%3B%0A%20%20%20%20%20%20%20%20%0A%0A%20%20%20%20%20%20%20%20marker_055f509a92e249cfb4aac79ac0c57785.bindPopup%28popup_270ea17c60ff428897e685670afc102a%29%0A%20%20%20%20%20%20%20%20%3B%0A%0A%20%20%20%20%20%20%20%20%0A%20%20%20%20%0A%20%20%20%20%0A%20%20%20%20%20%20%20%20%20%20%20%20var%20marker_363afb5d088646f2a2aab794041bb9f8%20%3D%20L.marker%28%0A%20%20%20%20%20%20%20%20%20%20%20%20%20%20%20%20%5B38.801826%2C%20-77.119401%5D%2C%0A%20%20%20%20%20%20%20%20%20%20%20%20%20%20%20%20%7B%7D%0A%20%20%20%20%20%20%20%20%20%20%20%20%29.addTo%28map_ae0ec15a99184ac0acd523eebfdb0483%29%3B%0A%20%20%20%20%20%20%20%20%0A%20%20%20%20%0A%20%20%20%20%20%20%20%20%20%20%20%20var%20icon_e2f980dcfc8542b8980b7b878f8c4c7b%20%3D%20L.AwesomeMarkers.icon%28%0A%20%20%20%20%20%20%20%20%20%20%20%20%20%20%20%20%7B%22extraClasses%22%3A%20%22fa-rotate-0%22%2C%20%22icon%22%3A%20%22glyphicon-thumbs-down%22%2C%20%22iconColor%22%3A%20%22white%22%2C%20%22markerColor%22%3A%20%22lightred%22%2C%20%22prefix%22%3A%20%22glyphicon%22%7D%0A%20%20%20%20%20%20%20%20%20%20%20%20%29%3B%0A%20%20%20%20%20%20%20%20%20%20%20%20marker_363afb5d088646f2a2aab794041bb9f8.setIcon%28icon_e2f980dcfc8542b8980b7b878f8c4c7b%29%3B%0A%20%20%20%20%20%20%20%20%0A%20%20%20%20%0A%20%20%20%20%20%20%20%20var%20popup_2594bde8638241c593cb7a1864d8112b%20%3D%20L.popup%28%7B%22maxWidth%22%3A%20%22100%25%22%7D%29%3B%0A%0A%20%20%20%20%20%20%20%20%0A%20%20%20%20%20%20%20%20%20%20%20%20var%20html_4d7bc7a403154b2b8f445eb15f27939c%20%3D%20%24%28%60%3Cdiv%20id%3D%22html_4d7bc7a403154b2b8f445eb15f27939c%22%20style%3D%22width%3A%20100.0%25%3B%20height%3A%20100.0%25%3B%22%3EWashington%20polarity%20for%20the%20term%20%22joe%20rogan%22%20is%3A%20-0.0473472582972583%3C/div%3E%60%29%5B0%5D%3B%0A%20%20%20%20%20%20%20%20%20%20%20%20popup_2594bde8638241c593cb7a1864d8112b.setContent%28html_4d7bc7a403154b2b8f445eb15f27939c%29%3B%0A%20%20%20%20%20%20%20%20%0A%0A%20%20%20%20%20%20%20%20marker_363afb5d088646f2a2aab794041bb9f8.bindPopup%28popup_2594bde8638241c593cb7a1864d8112b%29%0A%20%20%20%20%20%20%20%20%3B%0A%0A%20%20%20%20%20%20%20%20%0A%20%20%20%20%0A%20%20%20%20%0A%20%20%20%20%20%20%20%20%20%20%20%20var%20marker_688cd789b9a14c26bfdf8e68ae1b8818%20%3D%20L.marker%28%0A%20%20%20%20%20%20%20%20%20%20%20%20%20%20%20%20%5B25.7751%2C%20-80.1936%5D%2C%0A%20%20%20%20%20%20%20%20%20%20%20%20%20%20%20%20%7B%7D%0A%20%20%20%20%20%20%20%20%20%20%20%20%29.addTo%28map_ae0ec15a99184ac0acd523eebfdb0483%29%3B%0A%20%20%20%20%20%20%20%20%0A%20%20%20%20%0A%20%20%20%20%20%20%20%20%20%20%20%20var%20icon_47380e0b233e40dd8499f34fd4428ced%20%3D%20L.AwesomeMarkers.icon%28%0A%20%20%20%20%20%20%20%20%20%20%20%20%20%20%20%20%7B%22extraClasses%22%3A%20%22fa-rotate-0%22%2C%20%22icon%22%3A%20%22glyphicon-thumbs-up%22%2C%20%22iconColor%22%3A%20%22white%22%2C%20%22markerColor%22%3A%20%22lightgreen%22%2C%20%22prefix%22%3A%20%22glyphicon%22%7D%0A%20%20%20%20%20%20%20%20%20%20%20%20%29%3B%0A%20%20%20%20%20%20%20%20%20%20%20%20marker_688cd789b9a14c26bfdf8e68ae1b8818.setIcon%28icon_47380e0b233e40dd8499f34fd4428ced%29%3B%0A%20%20%20%20%20%20%20%20%0A%20%20%20%20%0A%20%20%20%20%20%20%20%20var%20popup_7342860f8c3e450c870f4195087e5792%20%3D%20L.popup%28%7B%22maxWidth%22%3A%20%22100%25%22%7D%29%3B%0A%0A%20%20%20%20%20%20%20%20%0A%20%20%20%20%20%20%20%20%20%20%20%20var%20html_19040ce9080a40e09230c5ae28d29935%20%3D%20%24%28%60%3Cdiv%20id%3D%22html_19040ce9080a40e09230c5ae28d29935%22%20style%3D%22width%3A%20100.0%25%3B%20height%3A%20100.0%25%3B%22%3EMiami%20polarity%20for%20the%20term%20%22joe%20rogan%22%20is%3A%200.0857659632034632%3C/div%3E%60%29%5B0%5D%3B%0A%20%20%20%20%20%20%20%20%20%20%20%20popup_7342860f8c3e450c870f4195087e5792.setContent%28html_19040ce9080a40e09230c5ae28d29935%29%3B%0A%20%20%20%20%20%20%20%20%0A%0A%20%20%20%20%20%20%20%20marker_688cd789b9a14c26bfdf8e68ae1b8818.bindPopup%28popup_7342860f8c3e450c870f4195087e5792%29%0A%20%20%20%20%20%20%20%20%3B%0A%0A%20%20%20%20%20%20%20%20%0A%20%20%20%20%0A%20%20%20%20%0A%20%20%20%20%20%20%20%20%20%20%20%20var%20marker_cedbf749c58d4e0f80aa91d42d320a9c%20%3D%20L.marker%28%0A%20%20%20%20%20%20%20%20%20%20%20%20%20%20%20%20%5B39.614151%2C%20-105.109815%5D%2C%0A%20%20%20%20%20%20%20%20%20%20%20%20%20%20%20%20%7B%7D%0A%20%20%20%20%20%20%20%20%20%20%20%20%29.addTo%28map_ae0ec15a99184ac0acd523eebfdb0483%29%3B%0A%20%20%20%20%20%20%20%20%0A%20%20%20%20%0A%20%20%20%20%20%20%20%20%20%20%20%20var%20icon_8f2fe2e067664278976c6e476ba880c9%20%3D%20L.AwesomeMarkers.icon%28%0A%20%20%20%20%20%20%20%20%20%20%20%20%20%20%20%20%7B%22extraClasses%22%3A%20%22fa-rotate-0%22%2C%20%22icon%22%3A%20%22glyphicon-thumbs-down%22%2C%20%22iconColor%22%3A%20%22white%22%2C%20%22markerColor%22%3A%20%22lightred%22%2C%20%22prefix%22%3A%20%22glyphicon%22%7D%0A%20%20%20%20%20%20%20%20%20%20%20%20%29%3B%0A%20%20%20%20%20%20%20%20%20%20%20%20marker_cedbf749c58d4e0f80aa91d42d320a9c.setIcon%28icon_8f2fe2e067664278976c6e476ba880c9%29%3B%0A%20%20%20%20%20%20%20%20%0A%20%20%20%20%0A%20%20%20%20%20%20%20%20var%20popup_e00559497fc54d6c94839156f4f46c50%20%3D%20L.popup%28%7B%22maxWidth%22%3A%20%22100%25%22%7D%29%3B%0A%0A%20%20%20%20%20%20%20%20%0A%20%20%20%20%20%20%20%20%20%20%20%20var%20html_9c03f8dc26394ffaadfd15e3802382c7%20%3D%20%24%28%60%3Cdiv%20id%3D%22html_9c03f8dc26394ffaadfd15e3802382c7%22%20style%3D%22width%3A%20100.0%25%3B%20height%3A%20100.0%25%3B%22%3EDenver%20polarity%20for%20the%20term%20%22joe%20rogan%22%20is%3A%20-0.017615283790283782%3C/div%3E%60%29%5B0%5D%3B%0A%20%20%20%20%20%20%20%20%20%20%20%20popup_e00559497fc54d6c94839156f4f46c50.setContent%28html_9c03f8dc26394ffaadfd15e3802382c7%29%3B%0A%20%20%20%20%20%20%20%20%0A%0A%20%20%20%20%20%20%20%20marker_cedbf749c58d4e0f80aa91d42d320a9c.bindPopup%28popup_e00559497fc54d6c94839156f4f46c50%29%0A%20%20%20%20%20%20%20%20%3B%0A%0A%20%20%20%20%20%20%20%20%0A%20%20%20%20%0A%3C/script%3E onload=\"this.contentDocument.open();this.contentDocument.write(    decodeURIComponent(this.getAttribute('data-html')));this.contentDocument.close();\" allowfullscreen webkitallowfullscreen mozallowfullscreen></iframe></div></div>"
      ],
      "text/plain": [
       "<folium.folium.Map at 0x7fa0b2b4df70>"
      ]
     },
     "execution_count": 65,
     "metadata": {},
     "output_type": "execute_result"
    }
   ],
   "source": [
    "query = \"joe rogan\"\n",
    "num_tweets = 50 #determines accuracy\n",
    "\n",
    "rogan = folium.Map(location=[ 45.5236,-80.6750],\n",
    "                        tiles=\"Stamen Toner\",\n",
    "                        zoom_start=3)\n",
    "\n",
    "city_list = ['Vancouver',\n",
    "             'Boise',\n",
    "             'Seattle',\n",
    "             'Portland',\n",
    "             'Corvallis',\n",
    "             'Oakland',\n",
    "             'Bend',\n",
    "             'Astoria',\n",
    "             'Springfield OR',\n",
    "             'Los Angeles',\n",
    "             'Chicago',\n",
    "             'New York',\n",
    "             'Boston',\n",
    "             'Washington',\n",
    "             'Miami',\n",
    "             'Denver']\n",
    "\n",
    "\n",
    "def analyze_city(city_name, query, map_name): \n",
    "\n",
    "    print(\"Scraping \"+ city_name + \" tweets\")\n",
    "    city_obj = city(city_name) #75 new cities every 15 minutes\n",
    "    \n",
    "    print(\"Calculating \"+ city_name + \" sentiment\")\n",
    "    evaluate_city(city_obj,query, num_tweets)\n",
    "    \n",
    "    print(\"Prepping \"+ city_name + \" marker \\n\")\n",
    "    marker_maker(city_obj, map_name)\n",
    "\n",
    "    \n",
    "    \n",
    "for item in city_list:\n",
    "    try:\n",
    "        analyze_city(item, query, rogan)\n",
    "    except:\n",
    "        print(\"SNScraper error - skipping city \\n\")\n",
    "        next\n",
    "    \n",
    "cascadia\n",
    "\n",
    "\n"
   ]
  },
  {
   "cell_type": "code",
   "execution_count": 24,
   "id": "24377d4c",
   "metadata": {},
   "outputs": [],
   "source": [
    "pdx.derive_tweets(\"river\",550)"
   ]
  },
  {
   "cell_type": "code",
   "execution_count": 25,
   "id": "dba5b07e",
   "metadata": {},
   "outputs": [],
   "source": [
    "pdx.preprocess_tweets()\n",
    "pdx.derive_sentiment()\n"
   ]
  },
  {
   "cell_type": "code",
   "execution_count": 26,
   "id": "5a6764d4",
   "metadata": {},
   "outputs": [
    {
     "data": {
      "text/plain": [
       "0.09578201105070527"
      ]
     },
     "execution_count": 26,
     "metadata": {},
     "output_type": "execute_result"
    }
   ],
   "source": [
    "pdx.df\n",
    "pdx.polarity"
   ]
  },
  {
   "cell_type": "code",
   "execution_count": 27,
   "id": "78a76ccb",
   "metadata": {},
   "outputs": [
    {
     "data": {
      "text/plain": [
       "'24a53a1880093fa9'"
      ]
     },
     "execution_count": 27,
     "metadata": {},
     "output_type": "execute_result"
    }
   ],
   "source": [
    "pdx.place_id\n"
   ]
  },
  {
   "cell_type": "code",
   "execution_count": 28,
   "id": "47a07070",
   "metadata": {},
   "outputs": [
    {
     "data": {
      "text/html": [
       "<div>\n",
       "<style scoped>\n",
       "    .dataframe tbody tr th:only-of-type {\n",
       "        vertical-align: middle;\n",
       "    }\n",
       "\n",
       "    .dataframe tbody tr th {\n",
       "        vertical-align: top;\n",
       "    }\n",
       "\n",
       "    .dataframe thead th {\n",
       "        text-align: right;\n",
       "    }\n",
       "</style>\n",
       "<table border=\"1\" class=\"dataframe\">\n",
       "  <thead>\n",
       "    <tr style=\"text-align: right;\">\n",
       "      <th></th>\n",
       "      <th>date</th>\n",
       "      <th>coordinates</th>\n",
       "      <th>user</th>\n",
       "      <th>content</th>\n",
       "      <th>Processed Tweet</th>\n",
       "      <th>Polarity</th>\n",
       "      <th>Subjectivity</th>\n",
       "    </tr>\n",
       "  </thead>\n",
       "  <tbody>\n",
       "    <tr>\n",
       "      <th>0</th>\n",
       "      <td>2022-02-18 20:01:52+00:00</td>\n",
       "      <td>{'longitude': -80.389019, 'latitude': 35.9341262}</td>\n",
       "      <td>{'username': 'H00LiGAN_ROBB', 'id': 572655955,...</td>\n",
       "      <td>\"Get me Drinking that Moonshine\\nGet me Higher...</td>\n",
       "      <td>\"Get Drinking Moonshine Get Higher Grocery~Bil...</td>\n",
       "      <td>0.250000</td>\n",
       "      <td>0.700000</td>\n",
       "    </tr>\n",
       "    <tr>\n",
       "      <th>1</th>\n",
       "      <td>2022-01-29 10:49:43+00:00</td>\n",
       "      <td>{'longitude': -80.389019, 'latitude': 35.9341262}</td>\n",
       "      <td>{'username': 'H00LiGAN_ROBB', 'id': 572655955,...</td>\n",
       "      <td>\"been Dranking that Moonshine,\\nGet me Higher ...</td>\n",
       "      <td>\"been Dranking Moonshine, Get Higher Grocery~B...</td>\n",
       "      <td>0.108333</td>\n",
       "      <td>0.605952</td>\n",
       "    </tr>\n",
       "    <tr>\n",
       "      <th>2</th>\n",
       "      <td>2022-01-28 19:52:22+00:00</td>\n",
       "      <td>{'longitude': -80.389019, 'latitude': 35.9341262}</td>\n",
       "      <td>{'username': 'ohshitbigdraco', 'id': 100650008...</td>\n",
       "      <td>@one_tooth_down Illegal lobster fights at the ...</td>\n",
       "      <td>@one_tooth_down Illegal lobster fight river???</td>\n",
       "      <td>-0.500000</td>\n",
       "      <td>0.500000</td>\n",
       "    </tr>\n",
       "    <tr>\n",
       "      <th>3</th>\n",
       "      <td>2022-01-22 23:39:11+00:00</td>\n",
       "      <td>{'longitude': -80.31282243, 'latitude': 36.115...</td>\n",
       "      <td>{'username': 'stuepperson', 'id': 2336164251, ...</td>\n",
       "      <td>Just posted a photo @ River Birch Lodge https:...</td>\n",
       "      <td>Just posted photo @ River Birch Lodge https://...</td>\n",
       "      <td>0.000000</td>\n",
       "      <td>0.000000</td>\n",
       "    </tr>\n",
       "    <tr>\n",
       "      <th>4</th>\n",
       "      <td>2022-01-22 04:50:07+00:00</td>\n",
       "      <td>{'longitude': -80.389019, 'latitude': 35.9341262}</td>\n",
       "      <td>{'username': 'hmk_des', 'id': 22109537, 'displ...</td>\n",
       "      <td>@netflix Virgin River and Bridgerton are the o...</td>\n",
       "      <td>@netflix Virgin River Bridgerton one I watch w...</td>\n",
       "      <td>0.000000</td>\n",
       "      <td>0.000000</td>\n",
       "    </tr>\n",
       "  </tbody>\n",
       "</table>\n",
       "</div>"
      ],
      "text/plain": [
       "                       date  \\\n",
       "0 2022-02-18 20:01:52+00:00   \n",
       "1 2022-01-29 10:49:43+00:00   \n",
       "2 2022-01-28 19:52:22+00:00   \n",
       "3 2022-01-22 23:39:11+00:00   \n",
       "4 2022-01-22 04:50:07+00:00   \n",
       "\n",
       "                                         coordinates  \\\n",
       "0  {'longitude': -80.389019, 'latitude': 35.9341262}   \n",
       "1  {'longitude': -80.389019, 'latitude': 35.9341262}   \n",
       "2  {'longitude': -80.389019, 'latitude': 35.9341262}   \n",
       "3  {'longitude': -80.31282243, 'latitude': 36.115...   \n",
       "4  {'longitude': -80.389019, 'latitude': 35.9341262}   \n",
       "\n",
       "                                                user  \\\n",
       "0  {'username': 'H00LiGAN_ROBB', 'id': 572655955,...   \n",
       "1  {'username': 'H00LiGAN_ROBB', 'id': 572655955,...   \n",
       "2  {'username': 'ohshitbigdraco', 'id': 100650008...   \n",
       "3  {'username': 'stuepperson', 'id': 2336164251, ...   \n",
       "4  {'username': 'hmk_des', 'id': 22109537, 'displ...   \n",
       "\n",
       "                                             content  \\\n",
       "0  \"Get me Drinking that Moonshine\\nGet me Higher...   \n",
       "1  \"been Dranking that Moonshine,\\nGet me Higher ...   \n",
       "2  @one_tooth_down Illegal lobster fights at the ...   \n",
       "3  Just posted a photo @ River Birch Lodge https:...   \n",
       "4  @netflix Virgin River and Bridgerton are the o...   \n",
       "\n",
       "                                     Processed Tweet  Polarity  Subjectivity  \n",
       "0  \"Get Drinking Moonshine Get Higher Grocery~Bil...  0.250000      0.700000  \n",
       "1  \"been Dranking Moonshine, Get Higher Grocery~B...  0.108333      0.605952  \n",
       "2     @one_tooth_down Illegal lobster fight river??? -0.500000      0.500000  \n",
       "3  Just posted photo @ River Birch Lodge https://...  0.000000      0.000000  \n",
       "4  @netflix Virgin River Bridgerton one I watch w...  0.000000      0.000000  "
      ]
     },
     "execution_count": 28,
     "metadata": {},
     "output_type": "execute_result"
    }
   ],
   "source": [
    "pdx.df.head()"
   ]
  },
  {
   "cell_type": "code",
   "execution_count": 29,
   "id": "76b22dc4",
   "metadata": {},
   "outputs": [
    {
     "data": {
      "text/plain": [
       "'Peaceful, Pre-thanksgiving supper rest crazy crowd get here. #grateful #girldad #family #thanksgiving #godisgood @ River Birch Lodge https://t.co/bjaooNfHv0'"
      ]
     },
     "execution_count": 29,
     "metadata": {},
     "output_type": "execute_result"
    }
   ],
   "source": [
    "pdx.df.iloc[10,4]\n"
   ]
  },
  {
   "cell_type": "code",
   "execution_count": 30,
   "id": "376e0a7f",
   "metadata": {},
   "outputs": [
    {
     "data": {
      "text/plain": [
       "'Peaceful, Pre-thanksgiving supper before the rest of our crazy crowd gets here. #grateful #girldad #family #thanksgiving #godisgood @ River Birch Lodge https://t.co/bjaooNfHv0'"
      ]
     },
     "execution_count": 30,
     "metadata": {},
     "output_type": "execute_result"
    }
   ],
   "source": [
    "pdx.df.iloc[10,3]"
   ]
  },
  {
   "cell_type": "code",
   "execution_count": 31,
   "id": "08f68c12",
   "metadata": {},
   "outputs": [
    {
     "data": {
      "text/plain": [
       "-0.175"
      ]
     },
     "execution_count": 31,
     "metadata": {},
     "output_type": "execute_result"
    }
   ],
   "source": [
    "pdx.df.iloc[10,5]"
   ]
  },
  {
   "cell_type": "code",
   "execution_count": null,
   "id": "a3834d37",
   "metadata": {},
   "outputs": [],
   "source": []
  }
 ],
 "metadata": {
  "kernelspec": {
   "display_name": "Python 3 (ipykernel)",
   "language": "python",
   "name": "python3"
  },
  "language_info": {
   "codemirror_mode": {
    "name": "ipython",
    "version": 3
   },
   "file_extension": ".py",
   "mimetype": "text/x-python",
   "name": "python",
   "nbconvert_exporter": "python",
   "pygments_lexer": "ipython3",
   "version": "3.9.7"
  }
 },
 "nbformat": 4,
 "nbformat_minor": 5
}
